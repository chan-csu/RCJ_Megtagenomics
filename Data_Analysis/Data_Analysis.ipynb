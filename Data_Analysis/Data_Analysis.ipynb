{
 "cells": [
  {
   "cell_type": "code",
   "execution_count": 177,
   "metadata": {},
   "outputs": [],
   "source": [
    "import pandas as pd\n",
    "import seaborn as sns\n",
    "import statistics\n",
    "import matplotlib.pyplot as plt\n",
    "import numpy as np\n",
    "from matplotlib.offsetbox import AnchoredText\n",
    "import os\n",
    "import math\n",
    "import plotly.express as px\n",
    "import plotly.graph_objects as go\n",
    "import skbio\n",
    "import numpy\n",
    "import re"
   ]
  },
  {
   "cell_type": "markdown",
   "metadata": {},
   "source": [
    "## Significant Pathways"
   ]
  },
  {
   "cell_type": "code",
   "execution_count": 2,
   "metadata": {},
   "outputs": [],
   "source": [
    "Path_abund=pd.read_csv(\"Merged_Pathabundance_Table_CPM_meta.tsv\",delimiter='\\t')\n",
    "\n",
    "Mapping_dict={}\n",
    "for i in range(Path_abund.shape[0]):\n",
    "    Mapping_dict['X'+str(i)]=Path_abund.iloc[i,0]\n",
    "    Path_abund.iloc[i,0]='X'+str(i)\n",
    "    \n",
    "Path_abund.set_index(['Sample_ID'],inplace=True)\n",
    "Path_abund.to_csv(\"Path_abundance_Temp.tsv\")\n"
   ]
  },
  {
   "cell_type": "code",
   "execution_count": 3,
   "metadata": {},
   "outputs": [],
   "source": [
    "Path_abund.columns=Path_abund.columns.str.replace(\"RCE\",\"RCJ\")"
   ]
  },
  {
   "cell_type": "code",
   "execution_count": 4,
   "metadata": {},
   "outputs": [],
   "source": [
    "Sig_Results=pd.read_csv(\"./Pathways_MaAslin/significant_results.tsv\",delimiter=\"\\t\")\n",
    "Filter_By_pval=(Sig_Results['pval']<0.05)&(Sig_Results['qval']<0.05)\n",
    "Sig_Results= Sig_Results.loc[Filter_By_pval]"
   ]
  },
  {
   "cell_type": "code",
   "execution_count": 5,
   "metadata": {},
   "outputs": [],
   "source": [
    "Sex_Correlated=list(Sig_Results[Sig_Results['metadata']=='Sex']['feature'])\n",
    "Sig_Results=Sig_Results[~Sig_Results['feature'].isin(Sex_Correlated)]\n",
    "Sig_Results[\"feature\"]=Sig_Results[\"feature\"].apply(lambda x:Mapping_dict[x])"
   ]
  },
  {
   "cell_type": "code",
   "execution_count": 6,
   "metadata": {},
   "outputs": [],
   "source": [
    "Sig_Results.to_csv(\"Significant_Pathways_Stats.csv\")"
   ]
  },
  {
   "cell_type": "code",
   "execution_count": 7,
   "metadata": {},
   "outputs": [],
   "source": [
    "Path_abund.reset_index(inplace=True)"
   ]
  },
  {
   "cell_type": "code",
   "execution_count": 8,
   "metadata": {},
   "outputs": [],
   "source": [
    "Path_abund[\"Sample_ID\"]=Path_abund[\"Sample_ID\"].apply(lambda x:Mapping_dict[x])"
   ]
  },
  {
   "cell_type": "code",
   "execution_count": 9,
   "metadata": {},
   "outputs": [],
   "source": [
    "Samples=list(Path_abund.columns[1:-1])\n",
    "Group_Names=[\"Control\",\"DSS\",\"RCJ\",\"RCJ_plus_DSS\"]\n",
    "Group_List=[]\n",
    "for i in Samples:\n",
    "    for j in Group_Names:\n",
    "        if j in i and 'plus' not in i:\n",
    "            Group_List.append(j)\n",
    "            break\n",
    "        elif \"plus\" in i:\n",
    "            Group_List.append(\"RCJ_plus_DSS\")\n",
    "            break\n",
    "\n",
    "group_map={Samples[i]:Group_List[i] for i in range(len(Samples))}\n",
    "group_map[\"Start\"]=\"Start\"\n",
    "Path_abund_lefse=Path_abund.copy()\n",
    "Path_abund_lefse.columns=[group_map.get(i,Path_abund.columns[0]) for i in Path_abund.columns]"
   ]
  },
  {
   "cell_type": "code",
   "execution_count": 10,
   "metadata": {},
   "outputs": [],
   "source": [
    "Path_abund_lefse.set_index(\"Sample_ID\",inplace=True)"
   ]
  },
  {
   "cell_type": "code",
   "execution_count": 11,
   "metadata": {},
   "outputs": [],
   "source": [
    "Path_abund_lefse.to_csv(\"Path_abund_cpm_lefse.csv\")"
   ]
  },
  {
   "cell_type": "code",
   "execution_count": 12,
   "metadata": {},
   "outputs": [],
   "source": [
    "Path_Abund_Filtered=Path_abund[Path_abund[\"Sample_ID\"].isin(Sig_Results[\"feature\"])]\n",
    "Path_Abund_Filtered=Path_Abund_Filtered.reset_index(drop=True)\n"
   ]
  },
  {
   "cell_type": "code",
   "execution_count": 13,
   "metadata": {},
   "outputs": [],
   "source": [
    "Path_Abund_Filtered.to_csv(\"Sig_results_abundance_path.csv\")"
   ]
  },
  {
   "cell_type": "code",
   "execution_count": 14,
   "metadata": {},
   "outputs": [],
   "source": [
    "Path_Abund_Unstratified_Filtered=Path_Abund_Filtered[~Path_Abund_Filtered['Sample_ID'].str.contains('|',regex=False)]\n",
    "Path_Abund_Unstratified_Filtered=Path_Abund_Unstratified_Filtered.reset_index(drop=True)\n",
    "Sig_Results.set_index(\"feature\",inplace=True)"
   ]
  },
  {
   "cell_type": "code",
   "execution_count": 15,
   "metadata": {},
   "outputs": [],
   "source": [
    "pallete=['rgb(150,150,150)','rgb(77,175,74)','rgb(55,126,184)','rgb(152,78,163)']\n",
    "pallete_out=['rgb(150,150,150)','rgb(77,175,74)','rgb(55,126,184)','rgb(152,78,163)']"
   ]
  },
  {
   "cell_type": "code",
   "execution_count": 34,
   "metadata": {},
   "outputs": [],
   "source": [
    "if not os.path.exists('Sig_Plots_Pathways_Unstratified/'):\n",
    "    os.mkdir('Sig_Plots_Pathways_Unstratified/')\n",
    "for pathway in Path_Abund_Unstratified_Filtered[\"Sample_ID\"]:\n",
    "    fig = go.Figure()\n",
    "    temp_df={\"Name\":[],\"Group\":[],\"Abundance\":[],\"Pooled\":[]}\n",
    "    for column in Path_Abund_Unstratified_Filtered.columns[1:-1]:\n",
    "        temp_df[\"Name\"].append(column)\n",
    "        temp_df[\"Group\"].append(group_map[column])\n",
    "        temp_df[\"Abundance\"].append(Path_Abund_Unstratified_Filtered.loc[Path_Abund_Unstratified_Filtered[\"Sample_ID\"]==pathway,column].item())\n",
    "        temp_df[\"Pooled\"].append(True if \"D_\" in column else False)\n",
    "    temp_df=pd.DataFrame(temp_df)\n",
    "    \n",
    "    for index,group in enumerate([\"Control\",\"DSS\",\"RCJ\",\"RCJ_plus_DSS\"]):\n",
    "        fig.add_trace(go.Box(\n",
    "            y=temp_df[temp_df[\"Group\"]==group][\"Abundance\"],\n",
    "            name=group,\n",
    "            boxpoints='all',\n",
    "            jitter=0,\n",
    "            marker_color=pallete[index],\n",
    "            line_color=pallete[index],\n",
    "            whiskerwidth=0.2,\n",
    "            marker_size=10,\n",
    "            line_width=1,\n",
    "        pointpos = 0)\n",
    "        )\n",
    "    fig.add_trace(\n",
    "        go.Scatter(\n",
    "        mode='markers',\n",
    "        x=temp_df[temp_df[\"Pooled\"]==True][\"Group\"],\n",
    "        y=temp_df[(temp_df[\"Pooled\"]==True)][\"Abundance\"],\n",
    "        name=\"Pooled\",\n",
    "        marker=dict(\n",
    "            color='#7f7f7f',\n",
    "            opacity=0.7,\n",
    "            size=12,\n",
    "            line=dict(\n",
    "                color='black',\n",
    "                width=1\n",
    "            )),\n",
    "        marker_symbol=\"cross\"))\n",
    "\n",
    "\n",
    "    fig.update_layout(\n",
    "        title=f'{pathway}',\n",
    "        title_font_size=15,\n",
    "        title_x=0.5,\n",
    "        title_xanchor='center',\n",
    "        template='simple_white',\n",
    "        yaxis=dict(\n",
    "            autorange=True,\n",
    "            showgrid=True,\n",
    "            title={\"text\":\"Pathway Abundance\",\n",
    "                  'font':{\"size\":15}},\n",
    "            gridwidth=1,\n",
    "            showline=True,\n",
    "\n",
    "            \n",
    "        ),\n",
    "        xaxis=dict(\n",
    "            title={\"font\":{\"size\":15},\n",
    "                  \"text\":\"Treatment Group\"},\n",
    "            showgrid=True,\n",
    "            showline=True,\n",
    "\n",
    "        ))\n",
    "    if len(Sig_Results.loc[pathway].shape)>1:\n",
    "        text_stat=f\"Association:{Sig_Results.loc[pathway]['metadata'].iloc[0]}<br>P_value:{Sig_Results.loc[pathway]['pval'].iloc[0]:.1e}<br>Coefficient:{Sig_Results.loc[pathway]['coef'].iloc[0]:.1e}\"\n",
    "    else:\n",
    "        text_stat=f\"Association:{Sig_Results.loc[pathway]['metadata']}<br>P_value:{Sig_Results.loc[pathway]['pval']:.1e}<br>Coefficient:{Sig_Results.loc[pathway]['coef']:.1e}\"\n",
    "    fig.add_annotation(text=text_stat, \n",
    "                    align='left',\n",
    "                    showarrow=False,\n",
    "                    xref='paper',\n",
    "                    yref='paper',\n",
    "                    x=0.01,\n",
    "                    y=1,\n",
    "                    bordercolor='black',\n",
    "                    borderwidth=1)\n",
    "\n",
    "    \n",
    "    fig.write_image(f\"Sig_Plots_Pathways_Unstratified/{pathway}.svg\")\n",
    "\n",
    "\n",
    "    "
   ]
  },
  {
   "cell_type": "code",
   "execution_count": 35,
   "metadata": {},
   "outputs": [],
   "source": [
    "arg=Path_abund[Path_abund[\"Sample_ID\"].str.contains(\"ARGININE-SYN4-PWY: L-ornithine de novo  biosynthesis\")]\n",
    "his=Path_abund[Path_abund[\"Sample_ID\"].str.contains(\"PWY-5030: L-histidine degradation III\")]"
   ]
  },
  {
   "cell_type": "code",
   "execution_count": 39,
   "metadata": {},
   "outputs": [],
   "source": [
    "if not os.path.exists('Sig_Plots_Pathways_Arginine/'):\n",
    "    os.mkdir('Sig_Plots_Pathways_Arginine/')\n",
    "for pathway in arg[\"Sample_ID\"]:\n",
    "    fig = go.Figure()\n",
    "    temp_df={\"Name\":[],\"Group\":[],\"Abundance\":[],\"Pooled\":[]}\n",
    "    for column in arg.columns[1:-1]:\n",
    "        temp_df[\"Name\"].append(column)\n",
    "        temp_df[\"Group\"].append(group_map[column])\n",
    "        temp_df[\"Abundance\"].append(arg.loc[arg[\"Sample_ID\"]==pathway,column].item())\n",
    "        temp_df[\"Pooled\"].append(True if \"D_\" in column else False)\n",
    "    temp_df=pd.DataFrame(temp_df)\n",
    "    \n",
    "    for index,group in enumerate([\"Control\",\"DSS\",\"RCJ\",\"RCJ_plus_DSS\"]):\n",
    "        fig.add_trace(go.Box(\n",
    "            y=temp_df[temp_df[\"Group\"]==group][\"Abundance\"],\n",
    "            name=group,\n",
    "            boxpoints='all',\n",
    "            jitter=0,\n",
    "            marker_color=pallete[index],\n",
    "            line_color=pallete[index],\n",
    "            whiskerwidth=0.2,\n",
    "            marker_size=10,\n",
    "            line_width=1,\n",
    "        pointpos = 0)\n",
    "        )\n",
    "    fig.add_trace(\n",
    "        go.Scatter(\n",
    "        mode='markers',\n",
    "        x=temp_df[temp_df[\"Pooled\"]==True][\"Group\"],\n",
    "        y=temp_df[(temp_df[\"Pooled\"]==True)][\"Abundance\"],\n",
    "        name=\"Pooled\",\n",
    "        marker=dict(\n",
    "            color='#7f7f7f',\n",
    "            opacity=0.7,\n",
    "            size=12,\n",
    "            line=dict(\n",
    "                color='black',\n",
    "                width=1\n",
    "            )),\n",
    "        marker_symbol=\"cross\"))\n",
    "\n",
    "\n",
    "    fig.update_layout(\n",
    "        title=f'{pathway}',\n",
    "        title_font_size=12,\n",
    "        title_x=0.5,\n",
    "        title_xanchor='center',\n",
    "        template='simple_white',\n",
    "        yaxis=dict(\n",
    "            autorange=True,\n",
    "            showgrid=True,\n",
    "            title={\"text\":\"Pathway Abundance\",\n",
    "                  'font':{\"size\":15}},\n",
    "            gridwidth=1,\n",
    "            showline=True,\n",
    "\n",
    "            \n",
    "        ),\n",
    "        xaxis=dict(\n",
    "            title={\"font\":{\"size\":15},\n",
    "                  \"text\":\"Treatment Group\"},\n",
    "            showgrid=True,\n",
    "            showline=True,\n",
    "\n",
    "        ))\n",
    "    fig.write_image(f\"Sig_Plots_Pathways_Arginine/{pathway}.svg\")"
   ]
  },
  {
   "cell_type": "code",
   "execution_count": 40,
   "metadata": {},
   "outputs": [],
   "source": [
    "if not os.path.exists('Sig_Plots_Pathways_Histidine/'):\n",
    "    os.mkdir('Sig_Plots_Pathways_Histidine/')\n",
    "for pathway in his[\"Sample_ID\"]:\n",
    "    fig = go.Figure()\n",
    "    temp_df={\"Name\":[],\"Group\":[],\"Abundance\":[],\"Pooled\":[]}\n",
    "    for column in his.columns[1:-1]:\n",
    "        temp_df[\"Name\"].append(column)\n",
    "        temp_df[\"Group\"].append(group_map[column])\n",
    "        temp_df[\"Abundance\"].append(his.loc[his[\"Sample_ID\"]==pathway,column].item())\n",
    "        temp_df[\"Pooled\"].append(True if \"D_\" in column else False)\n",
    "    temp_df=pd.DataFrame(temp_df)\n",
    "    \n",
    "    for index,group in enumerate([\"Control\",\"DSS\",\"RCJ\",\"RCJ_plus_DSS\"]):\n",
    "        fig.add_trace(go.Box(\n",
    "            y=temp_df[temp_df[\"Group\"]==group][\"Abundance\"],\n",
    "            name=group,\n",
    "            boxpoints='all',\n",
    "            jitter=0,\n",
    "            marker_color=pallete[index],\n",
    "            line_color=pallete[index],\n",
    "            whiskerwidth=0.2,\n",
    "            marker_size=10,\n",
    "            line_width=1,\n",
    "        pointpos = 0)\n",
    "        )\n",
    "    fig.add_trace(\n",
    "        go.Scatter(\n",
    "        mode='markers',\n",
    "        x=temp_df[temp_df[\"Pooled\"]==True][\"Group\"],\n",
    "        y=temp_df[(temp_df[\"Pooled\"]==True)][\"Abundance\"],\n",
    "        name=\"Pooled\",\n",
    "        marker=dict(\n",
    "            color='#7f7f7f',\n",
    "            opacity=0.7,\n",
    "            size=12,\n",
    "            line=dict(\n",
    "                color='black',\n",
    "                width=1\n",
    "            )),\n",
    "        marker_symbol=\"cross\"))\n",
    "\n",
    "    fig.update_layout(\n",
    "        title=f'{pathway}',\n",
    "        title_font_size=12,\n",
    "        title_x=0.5,\n",
    "        title_xanchor='center',\n",
    "        template='simple_white',\n",
    "        yaxis=dict(\n",
    "            autorange=True,\n",
    "            showgrid=True,\n",
    "            title={\"text\":\"Pathway Abundance\",\n",
    "                  'font':{\"size\":15}},\n",
    "            gridwidth=1,\n",
    "            showline=True,\n",
    "\n",
    "            \n",
    "        ),\n",
    "        xaxis=dict(\n",
    "            title={\"font\":{\"size\":15},\n",
    "                  \"text\":\"Treatment Group\"},\n",
    "            showgrid=True,\n",
    "            showline=True,\n",
    "\n",
    "        ))\n",
    "\n",
    "        \n",
    "\n",
    "\n",
    "    \n",
    "    fig.write_image(f\"Sig_Plots_Pathways_Histidine/{pathway}.svg\")"
   ]
  },
  {
   "attachments": {},
   "cell_type": "markdown",
   "metadata": {},
   "source": [
    "## Megan Data"
   ]
  },
  {
   "cell_type": "code",
   "execution_count": 204,
   "metadata": {},
   "outputs": [],
   "source": [
    "megan_species=pd.read_table(\"megan/STAMP/control_vs_DSS_vs_RCE_vs_RCEPlusDSS_species.tsv\",delimiter=\"\\t\")\n",
    "megan_species[\"Taxonomy\"]=megan_species[megan_species.columns[:7]].apply(lambda x: \"|\".join(x.dropna().values.tolist()),axis=1)\n",
    "megan_species_stat=megan_species[[\"Taxonomy\",\"p-values (corrected)\"]]"
   ]
  },
  {
   "cell_type": "code",
   "execution_count": 193,
   "metadata": {},
   "outputs": [],
   "source": [
    "taxa_cols=[\"Taxonomy\"]\n",
    "taxa_cols=taxa_cols+[col for col in megan_species.columns if \"rel. freq. (%)\" in col]"
   ]
  },
  {
   "cell_type": "code",
   "execution_count": 194,
   "metadata": {},
   "outputs": [],
   "source": [
    "rel_freqs=megan_species[taxa_cols]"
   ]
  },
  {
   "cell_type": "code",
   "execution_count": 195,
   "metadata": {},
   "outputs": [
    {
     "name": "stderr",
     "output_type": "stream",
     "text": [
      "/var/folders/jk/fr50qn391k794svhntbw333c0000gn/T/ipykernel_83894/3050646591.py:4: SettingWithCopyWarning:\n",
      "\n",
      "\n",
      "A value is trying to be set on a copy of a slice from a DataFrame\n",
      "\n",
      "See the caveats in the documentation: https://pandas.pydata.org/pandas-docs/stable/user_guide/indexing.html#returning-a-view-versus-a-copy\n",
      "\n"
     ]
    }
   ],
   "source": [
    "rel_freqs.columns=[i.replace(\": rel. freq. (%)\",\"\").strip() for i in rel_freqs.columns]\n",
    "rel_freqs.columns=[i.replace(\"RCE\",\"RCJ\") for i in rel_freqs.columns]\n",
    "rel_freqs_=rel_freqs.copy()\n",
    "rel_freqs.drop([i for i in rel_freqs.columns if \"mean rel. freq.\" in i],axis=1,inplace=True)\n"
   ]
  },
  {
   "cell_type": "code",
   "execution_count": 316,
   "metadata": {},
   "outputs": [],
   "source": [
    "Taxa=[\n",
    "    'k__Bacteria|p__Bacteroidetes|c__Bacteroidia|o__Bacteroidales|f__Muribaculaceae|g__Muribaculum|s__Muribaculum intestinale',\n",
    "    'k__Bacteria|p__Bacteroidetes|c__Bacteroidia|o__Bacteroidales|f__Bacteroidaceae|g__Bacteroides|s__Bacteroides sp. CAG:927',\n",
    "    'k__Bacteria|p__Firmicutes|c__Clostridia|o__Clostridiales|f__Lachnospiraceae|g__Dorea|s__Dorea sp. 5-2',\n",
    "    'k__Bacteria|p__Firmicutes|c__Clostridia|o__Clostridiales|f__Oscillospiraceae|g__Oscillibacter|s__Oscillibacter sp. 1-3',\n",
    "    'k__Bacteria|p__Firmicutes|c__Clostridia|o__Clostridiales|f__Lachnospiraceae|g__(Lachnospiraceae bacterium 10-1)|s__Lachnospiraceae bacterium 10-1',\n",
    "    'k__Bacteria|p__Firmicutes|c__Clostridia|o__Clostridiales|f__Lachnospiraceae|g__Acetatifactor|s__Acetatifactor muris',\n",
    "    'k__Bacteria|p__Firmicutes|c__Clostridia|o__Clostridiales|f__Lachnospiraceae|g__Roseburia|s__(Roseburia)',\n",
    "    'k__Bacteria|p__Bacteroidetes|c__Bacteroidia|o__Bacteroidales|f__Bacteroidaceae|g__Bacteroides|s__Bacteroides sartorii',\n",
    "    'k__Bacteria|p__Firmicutes|c__Clostridia|o__Clostridiales|f__Ruminococcaceae|g__Faecalibacterium|s__(Faecalibacterium)',\n",
    "    \"k__Bacteria|p__Firmicutes|c__Clostridia|o__Clostridiales|f__Eubacteriaceae|g__Eubacterium|s__Eubacterium plexicaudatum\", \n",
    "    \"k__Bacteria|p__Bacteroidetes|c__Bacteroidia|o__Bacteroidales|f__Bacteroidaceae|g__Bacteroides|s__Bacteroides caecimuris\"   ]\n"
   ]
  },
  {
   "cell_type": "code",
   "execution_count": 324,
   "metadata": {},
   "outputs": [
    {
     "data": {
      "text/plain": [
       "'k__Bacteria|p__Bacteroidetes|c__Bacteroidia|o__Bacteroidales|f__Bacteroidaceae|g__Bacteroides|s__Bacteroides caecimuris'"
      ]
     },
     "execution_count": 324,
     "metadata": {},
     "output_type": "execute_result"
    }
   ],
   "source": [
    "rel_freqs_[rel_freqs[\"Taxonomy\"].str.contains(\"caecimuris\")][\"Taxonomy\"][115]\n"
   ]
  },
  {
   "cell_type": "code",
   "execution_count": 317,
   "metadata": {},
   "outputs": [],
   "source": [
    "if not os.path.exists(\"megan/sig_species_plots/\"):   \n",
    "    os.mkdir(\"megan/sig_species_plots/\")\n",
    "for taxon in Taxa:\n",
    "    fig = go.Figure()\n",
    "    temp_df={\"Name\":[],\"Group\":[],\"Abundance\":[],\"Pooled\":[]}\n",
    "    for column in rel_freqs.columns[1:]:\n",
    "        temp_df[\"Name\"].append(column)\n",
    "        temp_df[\"Group\"].append(group_map[column])\n",
    "        temp_df[\"Abundance\"].append(rel_freqs.loc[rel_freqs[\"Taxonomy\"]==taxon,column].item())\n",
    "        temp_df[\"Pooled\"].append(True if \"D_\" in column else False)\n",
    "    temp_df=pd.DataFrame(temp_df)\n",
    "    \n",
    "    for index,group in enumerate([\"Control\",\"DSS\",\"RCJ\",\"RCJ_plus_DSS\"]):\n",
    "        fig.add_trace(go.Box(\n",
    "            y=temp_df[temp_df[\"Group\"]==group][\"Abundance\"],\n",
    "            name=group,\n",
    "            boxpoints='all',\n",
    "            jitter=0,\n",
    "            marker_color=pallete[index],\n",
    "            line_color=pallete[index],\n",
    "            whiskerwidth=0.2,\n",
    "            marker_size=10,\n",
    "            line_width=1,\n",
    "        pointpos = 0)\n",
    "        )\n",
    "    fig.add_trace(\n",
    "        go.Scatter(\n",
    "        mode='markers',\n",
    "        x=temp_df[temp_df[\"Pooled\"]==True][\"Group\"],\n",
    "        y=temp_df[(temp_df[\"Pooled\"]==True)][\"Abundance\"],\n",
    "        name=\"Pooled\",\n",
    "        marker=dict(\n",
    "            color='#7f7f7f',\n",
    "            opacity=0.7,\n",
    "            size=12,\n",
    "            line=dict(\n",
    "                color='black',\n",
    "                width=1\n",
    "            )),\n",
    "        marker_symbol=\"cross\"))\n",
    "\n",
    "    fig.update_layout(\n",
    "        title=\" \".join([re.sub(\"[a-z]__\",\"\",i) for i in taxon.split(\"|\")[-1:]]),\n",
    "        width=500,\n",
    "        height=560,\n",
    "        title_font_size=15,\n",
    "        title_x=0.5,\n",
    "        title_xanchor='center',\n",
    "        template='simple_white',\n",
    "        yaxis=dict(\n",
    "            autorange=True,\n",
    "            showgrid=True,\n",
    "            title={\"text\":\"Species Relative Abundance\",\n",
    "                  'font':{\"size\":15}},\n",
    "            gridwidth=1,\n",
    "            showline=True,\n",
    "\n",
    "            \n",
    "        ),\n",
    "        xaxis=dict(\n",
    "            title={\"font\":{\"size\":15},\n",
    "                  \"text\":\"Treatment Group\"},\n",
    "            showgrid=True,\n",
    "            showline=True,\n",
    "\n",
    "        ))\n",
    "\n",
    "\n",
    "    fig.add_annotation(text=f\"p-value: {megan_species_stat.loc[megan_species_stat['Taxonomy']==taxon,'p-values (corrected)'].item():.2e}\",\n",
    "                    align='left',\n",
    "                    showarrow=False,\n",
    "                    xref='paper',\n",
    "                    yref='paper',\n",
    "                    x=0.01,\n",
    "                    y=1.05,\n",
    "                    bordercolor='black',\n",
    "                    borderwidth=1)\n",
    "    fig.write_image(f\"megan/sig_species_plots/{taxon}.svg\")"
   ]
  },
  {
   "cell_type": "code",
   "execution_count": 211,
   "metadata": {},
   "outputs": [
    {
     "data": {
      "text/plain": [
       "Index(['Taxonomy', 'Control_327', 'Control_328', 'Control_330', 'DSS_334',\n",
       "       'DSS_339', 'DSS_treatedp', 'RCJ_318', 'RCJ_319', 'RCJ_322',\n",
       "       'RCJ_plus_DSS_301', 'RCJ_plus_DSS_305', 'RCJ_plus_DSS_313'],\n",
       "      dtype='object')"
      ]
     },
     "execution_count": 211,
     "metadata": {},
     "output_type": "execute_result"
    }
   ],
   "source": [
    "rel_freqs.columns"
   ]
  },
  {
   "cell_type": "markdown",
   "metadata": {},
   "source": [
    "## Metaphlan diversity analysis "
   ]
  },
  {
   "cell_type": "code",
   "execution_count": 30,
   "metadata": {},
   "outputs": [],
   "source": [
    "arg=Path_abund[Path_abund[\"Sample_ID\"].str.contains(\"ARGININE-SYN4-PWY: L-ornithine de novo  biosynthesis\")]\n",
    "his=Path_abund[Path_abund[\"Sample_ID\"].str.contains(\"PWY-5030: L-histidine degradation III\")]"
   ]
  },
  {
   "cell_type": "code",
   "execution_count": 31,
   "metadata": {},
   "outputs": [],
   "source": [
    "if not os.path.exists('Sig_Plots_Pathways_Histidine/'):\n",
    "    os.mkdir('Sig_Plots_Pathways_Histidine/')\n",
    "for pathway in his[\"Sample_ID\"]:\n",
    "    fig = go.Figure()\n",
    "    temp_df={\"Name\":[],\"Group\":[],\"Abundance\":[],\"Pooled\":[]}\n",
    "    for column in his.columns[1:-1]:\n",
    "        temp_df[\"Name\"].append(column)\n",
    "        temp_df[\"Group\"].append(group_map[column])\n",
    "        temp_df[\"Abundance\"].append(his.loc[his[\"Sample_ID\"]==pathway,column].item())\n",
    "        temp_df[\"Pooled\"].append(True if \"D_\" in column else False)\n",
    "    temp_df=pd.DataFrame(temp_df)\n",
    "    \n",
    "    for index,group in enumerate([\"Control\",\"DSS\",\"RCJ\",\"RCJ_plus_DSS\"]):\n",
    "        fig.add_trace(go.Box(\n",
    "            y=temp_df[temp_df[\"Group\"]==group][\"Abundance\"],\n",
    "            name=group,\n",
    "            boxpoints='all',\n",
    "            jitter=0,\n",
    "            marker_color=pallete[index],\n",
    "            line_color=pallete[index],\n",
    "            whiskerwidth=0.2,\n",
    "            marker_size=10,\n",
    "            line_width=1,\n",
    "        pointpos = 0)\n",
    "        )\n",
    "    fig.add_trace(\n",
    "        go.Scatter(\n",
    "        mode='markers',\n",
    "        x=temp_df[temp_df[\"Pooled\"]==True][\"Group\"],\n",
    "        y=temp_df[(temp_df[\"Pooled\"]==True)][\"Abundance\"],\n",
    "        name=\"Pooled\",\n",
    "        marker=dict(\n",
    "            color='#7f7f7f',\n",
    "            opacity=0.7,\n",
    "            size=12,\n",
    "            line=dict(\n",
    "                color='black',\n",
    "                width=1\n",
    "            )),\n",
    "        marker_symbol=\"cross\"))\n",
    "\n",
    "\n",
    "    fig.update_layout(\n",
    "        title=f'{pathway}',\n",
    "        title_font_size=12,\n",
    "        title_x=0.5,\n",
    "        title_xanchor='center',\n",
    "\n",
    "        yaxis=dict(\n",
    "            autorange=True,\n",
    "            showgrid=True,\n",
    "            zeroline=True,\n",
    "            title={\"text\":\"Pathway Abundance\",\n",
    "                  'font':{\"size\":15}},\n",
    "            gridcolor='rgb(255, 255, 255)',\n",
    "            gridwidth=1,\n",
    "            zerolinecolor='rgb(255, 255, 255)',\n",
    "            zerolinewidth=2,\n",
    "        ),\n",
    "        xaxis=dict(\n",
    "            title={\"font\":{\"size\":15},\n",
    "                  \"text\":\"Treatment Group\"},\n",
    "\n",
    "        ))\n",
    "#     if len(Sig_Results.loc[pathway].shape)>1:\n",
    "# #         text_stat=f\"Association:{Sig_Results.loc[pathway]['metadata'].iloc[0]}<br>P_value:{Sig_Results.loc[pathway]['pval'].iloc[0]:.1e}<br>Coefficient:{Sig_Results.loc[pathway]['coef'].iloc[0]:.1e}\"\n",
    "# #     else:\n",
    "# #         text_stat=f\"Association:{Sig_Results.loc[pathway]['metadata']}<br>P_value:{Sig_Results.loc[pathway]['pval']:.1e}<br>Coefficient:{Sig_Results.loc[pathway]['coef']:.1e}\"\n",
    "#     fig.add_annotation(text=text_stat, \n",
    "#                     align='left',\n",
    "#                     showarrow=False,\n",
    "#                     xref='paper',\n",
    "#                     yref='paper',\n",
    "#                     x=0,\n",
    "#                     y=1,\n",
    "#                     bordercolor='black',\n",
    "#                     borderwidth=1)\n",
    "\n",
    "    \n",
    "    fig.write_image(f\"Sig_Plots_Pathways_Histidine/{pathway}.svg\")"
   ]
  },
  {
   "cell_type": "code",
   "execution_count": null,
   "metadata": {},
   "outputs": [],
   "source": [
    "Path_Abund_Unstratified_Filtered.set_index(\"Sample_ID\",inplace=True)"
   ]
  },
  {
   "cell_type": "code",
   "execution_count": null,
   "metadata": {},
   "outputs": [],
   "source": [
    "Samples=[i.replace(\"RCE\",\"RCJ\")for i in Samples]"
   ]
  },
  {
   "cell_type": "code",
   "execution_count": null,
   "metadata": {},
   "outputs": [],
   "source": [
    "Path_Abund_Unstratified_Filtered.columns=Samples"
   ]
  },
  {
   "cell_type": "code",
   "execution_count": null,
   "metadata": {},
   "outputs": [],
   "source": [
    "import seaborn\n",
    "import matplotlib.patches as mpatches\n",
    "\n",
    "Samples=list(Path_Abund_Unstratified_Filtered.columns)\n",
    "palette = seaborn.color_palette(\"Paired\")\n",
    "\n",
    "Group_Names=[\"Control\",\"RCJ\",\"DSS\",\"RCJ_plus_DSS\"]\n",
    "Group_List=[]\n",
    "for i in Samples:\n",
    "    for j in Group_Names:\n",
    "        if j in i and 'plus' not in i:\n",
    "            Group_List.append(j)\n",
    "            break\n",
    "        elif \"plus\" in i:\n",
    "            Group_List.append(\"RCJ_plus_DSS\")\n",
    "            break\n",
    "\n",
    "Color_dict={}\n",
    "for i in range(len(Group_List)):\n",
    "    Color_dict[Samples[i]]=palette[Group_Names.index(Group_List[i])]\n",
    "Col_ser=pd.Series(Color_dict)\n",
    "seaborn.set(font_scale=1.8)\n",
    "ax=seaborn.clustermap(Path_Abund_Unstratified_Filtered.drop(columns=[\"Start\"]),standard_scale=0,figsize=(25,12),row_cluster=False, metric=\"correlation\",dendrogram_ratio=(.1, .2),cbar_pos=(0, .25, .02, .31),col_colors=Col_ser)\n",
    "\n",
    "Patches=[]\n",
    "for t in Group_Names:\n",
    "    Patches.append(mpatches.Patch(color=palette[Group_Names.index(t)], label=t))\n",
    "\n",
    "plt.legend(handles=Patches,loc='upper left',bbox_to_anchor=(-1, 1.8, 0.2, 0.5),fontsize='x-small')\n",
    "ax.savefig(\"Sig_Plots_Pathways_Unstratified/Sig_Plots_Pathways_Unstratified.jpg\")"
   ]
  },
  {
   "cell_type": "code",
   "execution_count": null,
   "metadata": {},
   "outputs": [],
   "source": []
  },
  {
   "cell_type": "code",
   "execution_count": null,
   "metadata": {},
   "outputs": [],
   "source": [
    "Path_Abund_Unstratified_Filtered"
   ]
  },
  {
   "cell_type": "code",
   "execution_count": null,
   "metadata": {},
   "outputs": [],
   "source": [
    "Path_Abund_Unstratified_Filtered.reset_index(inplace=True)"
   ]
  },
  {
   "cell_type": "code",
   "execution_count": null,
   "metadata": {},
   "outputs": [],
   "source": [
    "Heatmap_Dict={\"Pathway\":[],\"DSS_only\":[],\"RCE_only\":[],\"RCEwDSS_only\":[]}\n",
    "DF=pd.DataFrame(Heatmap_Dict)\n",
    "Counter=0\n",
    "for i in Path_Abund_Unstratified_Filtered[\"Sample_ID\"]:\n",
    "    DF.loc[Counter]=[i,0,0,0]\n",
    "    Temp=Sig_Results.loc[i,['metadata','coef','qval']]\n",
    "    if len(Temp.shape)==1:\n",
    "        DF.loc[Counter,Temp['metadata']]=-numpy.log(Temp['qval'])*numpy.sign(Temp['coef'])\n",
    "    else:\n",
    "        for k in range(Temp.shape[0]):\n",
    "            DF.loc[Counter,Temp['metadata'][k]]=-numpy.log(Temp['qval'][k])*numpy.sign(Temp['coef'][k])\n",
    "    Counter+=1\n",
    "        \n",
    "    \n",
    "    "
   ]
  },
  {
   "cell_type": "code",
   "execution_count": null,
   "metadata": {},
   "outputs": [],
   "source": [
    "DF.set_index('Pathway',inplace=True)"
   ]
  },
  {
   "cell_type": "code",
   "execution_count": null,
   "metadata": {},
   "outputs": [],
   "source": [
    "T=seaborn.color_palette(\"coolwarm\", as_cmap=True)\n"
   ]
  },
  {
   "cell_type": "code",
   "execution_count": null,
   "metadata": {},
   "outputs": [],
   "source": [
    "seaborn.set(rc = {'figure.figsize':(25,12)})\n",
    "\n",
    "ax=seaborn.heatmap(DF,cmap=T,linewidths=0.1, linecolor='white',square=True)\n",
    "ax=ax.get_figure()    \n",
    "\n",
    "\n",
    "ax.savefig('Sig_Plots_Pathways_Unstratified/Correlated_Pathways_Unstratified.jpg')\n",
    "\n",
    "    \n"
   ]
  },
  {
   "cell_type": "code",
   "execution_count": null,
   "metadata": {},
   "outputs": [],
   "source": []
  },
  {
   "cell_type": "code",
   "execution_count": null,
   "metadata": {},
   "outputs": [],
   "source": [
    "Path_Abund_Stratified_Filtered=Path_Abund_Filtered[Path_Abund_Filtered['Sample_ID'].str.contains('|',regex=False)]\n",
    "Path_Abund_Stratified_Filtered=Path_Abund_Stratified_Filtered.reset_index(drop=True)\n"
   ]
  },
  {
   "cell_type": "code",
   "execution_count": null,
   "metadata": {},
   "outputs": [],
   "source": [
    "plt.figure(figsize=(6.5, 6.5), dpi=80)\n",
    "if not os.path.exists('Sig_Plots_Pathways_Stratified/'):\n",
    "    os.mkdir('Sig_Plots_Pathways_Stratified/')\n",
    "for i in range(Path_Abund_Stratified_Filtered.shape[0]):\n",
    "    x=[1,1,1,3,3,5,5,5,7,7,7]\n",
    "    x1=list(np.linspace(0.5,1.5,100))\n",
    "    x2=list(np.linspace(2.5,3.5,100))\n",
    "    x3=list(np.linspace(4.5,5.5,100))\n",
    "    x4=list(np.linspace(6.5,7.5,100))\n",
    "    x5=[1,3,3,5,7]\n",
    "    y=list(Path_Abund_Stratified_Filtered.iloc[i,[1,2,3,4,5,11,12,13,14,15,16]])\n",
    "    y1=[statistics.median(y[0:3])]*len(x1)\n",
    "    y2=[statistics.median(y[3:5])]*len(x1)\n",
    "    y3=[statistics.median(y[5:8])]*len(x1)\n",
    "    y4=[statistics.median(y[8:11])]*len(x1)\n",
    "    y5=Path_Abund_Stratified_Filtered.iloc[i,[6,7,8,9,10]]\n",
    "    ax1=plt.plot(x1,y1,x2,y2,x3,y3,x4,y4,color='k',linewidth=1,linestyle=\"--\",label=\"Median\")\n",
    "    ax2=plt.scatter(x,y,s=40,cmap='summer',label=\"Individual\")\n",
    "    ax3=plt.scatter(x5,y5,s=40,cmap='r',marker=',',label=\"Pooled\")\n",
    "    plt.legend([ax1,ax2,ax3],[\"Median\",\"Individual\",\"Pooled\"],loc='upper right',framealpha=0.5,edgecolor=\"black\")\n",
    "    plt.suptitle(Path_Abund_Stratified_Filtered.loc[i,\"Sample_ID\"],fontsize=7)\n",
    "    plt.suptitle(\"\\n\".join(Path_Abund_Stratified_Filtered.loc[i,\"Sample_ID\"].split(\":\")),fontsize=12)\n",
    "    plt.xticks([1,3,5,7],['Control','DSS','RCE','RCE+DSS'])\n",
    "    top_DSS=plt.ylim()[1]-0.02*plt.ylim()[1]\n",
    "\n",
    "    if len(Sig_Results.loc[Path_Abund_Stratified_Filtered.loc[i,\"Sample_ID\"]].shape)==1:     \n",
    "        plt.text(0.3,top_DSS,Sig_Results.loc[Path_Abund_Stratified_Filtered.loc[i,\"Sample_ID\"],\"metadata\"]+\": \" + str(Sig_Results.loc[Path_Abund_Stratified_Filtered.loc[i,\"Sample_ID\"],\"value\"])+\"\\n\\nCoeff: \"+ str(Sig_Results.loc[Path_Abund_Stratified_Filtered.loc[i,\"Sample_ID\"],\"coef\"])[0:5]+\"\\n\\nP_value: \"+str(format(Sig_Results.loc[Path_Abund_Stratified_Filtered.loc[i,\"Sample_ID\"],\"pval\"],'f'))+\"\\n\\nQ_value: \"+str(format(Sig_Results.loc[Path_Abund_Stratified_Filtered.loc[i,\"Sample_ID\"],\"qval\"],'f')),fontsize=10,verticalalignment=\"top\")\n",
    "    else:\n",
    "        plt.text(0.3,top_DSS,Sig_Results.loc[Path_Abund_Stratified_Filtered.loc[i,\"Sample_ID\"],\"metadata\"].iloc[0]+\": \" + str(Sig_Results.loc[Path_Abund_Stratified_Filtered.loc[i,\"Sample_ID\"],\"value\"].iloc[0])+\"\\n\\nCoeff: \"+ str(Sig_Results.loc[Path_Abund_Stratified_Filtered.loc[i,\"Sample_ID\"],\"coef\"].iloc[0])[0:5]+\"\\n\\nP_value: \"+str(format(Sig_Results.loc[Path_Abund_Stratified_Filtered.loc[i,\"Sample_ID\"],\"pval\"].iloc[0],'f'))+\"\\n\\nQ_value: \"+str(format(Sig_Results.loc[Path_Abund_Stratified_Filtered.loc[i,\"Sample_ID\"],\"qval\"].iloc[0],'f')),fontsize=10,verticalalignment=\"top\")\n",
    "\n",
    "    \n",
    "    \n",
    "    plt.xlabel(\"Treatment Group\")\n",
    "    plt.ylabel(\"Path Abundances\")\n",
    "    plt.tight_layout()\n",
    "\n",
    "    plt.savefig(\"Sig_Plots_Pathways_Stratified/\"+Path_Abund_Stratified_Filtered.loc[i,\"Sample_ID\"][0:6],dpi=300)\n",
    "    plt.cla()"
   ]
  },
  {
   "cell_type": "markdown",
   "metadata": {},
   "source": [
    "## Significant Reactions "
   ]
  },
  {
   "cell_type": "code",
   "execution_count": null,
   "metadata": {},
   "outputs": [],
   "source": [
    "Rxn_abund=pd.read_csv(\"./rxn-cpm.txt\",delimiter='\\t')\n",
    "Mapping_dict={}\n",
    "for i in range(Rxn_abund.shape[0]):\n",
    "    Mapping_dict['X'+str(i)]=Rxn_abund.iloc[i,0]\n",
    "    Rxn_abund.iloc[i,0]='X'+str(i)\n",
    "  \n",
    "Rxn_abund.set_index(['Sample_ID'],inplace=True)\n",
    "Rxn_abund.to_csv(\"Rxn_abundance_Temp.tsv\")"
   ]
  },
  {
   "cell_type": "code",
   "execution_count": null,
   "metadata": {},
   "outputs": [],
   "source": [
    "Sig_Results=pd.read_csv(\"./Rxns_MaAslin/significant_results.tsv\",delimiter=\"\\t\")\n",
    "Filter_By_pval=(Sig_Results['pval']<0.05)&(Sig_Results['qval']<0.1)\n",
    "Sig_Results= Sig_Results.loc[Filter_By_pval]\n"
   ]
  },
  {
   "cell_type": "code",
   "execution_count": null,
   "metadata": {},
   "outputs": [],
   "source": [
    "Sex_Correlated=list(Sig_Results[Sig_Results['metadata']=='Sex']['feature'])\n",
    "Sig_Results=Sig_Results[~Sig_Results['feature'].isin(Sex_Correlated)]\n",
    "Sig_Results[\"feature\"]=Sig_Results[\"feature\"].apply(lambda x:Mapping_dict[x])"
   ]
  },
  {
   "cell_type": "code",
   "execution_count": null,
   "metadata": {},
   "outputs": [],
   "source": [
    "Rxn_abund.reset_index(inplace=True)"
   ]
  },
  {
   "cell_type": "code",
   "execution_count": null,
   "metadata": {},
   "outputs": [],
   "source": [
    "for i in range(Rxn_abund.shape[0]):\n",
    "       Rxn_abund.loc[i,\"Sample_ID\"]=Mapping_dict[Rxn_abund.loc[i,\"Sample_ID\"]]\n"
   ]
  },
  {
   "cell_type": "code",
   "execution_count": null,
   "metadata": {},
   "outputs": [],
   "source": [
    "Rxn_Abund_Filtered=Rxn_abund[Rxn_abund[\"Sample_ID\"].isin(Sig_Results[\"feature\"])]          \n",
    "Rxn_Abund_Filtered=Rxn_Abund_Filtered.reset_index(drop=True)"
   ]
  },
  {
   "cell_type": "code",
   "execution_count": null,
   "metadata": {},
   "outputs": [],
   "source": [
    "Rxn_Abund_Unstratified_Filtered=Rxn_Abund_Filtered[~Rxn_Abund_Filtered['Sample_ID'].str.contains('|',regex=False)]\n",
    "Rxn_Abund_Unstratified_Filtered=Rxn_Abund_Unstratified_Filtered.reset_index(drop=True)"
   ]
  },
  {
   "cell_type": "code",
   "execution_count": null,
   "metadata": {},
   "outputs": [],
   "source": [
    "Sig_Results.set_index(\"feature\",inplace=True)"
   ]
  },
  {
   "cell_type": "code",
   "execution_count": null,
   "metadata": {},
   "outputs": [],
   "source": [
    "Sig_Results.to_csv(\"Significant_Reactions_Stats.csv\")"
   ]
  },
  {
   "cell_type": "code",
   "execution_count": null,
   "metadata": {},
   "outputs": [],
   "source": [
    "plt.figure(figsize=(6, 6), dpi=80)\n",
    "if not os.path.exists('Sig_Plots_Rxns_Unstratified/'):\n",
    "    os.mkdir('Sig_Plots_Rxns_Unstratified/')\n",
    "for i in range(Rxn_Abund_Unstratified_Filtered.shape[0]):\n",
    "    x=[1,1,1,3,3,5,5,5,7,7,7]\n",
    "    x1=list(np.linspace(0.5,1.5,100))\n",
    "    x2=list(np.linspace(2.5,3.5,100))\n",
    "    x3=list(np.linspace(4.5,5.5,100))\n",
    "    x4=list(np.linspace(6.5,7.5,100))\n",
    "    x5=[1,3,3,5,7]\n",
    "    y=list(Rxn_Abund_Unstratified_Filtered.iloc[i,[1,2,3,4,5,11,12,13,14,15,16]])\n",
    "    y1=[statistics.median(y[0:3])]*len(x1)\n",
    "    y2=[statistics.median(y[3:5])]*len(x1)\n",
    "    y3=[statistics.median(y[5:8])]*len(x1)\n",
    "    y4=[statistics.median(y[8:11])]*len(x1)\n",
    "    y5=Rxn_Abund_Unstratified_Filtered.iloc[i,[6,7,8,9,10]]\n",
    "    plt.plot(x1,y1,x2,y2,x3,y3,x4,y4,color='k',linewidth=1,linestyle=\"--\")\n",
    "    plt.scatter(x,y,s=25,cmap='summer')\n",
    "    plt.scatter(x5,y5,s=30,cmap='r',marker=',')\n",
    "    plt.suptitle(Rxn_Abund_Unstratified_Filtered.loc[i,\"Sample_ID\"],fontsize=7)\n",
    "    plt.xticks([1,3,5,7],['Control','DSS','RCE','RCE+DSS'])\n",
    "    top_DSS=plt.ylim()[1]-1\n",
    "    if len(Sig_Results.loc[Rxn_Abund_Unstratified_Filtered.loc[i,\"Sample_ID\"]].shape)==1:     \n",
    "        plt.text(6,top_DSS,Sig_Results.loc[Rxn_Abund_Unstratified_Filtered.loc[i,\"Sample_ID\"],\"metadata\"]+\": \" + str(Sig_Results.loc[Rxn_Abund_Unstratified_Filtered.loc[i,\"Sample_ID\"],\"value\"])+\"\\n\\nCoeff: \"+ str(Sig_Results.loc[Rxn_Abund_Unstratified_Filtered.loc[i,\"Sample_ID\"],\"coef\"])[0:5]+\"\\n\\nP_value: \"+str(format(Sig_Results.loc[Rxn_Abund_Unstratified_Filtered.loc[i,\"Sample_ID\"],\"pval\"],'f'))+\"\\n\\nQ_value: \"+str(format(Sig_Results.loc[Rxn_Abund_Unstratified_Filtered.loc[i,\"Sample_ID\"],\"qval\"],'f')),fontsize=9,verticalalignment=\"top\")\n",
    "    else:\n",
    "        plt.text(6,top_DSS,Sig_Results.loc[Rxn_Abund_Unstratified_Filtered.loc[i,\"Sample_ID\"],\"metadata\"].iloc[0]+\": \" + str(Sig_Results.loc[Rxn_Abund_Unstratified_Filtered.loc[i,\"Sample_ID\"],\"value\"].iloc[0])+\"\\n\\nCoeff: \"+ str(Sig_Results.loc[Rxn_Abund_Unstratified_Filtered.loc[i,\"Sample_ID\"],\"coef\"].iloc[0])[0:5]+\"\\n\\nP_value: \"+str(format(Sig_Results.loc[Rxn_Abund_Unstratified_Filtered.loc[i,\"Sample_ID\"],\"pval\"].iloc[0],'f'))+\"\\n\\nQ_value: \"+str(format(Sig_Results.loc[Rxn_Abund_Unstratified_Filtered.loc[i,\"Sample_ID\"],\"qval\"].iloc[0],'f')),fontsize=9,verticalalignment=\"top\")\n",
    "    plt.xlabel(\"Treatment Group\")\n",
    "    plt.ylabel(\"Path Abundances\")\n",
    "    plt.savefig(\"Sig_Plots_Rxns_Unstratified/\"+Rxn_Abund_Unstratified_Filtered.loc[i,\"Sample_ID\"][0:20].replace(': ','')+'.png',dpi=300)\n",
    "    plt.cla()"
   ]
  },
  {
   "cell_type": "code",
   "execution_count": null,
   "metadata": {},
   "outputs": [],
   "source": [
    "Heatmap_Dict={\"Rxn\":[],\"DSS_only\":[],\"RCE_only\":[],\"RCEwDSS_only\":[]}\n",
    "DF=pd.DataFrame(Heatmap_Dict)\n",
    "Counter=0\n",
    "for i in Rxn_Abund_Unstratified_Filtered[\"Sample_ID\"]:\n",
    "    DF.loc[Counter]=[i,0,0,0]\n",
    "    Temp=Sig_Results.loc[i,['metadata','coef','qval']]\n",
    "    if len(Temp.shape)==1:\n",
    "        DF.loc[Counter,Temp['metadata']]=-np.log(Temp['qval'])*np.sign(Temp['coef'])\n",
    "    else:\n",
    "        for k in range(Temp.shape[0]):\n",
    "            DF.loc[Counter,Temp['metadata'][k]]=-np.log(Temp['qval'][k])*np.sign(Temp['coef'][k])\n",
    "    Counter+=1\n",
    "DF.set_index(\"Rxn\",inplace=True)"
   ]
  },
  {
   "cell_type": "code",
   "execution_count": null,
   "metadata": {},
   "outputs": [],
   "source": [
    "seaborn.set(rc = {'figure.figsize':(25,12)})\n",
    "\n",
    "\n",
    "T=seaborn.color_palette(\"coolwarm\", as_cmap=True)\n",
    "\n",
    "for i in range(math.floor(DF.shape[0]/20)):\n",
    "    if (i+1)*20<DF.shape[0]:\n",
    "        ax=seaborn.heatmap(DF.iloc[20*i:20*(i+1)],cmap=T,linewidths=1, linecolor='white',square=True)\n",
    "\n",
    "    else:\n",
    "        ax=seaborn.heatmap(DF.iloc[20*i:],cmap=T,linewidths=1, linecolor='white',square=True)\n",
    "\n",
    "    ax=ax.get_figure()    \n",
    "    ax.savefig('Sig_Plots_Rxns_Unstratified/Rxn_Heatmap'+str(i))\n",
    "    plt.clf()\n",
    "    "
   ]
  },
  {
   "cell_type": "code",
   "execution_count": null,
   "metadata": {},
   "outputs": [],
   "source": [
    "Sig_Results.reset_index(inplace=True)"
   ]
  },
  {
   "cell_type": "code",
   "execution_count": null,
   "metadata": {},
   "outputs": [],
   "source": [
    "Sig_Results[Sig_Results['feature'].str.contains('|',regex=False)]"
   ]
  },
  {
   "cell_type": "code",
   "execution_count": null,
   "metadata": {},
   "outputs": [],
   "source": [
    "Rxn_Abund_Filtered=Rxn_abund[Rxn_abund[\"Sample_ID\"].isin(Sig_Results[\"feature\"])]"
   ]
  },
  {
   "cell_type": "code",
   "execution_count": null,
   "metadata": {},
   "outputs": [],
   "source": [
    "Rxn_Abund_Stratified_Filtered=Rxn_Abund_Filtered[Rxn_Abund_Filtered['Sample_ID'].str.contains('|',regex=False)]\n",
    "Rxn_Abund_Stratified_Filtered=Rxn_Abund_Stratified_Filtered.reset_index(drop=True)\n"
   ]
  },
  {
   "cell_type": "code",
   "execution_count": null,
   "metadata": {},
   "outputs": [],
   "source": [
    "Sig_Results.set_index(\"feature\",inplace=True)"
   ]
  },
  {
   "cell_type": "markdown",
   "metadata": {},
   "source": [
    "### DO NOT RUN THE FOLLOWING UNLESS YOU HAVE TIME AND SPACE FOR THOUSANDS OF PLOTS"
   ]
  },
  {
   "cell_type": "code",
   "execution_count": null,
   "metadata": {},
   "outputs": [],
   "source": [
    "plt.figure(figsize=(6, 6), dpi=80)\n",
    "if not os.path.exists('Sig_Plots_Rxns_Stratified/'):\n",
    "    os.mkdir('Sig_Plots_Rxns_Stratified/')\n",
    "for i in range(Rxn_Abund_Stratified_Filtered.shape[0]):\n",
    "    x=[1,1,1,3,3,5,5,5,7,7,7]\n",
    "    x1=list(np.linspace(0.5,1.5,100))\n",
    "    x2=list(np.linspace(2.5,3.5,100))\n",
    "    x3=list(np.linspace(4.5,5.5,100))\n",
    "    x4=list(np.linspace(6.5,7.5,100))\n",
    "    x5=[1,3,3,5,7]\n",
    "    y=list(Rxn_Abund_Stratified_Filtered.iloc[i,[1,2,3,4,5,11,12,13,14,15,16]])\n",
    "    y1=[statistics.median(y[0:3])]*len(x1)\n",
    "    y2=[statistics.median(y[3:5])]*len(x1)\n",
    "    y3=[statistics.median(y[5:8])]*len(x1)\n",
    "    y4=[statistics.median(y[8:11])]*len(x1)\n",
    "    y5=Rxn_Abund_Stratified_Filtered.iloc[i,[6,7,8,9,10]]\n",
    "    plt.plot(x1,y1,x2,y2,x3,y3,x4,y4,color='k',linewidth=1,linestyle=\"--\")\n",
    "    plt.scatter(x,y,s=25,cmap='summer')\n",
    "    plt.scatter(x5,y5,s=30,cmap='r',marker=',')\n",
    "    plt.suptitle(Rxn_Abund_Stratified_Filtered.loc[i,\"Sample_ID\"],fontsize=7)\n",
    "    plt.xticks([1,3,5,7],['Control','DSS','RCE','RCE+DSS'])\n",
    "    top_DSS=plt.ylim()[1]-1\n",
    "    if len(Sig_Results.loc[Rxn_Abund_Stratified_Filtered.loc[i,\"Sample_ID\"]].shape)==1:     \n",
    "        plt.text(6,top_DSS,Sig_Results.loc[Rxn_Abund_Stratified_Filtered.loc[i,\"Sample_ID\"],\"metadata\"]+\": \" + str(Sig_Results.loc[Rxn_Abund_Stratified_Filtered.loc[i,\"Sample_ID\"],\"value\"])+\"\\n\\nCoeff: \"+ str(Sig_Results.loc[Rxn_Abund_Stratified_Filtered.loc[i,\"Sample_ID\"],\"coef\"])[0:5]+\"\\n\\nP_value: \"+str(format(Sig_Results.loc[Rxn_Abund_Stratified_Filtered.loc[i,\"Sample_ID\"],\"pval\"],'f'))+\"\\n\\nQ_value: \"+str(format(Sig_Results.loc[Rxn_Abund_Stratified_Filtered.loc[i,\"Sample_ID\"],\"qval\"],'f')),fontsize=9,verticalalignment=\"top\")\n",
    "    else:\n",
    "        plt.text(6,top_DSS,Sig_Results.loc[Rxn_Abund_Stratified_Filtered.loc[i,\"Sample_ID\"],\"metadata\"].iloc[0]+\": \" + str(Sig_Results.loc[Rxn_Abund_Stratified_Filtered.loc[i,\"Sample_ID\"],\"value\"].iloc[0])+\"\\n\\nCoeff: \"+ str(Sig_Results.loc[Rxn_Abund_Stratified_Filtered.loc[i,\"Sample_ID\"],\"coef\"].iloc[0])[0:5]+\"\\n\\nP_value: \"+str(format(Sig_Results.loc[Rxn_Abund_Stratified_Filtered.loc[i,\"Sample_ID\"],\"pval\"].iloc[0],'f'))+\"\\n\\nQ_value: \"+str(format(Sig_Results.loc[Rxn_Abund_Stratified_Filtered.loc[i,\"Sample_ID\"],\"qval\"].iloc[0],'f')),fontsize=9,verticalalignment=\"top\")\n",
    "    plt.xlabel(\"Treatment Group\")\n",
    "    plt.ylabel(\"Path Abundances\")\n",
    "    plt.savefig(\"Sig_Plots_Rxns_Stratified/\"+Rxn_Abund_Stratified_Filtered.loc[i,\"Sample_ID\"][0:6]+'.png',dpi=300)\n",
    "    plt.cla()"
   ]
  },
  {
   "cell_type": "markdown",
   "metadata": {},
   "source": [
    "## Some Further Analysis\n",
    "\n",
    "Tables Needed:\n",
    "\n",
    "- Path_Abund_Stratified_Filtered\n",
    "- Rxn_Abund_Unstratified_Filtered\n",
    "- Path_Abund_Unstratified_Filtered\n",
    "\n",
    "**Question 1:**\n",
    "\n",
    "-\tSeveral reactions that look apparently higher in DSS+RCJ but low in DSS and controlonly are alpha-L-focusidase: \n",
    "        - ALPHA-L-FOCUSIDEASE \n",
    "        - RXN-19378\n",
    "        - RXN-19379\n",
    "        - The figures all look the same, so they are probably from the same gene\n",
    "        - Can you check if this gene/reaction is significantly higher in DSS+RCJ vs. DSS? It might not since one sample in DSS+RCJ is at the same level as DSS but two others are about 2-fold higher.\n"
   ]
  },
  {
   "cell_type": "code",
   "execution_count": null,
   "metadata": {},
   "outputs": [],
   "source": [
    "from scipy.stats import ttest_ind\n"
   ]
  },
  {
   "cell_type": "code",
   "execution_count": null,
   "metadata": {},
   "outputs": [],
   "source": [
    "Q1_List=[\"ALPHA\",\"RXN-19378\",\"RXN-19379\"]\n",
    "Q1_DF=Rxn_Abund_Unstratified_Filtered[Rxn_Abund_Unstratified_Filtered[\"Sample_ID\"].str.contains(\"Something_Werid\")]\n",
    "for i in range(len(Q1_List)):\n",
    "    Q1_DF=Q1_DF.append(Rxn_Abund_Unstratified_Filtered[Rxn_Abund_Unstratified_Filtered[\"Sample_ID\"].str.contains(Q1_List[i])])\n",
    "    \n",
    "Q1_DF=Q1_DF.iloc[:,[4,5,-4,-3,-2]]"
   ]
  },
  {
   "cell_type": "code",
   "execution_count": null,
   "metadata": {},
   "outputs": [],
   "source": [
    "Desired_Species=[\"d__Bacteria|p__Firmicutes|c__Clostridia|o__Eubacteriales|f__Lachnospiraceae|g__Roseburia|s__Roseburia intestinalis\",\n",
    "                 \"d__Bacteria|p__Firmicutes|c__Clostridia|o__Eubacteriales|f__Lachnospiraceae|g__Roseburia|s__Roseburia hominis\",\n",
    "                \"d__Bacteria|p__Firmicutes|c__Clostridia|o__Eubacteriales|f__Oscillospiraceae|g__Faecalibacterium|s__Faecalibacterium prausnitzii\",\n",
    "                \"d__Bacteria|p__Verrucomicrobia|c__Verrucomicrobiae|o__Verrucomicrobiales|f__Akkermansiaceae|g__Akkermansia|s__Akkermansia muciniphila\",\n",
    "                \"k__Bacteria|p__Firmicutes|c__Bacilli|o__Lactobacillales|f__Lactobacillaceae|g__Lactobacillus|s__Lactobacillus_johnsonii\",\n",
    "                \"k__Bacteria|p__Actinobacteria|c__Actinobacteria|o__Bifidobacteriales|f__Bifidobacteriaceae|g__Bifidobacterium|s__Bifidobacterium_pseudolongum\",\n",
    "                \"k__Bacteria|p__Firmicutes|c__Clostridia|o__Clostridiales|f__Oscillospiraceae|g__Oscillibacter|s__Oscillibacter_sp_1_3\",\n",
    "                \"k__Bacteria|p__Firmicutes|c__Clostridia|o__Clostridiales|f__Lachnospiraceae|g__Dorea|s__Dorea_sp_5_2\",\n",
    "                \"k__Bacteria|p__Firmicutes|c__Clostridia|o__Clostridiales|f__Lachnospiraceae|g__Lachnospiraceae_unclassified|s__Lachnospiraceae_bacterium_10_1\",\n",
    "                 \"k__Bacteria|p__Firmicutes|c__Clostridia|o__Clostridiales|f__Lachnospiraceae|g__Acetatifactor|s__Acetatifactor_muris\"\n",
    "                ]"
   ]
  },
  {
   "cell_type": "code",
   "execution_count": null,
   "metadata": {},
   "outputs": [],
   "source": [
    "Metaphlan=pd.read_table(\"Merge_Metaphlan_Clean.tsv\")\n",
    "Kraken_TSS=pd.read_table(\"Species_TSS.csv\",delimiter=\",\")\n",
    "Kraken_CSS=pd.read_table(\"Species_Normalized.txt\",delimiter=\"\\t\")"
   ]
  },
  {
   "cell_type": "code",
   "execution_count": null,
   "metadata": {},
   "outputs": [],
   "source": [
    "Metaphlan=Metaphlan.reindex(sorted(Metaphlan.columns), axis=1).set_index(\"clade_name\").reset_index()\n",
    "Metaphlan.drop(\"NCBI_tax_id\",axis=1,inplace=True)"
   ]
  },
  {
   "cell_type": "code",
   "execution_count": null,
   "metadata": {},
   "outputs": [],
   "source": [
    "Met_Cols=[\"clade_name\"]\n",
    "[Met_Cols.append(colname.strip(\"_metaphlan_bugs_list\")) for colname in Metaphlan.columns if \"_metaphlan_bugs_list\" in colname]"
   ]
  },
  {
   "cell_type": "code",
   "execution_count": null,
   "metadata": {},
   "outputs": [],
   "source": [
    "Dict={}\n",
    "for i in range(len(Metaphlan.columns)):\n",
    "    Dict[Metaphlan.columns[i]]=Met_Cols[i]\n",
    "\n",
    "Dict[\"Start_metaphlan_bugs_list\"]=\"Start\"\n",
    "Dict[\"clade_name\"]=\"Taxon\"\n",
    "Dict[\"DSS_treatedp_metaphlan_bugs_list\"]=\"DSS_treatedp\"\n",
    "Dict[\"DSS_treatedp_metaphlan_bugs_list\"]=\"DSS_treatedp\"\n",
    "Dict['D_Control_metaphlan_bugs_list']=\"D_Control\"\n",
    "\n",
    "Metaphlan.rename(Dict,inplace=True,axis=1)\n",
    "Kraken_TSS.rename({\"Taxonomy\":\"Taxon\"},inplace=True,axis=1)"
   ]
  },
  {
   "cell_type": "code",
   "execution_count": null,
   "metadata": {},
   "outputs": [],
   "source": [
    "Final_Table=pd.DataFrame(columns = Metaphlan.columns)"
   ]
  },
  {
   "cell_type": "code",
   "execution_count": null,
   "metadata": {},
   "outputs": [],
   "source": [
    "for Bac in Desired_Species:\n",
    "    if Bac in list(Metaphlan[\"Taxon\"]):\n",
    "        Final_Table=Final_Table.append(Metaphlan[Metaphlan[\"Taxon\"]==Bac])\n",
    "    else:\n",
    "        Final_Table=Final_Table.append(Kraken_TSS[Kraken_TSS[\"Taxon\"]==Bac])\n",
    "        "
   ]
  },
  {
   "cell_type": "code",
   "execution_count": null,
   "metadata": {},
   "outputs": [],
   "source": [
    "Bac_Names=list([name[-1].strip(\"s__\") for name in Final_Table[\"Taxon\"].str.split(\"|\")])"
   ]
  },
  {
   "cell_type": "code",
   "execution_count": null,
   "metadata": {},
   "outputs": [],
   "source": [
    "fig,axs=plt.subplots(int(Final_Table.shape[0]/2),2,figsize=(4.5, 13),sharex=True,constrained_layout=False)\n",
    "for i in range(Final_Table.shape[0]):\n",
    "    x=[1,1,1,3,3,5,5,5,7,7,7]\n",
    "    x1=list(np.linspace(0.5,1.5,100))\n",
    "    x2=list(np.linspace(2.5,3.5,100))\n",
    "    x3=list(np.linspace(4.5,5.5,100))\n",
    "    x4=list(np.linspace(6.5,7.5,100))\n",
    "    x5=[1,3,3,5,7]\n",
    "    y=list(Final_Table.iloc[i,[1,2,3,4,5,11,12,13,14,15,16]])\n",
    "    y1=[statistics.median(y[0:3])]*len(x1)\n",
    "    y2=[statistics.median(y[3:5])]*len(x1)\n",
    "    y3=[statistics.median(y[5:8])]*len(x1)\n",
    "    y4=[statistics.median(y[8:11])]*len(x1)\n",
    "    y5=Final_Table.iloc[i,[6,7,8,9,10]]\n",
    "    axs[math.floor(i/2),i%2].plot(x1,y1,x2,y2,x3,y3,x4,y4,color='k',linewidth=1,linestyle=\"--\")\n",
    "    axs[math.floor(i/2),i%2].scatter(x,y,s=50,cmap='summer')\n",
    "#     axs[math.floor(i/2),i%2].scatter(x5,y5,s=70,cmap='r',marker=',')\n",
    "\n",
    "    axs[math.floor(i/2),i%2].set_xticks([1,3,5,7],['Control','DSS','RCJ','RCJ+DSS'],fontsize=8.5)\n",
    "    axs[math.floor(i/2),i%2].set_yticks(axs[math.floor(i/2),i%2].get_yticks(),fontsize=50)    \n",
    "    axs[math.floor(i/2),i%2].set_title(Bac_Names[i],fontsize=10.5)\n",
    "fig.text(0.5, 0, 'Treatment Group', ha='center',fontsize=15)\n",
    "fig.text(0, 0.5, 'Relative Abundance %', va='center', rotation='vertical',fontsize=15)\n",
    "fig.tight_layout(pad=0.2)\n",
    "fig.subplots_adjust(bottom=0.05)\n",
    "fig.savefig(\"Taxa_of_Interest.png\",dpi=600,bbox_inches=\"tight\")"
   ]
  },
  {
   "cell_type": "code",
   "execution_count": null,
   "metadata": {},
   "outputs": [],
   "source": [
    "Desired_Items=[\"AMINOGLYCOSIDE-N3-ACETYLTRANSFERASE-RXN\",\n",
    "               \"PWY-5910: superpathway of geranylgeranyldiphosphate biosynthesis I (via mevalonate)\",\n",
    "               \"TAURINE-AMINOTRANSFERASE-RXN\",\n",
    "               \"RXN-20702\",\n",
    "               \"GLUDEG-I-PWY: GABA shunt|g__Lactobacillus.s__Lactobacillus_reuteri\",\n",
    "               \"LACTOSECAT-PWY: lactose and galactose degradation I|g__Lactobacillus.s__Lactobacillus_johnsonii\"]\n",
    "Item_Name=[\"AMINOGLYCOSIDE-N3-ACETYLTRANSFERASE\".lower(),\n",
    "           \"superpathway of geranylgeranyldiphosphate biosynthesis\",\n",
    "           \"TAURINE-AMINOTRANSFERASE\".lower(),\n",
    "           \"isethionate sulfite-lyase\",\n",
    "          \"GABA shunt: Lactobacillus_reuteri\",\n",
    "          \"lactose and galactose degradation I: Lactobacillus_johnsonii\"\n",
    "          ]               "
   ]
  },
  {
   "cell_type": "code",
   "execution_count": null,
   "metadata": {},
   "outputs": [],
   "source": [
    "Path_abund=pd.read_csv(\"Merged_Pathabundance_Table_CPM_meta.tsv\",delimiter='\\t')\n",
    "Rxn_abund=pd.read_csv(\"./rxn-cpm.txt\",delimiter='\\t')"
   ]
  },
  {
   "cell_type": "code",
   "execution_count": null,
   "metadata": {},
   "outputs": [],
   "source": [
    "Final_Table=pd.DataFrame(columns = Path_abund.columns)"
   ]
  },
  {
   "cell_type": "code",
   "execution_count": null,
   "metadata": {},
   "outputs": [],
   "source": [
    "for item in Desired_Items:\n",
    "    if item in list(Path_abund[\"Sample_ID\"]):\n",
    "        Final_Table=Final_Table.append(Path_abund[Path_abund[\"Sample_ID\"]==item])\n",
    "    else:\n",
    "        Final_Table=Final_Table.append(Rxn_abund[Rxn_abund[\"Sample_ID\"]==item])\n",
    "        "
   ]
  },
  {
   "cell_type": "code",
   "execution_count": null,
   "metadata": {},
   "outputs": [],
   "source": [
    "Final_Table.reset_index(inplace=True,drop=True)"
   ]
  },
  {
   "cell_type": "code",
   "execution_count": null,
   "metadata": {},
   "outputs": [],
   "source": [
    "fig,axs=plt.subplots(int(Final_Table.shape[0]/2),2,figsize=(6, 12),sharex=True,constrained_layout=False)\n",
    "for i in range(Final_Table.shape[0]):\n",
    "    x=[1,1,1,3,3,5,5,5,7,7,7]\n",
    "    x1=list(np.linspace(0.5,1.5,100))\n",
    "    x2=list(np.linspace(2.5,3.5,100))\n",
    "    x3=list(np.linspace(4.5,5.5,100))\n",
    "    x4=list(np.linspace(6.5,7.5,100))\n",
    "    x5=[1,3,3,5,7]\n",
    "    y=list(Final_Table.iloc[i,[1,2,3,4,5,11,12,13,14,15,16]])\n",
    "    y1=[statistics.median(y[0:3])]*len(x1)\n",
    "    y2=[statistics.median(y[3:5])]*len(x1)\n",
    "    y3=[statistics.median(y[5:8])]*len(x1)\n",
    "    y4=[statistics.median(y[8:11])]*len(x1)\n",
    "    y5=Final_Table.iloc[i,[6,7,8,9,10]]\n",
    "    axs[math.floor(i/2),i%2].plot(x1,y1,x2,y2,x3,y3,x4,y4,color='k',linewidth=1,linestyle=\"--\")\n",
    "    axs[math.floor(i/2),i%2].scatter(x,y,s=50,cmap='summer')\n",
    "#     axs[math.floor(i/2),i%2].scatter(x5,y5,s=70,cmap='r',marker=',')\n",
    "\n",
    "    axs[math.floor(i/2),i%2].set_xticks([1,3,5,7],['Control','DSS','RCJ','RCJ+DSS'],fontsize=8.5)\n",
    "    axs[math.floor(i/2),i%2].set_yticks(axs[math.floor(i/2),i%2].get_yticks(),fontsize=50)    \n",
    "    axs[math.floor(i/2),i%2].set_title(Item_Name[i],fontsize=9.5)\n",
    "fig.text(0.5, 0, 'Treatment Group', ha='center',fontsize=15)\n",
    "fig.text(0, 0.5, 'Relative Abundance %', va='center', rotation='vertical',fontsize=15)\n",
    "fig.tight_layout(pad=1)\n",
    "fig.savefig(\"Rxns_of_Interest2.png\",dpi=600,bbox_inches=\"tight\")"
   ]
  },
  {
   "cell_type": "code",
   "execution_count": null,
   "metadata": {},
   "outputs": [],
   "source": []
  }
 ],
 "metadata": {
  "kernelspec": {
   "display_name": "base",
   "language": "python",
   "name": "python3"
  },
  "language_info": {
   "codemirror_mode": {
    "name": "ipython",
    "version": 3
   },
   "file_extension": ".py",
   "mimetype": "text/x-python",
   "name": "python",
   "nbconvert_exporter": "python",
   "pygments_lexer": "ipython3",
   "version": "3.9.7"
  },
  "vscode": {
   "interpreter": {
    "hash": "cd4282f6964f11bb4427604f51fdde6c3d4aaf7297d931ff306d1c282a07f33e"
   }
  }
 },
 "nbformat": 4,
 "nbformat_minor": 4
}
