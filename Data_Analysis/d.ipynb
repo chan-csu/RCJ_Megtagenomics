{
 "cells": [
  {
   "cell_type": "code",
   "execution_count": 1,
   "metadata": {},
   "outputs": [
    {
     "name": "stdout",
     "output_type": "stream",
     "text": [
      "Grad\n",
      "Undergrad\n"
     ]
    }
   ],
   "source": [
    "names=[\"Parsa\",\"Ethan\"]\n",
    "for i in names:\n",
    "    match i:\n",
    "        case \"Parsa\":\n",
    "            print(\"Grad\")\n",
    "            \n",
    "        case \"Ethan\":\n",
    "            print(\"Undergrad\")"
   ]
  },
  {
   "cell_type": "code",
   "execution_count": 15,
   "metadata": {},
   "outputs": [
    {
     "name": "stdout",
     "output_type": "stream",
     "text": [
      "Parsa fishing\n",
      "Ethan Skiing\n",
      "Joshua fishing\n"
     ]
    }
   ],
   "source": [
    "person=[(\"Parsa\",\"Gh\",\"fishing\"),(\"Ethan\",\"Ri\",\"Skiing\"),(\"Joshua\",\"Ch\",\"fishing\")]\n",
    "fishermen=[]\n",
    "skiers=[]\n",
    "class Student:\n",
    "    def __init__(self,first_name,last_name,interest):\n",
    "        self.first_name=first_name\n",
    "        self.last_name=last_name\n",
    "        self.interest=interest\n",
    "    def __repr__(self):\n",
    "        return f\"{self.first_name} {self.last_name}\"\n",
    "\n",
    "parsa=Student(\"Parsa\",\"Gh\",\"fishing\")\n",
    "ethan=Student(\"Ethan\",\"Ri\",\"Skiing\") \n",
    "joshua=Student(\"Joshua\",\"Ch\",\"fishing\")\n",
    "person=[parsa,ethan,joshua]\n",
    "\n",
    "for i in person:\n",
    "    match i:\n",
    "        case Student(interest=\"fishing\"):\n",
    "            print(i.first_name,i.interest)\n",
    "        case Student(interest=\"Skiing\"):\n",
    "            print(i.first_name,i.interest)\n",
    "            "
   ]
  },
  {
   "cell_type": "code",
   "execution_count": 13,
   "metadata": {},
   "outputs": [
    {
     "data": {
      "text/plain": [
       "[('Parsa', ['Parsa', 'Gh']), ('Joshua', ['Joshua', 'Ch'])]"
      ]
     },
     "execution_count": 13,
     "metadata": {},
     "output_type": "execute_result"
    }
   ],
   "source": [
    "fishermen"
   ]
  }
 ],
 "metadata": {
  "kernelspec": {
   "display_name": "ADTInstall",
   "language": "python",
   "name": "python3"
  },
  "language_info": {
   "codemirror_mode": {
    "name": "ipython",
    "version": 3
   },
   "file_extension": ".py",
   "mimetype": "text/x-python",
   "name": "python",
   "nbconvert_exporter": "python",
   "pygments_lexer": "ipython3",
   "version": "3.10.6"
  },
  "orig_nbformat": 4,
  "vscode": {
   "interpreter": {
    "hash": "371221d79bacb4e8f67c5ee23043753f6a0034430aa9016cff0923ddaf4a5aa2"
   }
  }
 },
 "nbformat": 4,
 "nbformat_minor": 2
}
