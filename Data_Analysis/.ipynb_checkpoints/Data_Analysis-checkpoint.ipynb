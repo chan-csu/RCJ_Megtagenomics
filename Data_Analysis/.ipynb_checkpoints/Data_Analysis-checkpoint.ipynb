{
 "cells": [
  {
   "cell_type": "code",
   "execution_count": 1,
   "metadata": {},
   "outputs": [],
   "source": [
    "import pandas as pd\n",
    "import seaborn as sns\n",
    "import statistics\n",
    "import matplotlib.pyplot as plt\n",
    "import numpy as np\n",
    "from matplotlib.offsetbox import AnchoredText\n",
    "import os\n",
    "import math\n",
    "import plotly.express as px\n",
    "import plotly.graph_objects as go\n",
    "import skbio\n",
    "import numpy"
   ]
  },
  {
   "cell_type": "markdown",
   "metadata": {},
   "source": [
    "## Significant Pathways"
   ]
  },
  {
   "cell_type": "code",
   "execution_count": 2,
   "metadata": {},
   "outputs": [],
   "source": [
    "Path_abund=pd.read_csv(\"Merged_Pathabundance_Table_CPM_meta.tsv\",delimiter='\\t')\n",
    "\n",
    "Mapping_dict={}\n",
    "for i in range(Path_abund.shape[0]):\n",
    "    Mapping_dict['X'+str(i)]=Path_abund.iloc[i,0]\n",
    "    Path_abund.iloc[i,0]='X'+str(i)\n",
    "    \n",
    "Path_abund.set_index(['Sample_ID'],inplace=True)\n",
    "Path_abund.to_csv(\"Path_abundance_Temp.tsv\")\n"
   ]
  },
  {
   "cell_type": "code",
   "execution_count": 3,
   "metadata": {},
   "outputs": [],
   "source": [
    "Path_abund.columns=Path_abund.columns.str.replace(\"RCE\",\"RCJ\")"
   ]
  },
  {
   "cell_type": "code",
   "execution_count": 6,
   "metadata": {},
   "outputs": [],
   "source": [
    "Sig_Results=pd.read_csv(\"./Pathways_MaAslin/significant_results.tsv\",delimiter=\"\\t\")\n",
    "Filter_By_pval=(Sig_Results['pval']<0.05)&(Sig_Results['qval']<0.05)\n",
    "Sig_Results= Sig_Results.loc[Filter_By_pval]"
   ]
  },
  {
   "cell_type": "code",
   "execution_count": 7,
   "metadata": {},
   "outputs": [],
   "source": [
    "Sex_Correlated=list(Sig_Results[Sig_Results['metadata']=='Sex']['feature'])\n",
    "Sig_Results=Sig_Results[~Sig_Results['feature'].isin(Sex_Correlated)]\n",
    "Sig_Results[\"feature\"]=Sig_Results[\"feature\"].apply(lambda x:Mapping_dict[x])"
   ]
  },
  {
   "cell_type": "code",
   "execution_count": 8,
   "metadata": {},
   "outputs": [],
   "source": [
    "Sig_Results.to_csv(\"Significant_Pathways_Stats.csv\")"
   ]
  },
  {
   "cell_type": "code",
   "execution_count": 9,
   "metadata": {},
   "outputs": [],
   "source": [
    "Path_abund.reset_index(inplace=True)"
   ]
  },
  {
   "cell_type": "code",
   "execution_count": 10,
   "metadata": {},
   "outputs": [],
   "source": [
    "Path_abund[\"Sample_ID\"]=Path_abund[\"Sample_ID\"].apply(lambda x:Mapping_dict[x])"
   ]
  },
  {
   "cell_type": "code",
   "execution_count": 22,
   "metadata": {},
   "outputs": [],
   "source": [
    "Path_abund_lefse=Path_abund.copy()\n",
    "Path_abund_lefse.columns=[group_map.get(i,Path_abund.columns[0]) for i in Path_abund.columns]"
   ]
  },
  {
   "cell_type": "code",
   "execution_count": 24,
   "metadata": {},
   "outputs": [],
   "source": [
    "Path_abund_lefse.to_csv(\"Path_abund_cpm_lefse.tsv\")"
   ]
  },
  {
   "cell_type": "code",
   "execution_count": 13,
   "metadata": {},
   "outputs": [],
   "source": [
    "Path_Abund_Filtered=Path_abund[Path_abund[\"Sample_ID\"].isin(Sig_Results[\"feature\"])]\n",
    "Path_Abund_Filtered=Path_Abund_Filtered.reset_index(drop=True)\n"
   ]
  },
  {
   "cell_type": "code",
   "execution_count": 14,
   "metadata": {},
   "outputs": [],
   "source": [
    "Path_Abund_Filtered.to_csv(\"Sig_results_abundance_path.csv\")"
   ]
  },
  {
   "cell_type": "code",
   "execution_count": 15,
   "metadata": {},
   "outputs": [],
   "source": [
    "Path_Abund_Unstratified_Filtered=Path_Abund_Filtered[~Path_Abund_Filtered['Sample_ID'].str.contains('|',regex=False)]\n",
    "Path_Abund_Unstratified_Filtered=Path_Abund_Unstratified_Filtered.reset_index(drop=True)\n",
    "Sig_Results.set_index(\"feature\",inplace=True)"
   ]
  },
  {
   "cell_type": "code",
   "execution_count": 21,
   "metadata": {},
   "outputs": [],
   "source": [
    "Samples=list(Path_Abund_Unstratified_Filtered.columns[1:-1])\n",
    "Group_Names=[\"Control\",\"DSS\",\"RCJ\",\"RCJ_plus_DSS\"]\n",
    "Group_List=[]\n",
    "for i in Samples:\n",
    "    for j in Group_Names:\n",
    "        if j in i and 'plus' not in i:\n",
    "            Group_List.append(j)\n",
    "            break\n",
    "        elif \"plus\" in i:\n",
    "            Group_List.append(\"RCJ_plus_DSS\")\n",
    "            break\n",
    "\n",
    "group_map={Samples[i]:Group_List[i] for i in range(len(Samples))}\n",
    "group_map[\"Start\"]=\"Start\""
   ]
  },
  {
   "cell_type": "code",
   "execution_count": 13,
   "metadata": {},
   "outputs": [],
   "source": [
    "pallete=['rgb(150,150,150)','rgb(77,175,74)','rgb(55,126,184)','rgb(152,78,163)']\n",
    "pallete_out=['rgb(150,150,150)','rgb(77,175,74)','rgb(55,126,184)','rgb(152,78,163)']"
   ]
  },
  {
   "cell_type": "code",
   "execution_count": 14,
   "metadata": {},
   "outputs": [],
   "source": [
    "if not os.path.exists('Sig_Plots_Pathways_Unstratified/'):\n",
    "    os.mkdir('Sig_Plots_Pathways_Unstratified/')\n",
    "for pathway in Path_Abund_Unstratified_Filtered[\"Sample_ID\"]:\n",
    "    fig = go.Figure()\n",
    "    temp_df={\"Name\":[],\"Group\":[],\"Abundance\":[],\"Pooled\":[]}\n",
    "    for column in Path_Abund_Unstratified_Filtered.columns[1:-1]:\n",
    "        temp_df[\"Name\"].append(column)\n",
    "        temp_df[\"Group\"].append(group_map[column])\n",
    "        temp_df[\"Abundance\"].append(Path_Abund_Unstratified_Filtered.loc[Path_Abund_Unstratified_Filtered[\"Sample_ID\"]==pathway,column].item())\n",
    "        temp_df[\"Pooled\"].append(True if \"D_\" in column else False)\n",
    "    temp_df=pd.DataFrame(temp_df)\n",
    "    \n",
    "    for index,group in enumerate([\"Control\",\"DSS\",\"RCJ\",\"RCJ_plus_DSS\"]):\n",
    "        fig.add_trace(go.Box(\n",
    "            y=temp_df[temp_df[\"Group\"]==group][\"Abundance\"],\n",
    "            name=group,\n",
    "            boxpoints='all',\n",
    "            jitter=0,\n",
    "            marker_color=pallete[index],\n",
    "            line_color=pallete[index],\n",
    "            whiskerwidth=0.2,\n",
    "            marker_size=10,\n",
    "            line_width=1,\n",
    "        pointpos = 0)\n",
    "        )\n",
    "    fig.add_trace(\n",
    "        go.Scatter(\n",
    "        mode='markers',\n",
    "        x=temp_df[temp_df[\"Pooled\"]==True][\"Group\"],\n",
    "        y=temp_df[(temp_df[\"Pooled\"]==True)][\"Abundance\"],\n",
    "        name=\"Pooled\",\n",
    "        marker=dict(\n",
    "            color='#7f7f7f',\n",
    "            opacity=0.7,\n",
    "            size=12,\n",
    "            line=dict(\n",
    "                color='black',\n",
    "                width=1\n",
    "            )),\n",
    "        marker_symbol=\"cross\"))\n",
    "\n",
    "\n",
    "    fig.update_layout(\n",
    "        title=f'{pathway}',\n",
    "        title_font_size=15,\n",
    "        title_x=0.5,\n",
    "        title_xanchor='center',\n",
    "\n",
    "        yaxis=dict(\n",
    "            autorange=True,\n",
    "            showgrid=True,\n",
    "            zeroline=True,\n",
    "            title={\"text\":\"Pathway Abundance\",\n",
    "                  'font':{\"size\":15}},\n",
    "            gridcolor='rgb(255, 255, 255)',\n",
    "            gridwidth=1,\n",
    "            zerolinecolor='rgb(255, 255, 255)',\n",
    "            zerolinewidth=2,\n",
    "        ),\n",
    "        xaxis=dict(\n",
    "            title={\"font\":{\"size\":15},\n",
    "                  \"text\":\"Treatment Group\"},\n",
    "\n",
    "        ))\n",
    "    if len(Sig_Results.loc[pathway].shape)>1:\n",
    "        text_stat=f\"Association:{Sig_Results.loc[pathway]['metadata'].iloc[0]}<br>P_value:{Sig_Results.loc[pathway]['pval'].iloc[0]:.1e}<br>Coefficient:{Sig_Results.loc[pathway]['coef'].iloc[0]:.1e}\"\n",
    "    else:\n",
    "        text_stat=f\"Association:{Sig_Results.loc[pathway]['metadata']}<br>P_value:{Sig_Results.loc[pathway]['pval']:.1e}<br>Coefficient:{Sig_Results.loc[pathway]['coef']:.1e}\"\n",
    "    fig.add_annotation(text=text_stat, \n",
    "                    align='left',\n",
    "                    showarrow=False,\n",
    "                    xref='paper',\n",
    "                    yref='paper',\n",
    "                    x=0,\n",
    "                    y=1,\n",
    "                    bordercolor='black',\n",
    "                    borderwidth=1)\n",
    "\n",
    "    \n",
    "    fig.write_image(f\"Sig_Plots_Pathways_Unstratified/{pathway}.svg\")\n",
    "\n",
    "\n",
    "    "
   ]
  },
  {
   "cell_type": "markdown",
   "metadata": {},
   "source": [
    "## Metaphlan diversity analysis "
   ]
  },
  {
   "cell_type": "code",
   "execution_count": 46,
   "metadata": {},
   "outputs": [],
   "source": [
    "metaphlan=pd.read_table(\"Merge_Metaphlan_Clean.tsv\")\n",
    "kraken=pd.read_table(\"../Kraken2Outputs/Lefse_Formatted/Species_TSS.csv\",delimiter=\",\")"
   ]
  },
  {
   "cell_type": "code",
   "execution_count": 28,
   "metadata": {},
   "outputs": [
    {
     "ename": "ValueError",
     "evalue": "Length mismatch: Expected axis has 18 elements, new values have 19 elements",
     "output_type": "error",
     "traceback": [
      "\u001b[0;31m---------------------------------------------------------------------------\u001b[0m",
      "\u001b[0;31mValueError\u001b[0m                                Traceback (most recent call last)",
      "Input \u001b[0;32mIn [28]\u001b[0m, in \u001b[0;36m<cell line: 3>\u001b[0;34m()\u001b[0m\n\u001b[1;32m      1\u001b[0m metaphlan\u001b[38;5;241m=\u001b[39mmetaphlan\u001b[38;5;241m.\u001b[39mdrop(\u001b[38;5;124m'\u001b[39m\u001b[38;5;124mNCBI_tax_id\u001b[39m\u001b[38;5;124m'\u001b[39m,axis\u001b[38;5;241m=\u001b[39m\u001b[38;5;241m1\u001b[39m)\n\u001b[1;32m      2\u001b[0m new_cols\u001b[38;5;241m=\u001b[39mmetaphlan\u001b[38;5;241m.\u001b[39mcolumns[\u001b[38;5;241m0\u001b[39m],\u001b[38;5;241m*\u001b[39mgroup_map\u001b[38;5;241m.\u001b[39mkeys(),\u001b[38;5;124m\"\u001b[39m\u001b[38;5;124mStart\u001b[39m\u001b[38;5;124m\"\u001b[39m\n\u001b[0;32m----> 3\u001b[0m \u001b[43mmetaphlan\u001b[49m\u001b[38;5;241;43m.\u001b[39;49m\u001b[43mcolumns\u001b[49m\u001b[38;5;241m=\u001b[39mnew_cols\n\u001b[1;32m      4\u001b[0m phylum\u001b[38;5;241m=\u001b[39mmetaphlan[metaphlan[metaphlan\u001b[38;5;241m.\u001b[39mcolumns[\u001b[38;5;241m0\u001b[39m]]\u001b[38;5;241m.\u001b[39mstr\u001b[38;5;241m.\u001b[39msplit(\u001b[38;5;124m\"\u001b[39m\u001b[38;5;124m|\u001b[39m\u001b[38;5;124m\"\u001b[39m)\u001b[38;5;241m.\u001b[39mstr[\u001b[38;5;241m-\u001b[39m\u001b[38;5;241m1\u001b[39m]\u001b[38;5;241m.\u001b[39mstr\u001b[38;5;241m.\u001b[39mstartswith(\u001b[38;5;124m\"\u001b[39m\u001b[38;5;124mp__\u001b[39m\u001b[38;5;124m\"\u001b[39m)]\n\u001b[1;32m      5\u001b[0m genus\u001b[38;5;241m=\u001b[39mmetaphlan[metaphlan[metaphlan\u001b[38;5;241m.\u001b[39mcolumns[\u001b[38;5;241m0\u001b[39m]]\u001b[38;5;241m.\u001b[39mstr\u001b[38;5;241m.\u001b[39msplit(\u001b[38;5;124m\"\u001b[39m\u001b[38;5;124m|\u001b[39m\u001b[38;5;124m\"\u001b[39m)\u001b[38;5;241m.\u001b[39mstr[\u001b[38;5;241m-\u001b[39m\u001b[38;5;241m1\u001b[39m]\u001b[38;5;241m.\u001b[39mstr\u001b[38;5;241m.\u001b[39mstartswith(\u001b[38;5;124m\"\u001b[39m\u001b[38;5;124mg__\u001b[39m\u001b[38;5;124m\"\u001b[39m)]\n",
      "File \u001b[0;32m~/.pyenv/versions/miniforge3-4.10.3-10/lib/python3.9/site-packages/pandas/core/generic.py:5915\u001b[0m, in \u001b[0;36mNDFrame.__setattr__\u001b[0;34m(self, name, value)\u001b[0m\n\u001b[1;32m   5913\u001b[0m \u001b[38;5;28;01mtry\u001b[39;00m:\n\u001b[1;32m   5914\u001b[0m     \u001b[38;5;28mobject\u001b[39m\u001b[38;5;241m.\u001b[39m\u001b[38;5;21m__getattribute__\u001b[39m(\u001b[38;5;28mself\u001b[39m, name)\n\u001b[0;32m-> 5915\u001b[0m     \u001b[38;5;28;01mreturn\u001b[39;00m \u001b[38;5;28;43mobject\u001b[39;49m\u001b[38;5;241;43m.\u001b[39;49m\u001b[38;5;21;43m__setattr__\u001b[39;49m\u001b[43m(\u001b[49m\u001b[38;5;28;43mself\u001b[39;49m\u001b[43m,\u001b[49m\u001b[43m \u001b[49m\u001b[43mname\u001b[49m\u001b[43m,\u001b[49m\u001b[43m \u001b[49m\u001b[43mvalue\u001b[49m\u001b[43m)\u001b[49m\n\u001b[1;32m   5916\u001b[0m \u001b[38;5;28;01mexcept\u001b[39;00m \u001b[38;5;167;01mAttributeError\u001b[39;00m:\n\u001b[1;32m   5917\u001b[0m     \u001b[38;5;28;01mpass\u001b[39;00m\n",
      "File \u001b[0;32m~/.pyenv/versions/miniforge3-4.10.3-10/lib/python3.9/site-packages/pandas/_libs/properties.pyx:69\u001b[0m, in \u001b[0;36mpandas._libs.properties.AxisProperty.__set__\u001b[0;34m()\u001b[0m\n",
      "File \u001b[0;32m~/.pyenv/versions/miniforge3-4.10.3-10/lib/python3.9/site-packages/pandas/core/generic.py:823\u001b[0m, in \u001b[0;36mNDFrame._set_axis\u001b[0;34m(self, axis, labels)\u001b[0m\n\u001b[1;32m    821\u001b[0m \u001b[38;5;28;01mdef\u001b[39;00m \u001b[38;5;21m_set_axis\u001b[39m(\u001b[38;5;28mself\u001b[39m, axis: \u001b[38;5;28mint\u001b[39m, labels: AnyArrayLike \u001b[38;5;241m|\u001b[39m \u001b[38;5;28mlist\u001b[39m) \u001b[38;5;241m-\u001b[39m\u001b[38;5;241m>\u001b[39m \u001b[38;5;28;01mNone\u001b[39;00m:\n\u001b[1;32m    822\u001b[0m     labels \u001b[38;5;241m=\u001b[39m ensure_index(labels)\n\u001b[0;32m--> 823\u001b[0m     \u001b[38;5;28;43mself\u001b[39;49m\u001b[38;5;241;43m.\u001b[39;49m\u001b[43m_mgr\u001b[49m\u001b[38;5;241;43m.\u001b[39;49m\u001b[43mset_axis\u001b[49m\u001b[43m(\u001b[49m\u001b[43maxis\u001b[49m\u001b[43m,\u001b[49m\u001b[43m \u001b[49m\u001b[43mlabels\u001b[49m\u001b[43m)\u001b[49m\n\u001b[1;32m    824\u001b[0m     \u001b[38;5;28mself\u001b[39m\u001b[38;5;241m.\u001b[39m_clear_item_cache()\n",
      "File \u001b[0;32m~/.pyenv/versions/miniforge3-4.10.3-10/lib/python3.9/site-packages/pandas/core/internals/managers.py:227\u001b[0m, in \u001b[0;36mBaseBlockManager.set_axis\u001b[0;34m(self, axis, new_labels)\u001b[0m\n\u001b[1;32m    225\u001b[0m \u001b[38;5;28;01mdef\u001b[39;00m \u001b[38;5;21mset_axis\u001b[39m(\u001b[38;5;28mself\u001b[39m, axis: \u001b[38;5;28mint\u001b[39m, new_labels: Index) \u001b[38;5;241m-\u001b[39m\u001b[38;5;241m>\u001b[39m \u001b[38;5;28;01mNone\u001b[39;00m:\n\u001b[1;32m    226\u001b[0m     \u001b[38;5;66;03m# Caller is responsible for ensuring we have an Index object.\u001b[39;00m\n\u001b[0;32m--> 227\u001b[0m     \u001b[38;5;28;43mself\u001b[39;49m\u001b[38;5;241;43m.\u001b[39;49m\u001b[43m_validate_set_axis\u001b[49m\u001b[43m(\u001b[49m\u001b[43maxis\u001b[49m\u001b[43m,\u001b[49m\u001b[43m \u001b[49m\u001b[43mnew_labels\u001b[49m\u001b[43m)\u001b[49m\n\u001b[1;32m    228\u001b[0m     \u001b[38;5;28mself\u001b[39m\u001b[38;5;241m.\u001b[39maxes[axis] \u001b[38;5;241m=\u001b[39m new_labels\n",
      "File \u001b[0;32m~/.pyenv/versions/miniforge3-4.10.3-10/lib/python3.9/site-packages/pandas/core/internals/base.py:70\u001b[0m, in \u001b[0;36mDataManager._validate_set_axis\u001b[0;34m(self, axis, new_labels)\u001b[0m\n\u001b[1;32m     67\u001b[0m     \u001b[38;5;28;01mpass\u001b[39;00m\n\u001b[1;32m     69\u001b[0m \u001b[38;5;28;01melif\u001b[39;00m new_len \u001b[38;5;241m!=\u001b[39m old_len:\n\u001b[0;32m---> 70\u001b[0m     \u001b[38;5;28;01mraise\u001b[39;00m \u001b[38;5;167;01mValueError\u001b[39;00m(\n\u001b[1;32m     71\u001b[0m         \u001b[38;5;124mf\u001b[39m\u001b[38;5;124m\"\u001b[39m\u001b[38;5;124mLength mismatch: Expected axis has \u001b[39m\u001b[38;5;132;01m{\u001b[39;00mold_len\u001b[38;5;132;01m}\u001b[39;00m\u001b[38;5;124m elements, new \u001b[39m\u001b[38;5;124m\"\u001b[39m\n\u001b[1;32m     72\u001b[0m         \u001b[38;5;124mf\u001b[39m\u001b[38;5;124m\"\u001b[39m\u001b[38;5;124mvalues have \u001b[39m\u001b[38;5;132;01m{\u001b[39;00mnew_len\u001b[38;5;132;01m}\u001b[39;00m\u001b[38;5;124m elements\u001b[39m\u001b[38;5;124m\"\u001b[39m\n\u001b[1;32m     73\u001b[0m     )\n",
      "\u001b[0;31mValueError\u001b[0m: Length mismatch: Expected axis has 18 elements, new values have 19 elements"
     ]
    }
   ],
   "source": [
    "metaphlan=metaphlan.drop('NCBI_tax_id',axis=1)\n",
    "new_cols=metaphlan.columns[0],*group_map.keys(),\"Start\"\n",
    "metaphlan.columns=new_cols\n",
    "phylum=metaphlan[metaphlan[metaphlan.columns[0]].str.split(\"|\").str[-1].str.startswith(\"p__\")]\n",
    "genus=metaphlan[metaphlan[metaphlan.columns[0]].str.split(\"|\").str[-1].str.startswith(\"g__\")]\n",
    "species=metaphlan[metaphlan[metaphlan.columns[0]].str.split(\"|\").str[-1].str.startswith(\"s__\")]"
   ]
  },
  {
   "cell_type": "code",
   "execution_count": 48,
   "metadata": {},
   "outputs": [],
   "source": [
    "metaphlan.drop([\"NCBI_tax_id\"],inplace=True,axis=1)"
   ]
  },
  {
   "cell_type": "code",
   "execution_count": 49,
   "metadata": {},
   "outputs": [],
   "source": [
    "metaphlan.columns=[i.replace(\"_metaphlan_bugs_list\",\"\").replace(\"RCE\",\"RCJ\") for i in metaphlan.columns]"
   ]
  },
  {
   "cell_type": "code",
   "execution_count": 50,
   "metadata": {},
   "outputs": [],
   "source": [
    "metaphlan.columns=[group_map.get(i,metaphlan.columns[0]) for i in metaphlan.columns]"
   ]
  },
  {
   "cell_type": "code",
   "execution_count": 54,
   "metadata": {},
   "outputs": [],
   "source": [
    "metaphlan.to_csv(\"metaphlan_lefse.tsv\")"
   ]
  },
  {
   "cell_type": "code",
   "execution_count": 53,
   "metadata": {},
   "outputs": [
    {
     "data": {
      "text/html": [
       "<div>\n",
       "<style scoped>\n",
       "    .dataframe tbody tr th:only-of-type {\n",
       "        vertical-align: middle;\n",
       "    }\n",
       "\n",
       "    .dataframe tbody tr th {\n",
       "        vertical-align: top;\n",
       "    }\n",
       "\n",
       "    .dataframe thead th {\n",
       "        text-align: right;\n",
       "    }\n",
       "</style>\n",
       "<table border=\"1\" class=\"dataframe\">\n",
       "  <thead>\n",
       "    <tr style=\"text-align: right;\">\n",
       "      <th></th>\n",
       "      <th>clade_name</th>\n",
       "      <th>Start</th>\n",
       "      <th>RCJ_plus_DSS</th>\n",
       "      <th>RCJ_plus_DSS</th>\n",
       "      <th>RCJ_plus_DSS</th>\n",
       "      <th>RCJ</th>\n",
       "      <th>RCJ</th>\n",
       "      <th>RCJ</th>\n",
       "      <th>RCJ_plus_DSS</th>\n",
       "      <th>RCJ</th>\n",
       "      <th>DSS</th>\n",
       "      <th>Control</th>\n",
       "      <th>DSS</th>\n",
       "      <th>DSS</th>\n",
       "      <th>DSS</th>\n",
       "      <th>Control</th>\n",
       "      <th>Control</th>\n",
       "      <th>Control</th>\n",
       "    </tr>\n",
       "  </thead>\n",
       "  <tbody>\n",
       "    <tr>\n",
       "      <th>0</th>\n",
       "      <td>k__Bacteria</td>\n",
       "      <td>99.42336</td>\n",
       "      <td>99.86185</td>\n",
       "      <td>99.69510</td>\n",
       "      <td>98.89250</td>\n",
       "      <td>99.51907</td>\n",
       "      <td>98.77448</td>\n",
       "      <td>99.68009</td>\n",
       "      <td>97.03959</td>\n",
       "      <td>99.59588</td>\n",
       "      <td>98.36012</td>\n",
       "      <td>99.28293</td>\n",
       "      <td>84.83710</td>\n",
       "      <td>94.66055</td>\n",
       "      <td>99.94366</td>\n",
       "      <td>95.76869</td>\n",
       "      <td>95.71830</td>\n",
       "      <td>98.31652</td>\n",
       "    </tr>\n",
       "    <tr>\n",
       "      <th>1</th>\n",
       "      <td>k__Bacteria|p__Actinobacteria</td>\n",
       "      <td>1.03638</td>\n",
       "      <td>2.28472</td>\n",
       "      <td>0.37964</td>\n",
       "      <td>0.67212</td>\n",
       "      <td>2.84361</td>\n",
       "      <td>0.97788</td>\n",
       "      <td>1.68661</td>\n",
       "      <td>1.14194</td>\n",
       "      <td>2.31184</td>\n",
       "      <td>3.97985</td>\n",
       "      <td>0.47631</td>\n",
       "      <td>3.86653</td>\n",
       "      <td>1.32168</td>\n",
       "      <td>0.58373</td>\n",
       "      <td>0.58906</td>\n",
       "      <td>1.21246</td>\n",
       "      <td>2.15037</td>\n",
       "    </tr>\n",
       "    <tr>\n",
       "      <th>2</th>\n",
       "      <td>k__Bacteria|p__Actinobacteria|c__Actinobacteria</td>\n",
       "      <td>0.97904</td>\n",
       "      <td>2.25615</td>\n",
       "      <td>0.37378</td>\n",
       "      <td>0.63840</td>\n",
       "      <td>2.84052</td>\n",
       "      <td>0.93733</td>\n",
       "      <td>1.66360</td>\n",
       "      <td>1.10603</td>\n",
       "      <td>2.29096</td>\n",
       "      <td>3.91038</td>\n",
       "      <td>0.38745</td>\n",
       "      <td>3.84735</td>\n",
       "      <td>1.24578</td>\n",
       "      <td>0.54448</td>\n",
       "      <td>0.57670</td>\n",
       "      <td>1.18812</td>\n",
       "      <td>2.11034</td>\n",
       "    </tr>\n",
       "    <tr>\n",
       "      <th>3</th>\n",
       "      <td>k__Bacteria|p__Actinobacteria|c__Actinobacteri...</td>\n",
       "      <td>0.97904</td>\n",
       "      <td>2.25615</td>\n",
       "      <td>0.37378</td>\n",
       "      <td>0.63840</td>\n",
       "      <td>2.84052</td>\n",
       "      <td>0.93733</td>\n",
       "      <td>1.66360</td>\n",
       "      <td>1.10603</td>\n",
       "      <td>2.29096</td>\n",
       "      <td>3.91038</td>\n",
       "      <td>0.38745</td>\n",
       "      <td>3.84735</td>\n",
       "      <td>1.24578</td>\n",
       "      <td>0.54448</td>\n",
       "      <td>0.57670</td>\n",
       "      <td>1.18812</td>\n",
       "      <td>2.11034</td>\n",
       "    </tr>\n",
       "    <tr>\n",
       "      <th>4</th>\n",
       "      <td>k__Bacteria|p__Actinobacteria|c__Actinobacteri...</td>\n",
       "      <td>0.97904</td>\n",
       "      <td>2.25615</td>\n",
       "      <td>0.37378</td>\n",
       "      <td>0.63840</td>\n",
       "      <td>2.84052</td>\n",
       "      <td>0.93733</td>\n",
       "      <td>1.66360</td>\n",
       "      <td>1.10603</td>\n",
       "      <td>2.29096</td>\n",
       "      <td>3.91038</td>\n",
       "      <td>0.38745</td>\n",
       "      <td>3.84735</td>\n",
       "      <td>1.24578</td>\n",
       "      <td>0.54448</td>\n",
       "      <td>0.57670</td>\n",
       "      <td>1.18812</td>\n",
       "      <td>2.11034</td>\n",
       "    </tr>\n",
       "    <tr>\n",
       "      <th>...</th>\n",
       "      <td>...</td>\n",
       "      <td>...</td>\n",
       "      <td>...</td>\n",
       "      <td>...</td>\n",
       "      <td>...</td>\n",
       "      <td>...</td>\n",
       "      <td>...</td>\n",
       "      <td>...</td>\n",
       "      <td>...</td>\n",
       "      <td>...</td>\n",
       "      <td>...</td>\n",
       "      <td>...</td>\n",
       "      <td>...</td>\n",
       "      <td>...</td>\n",
       "      <td>...</td>\n",
       "      <td>...</td>\n",
       "      <td>...</td>\n",
       "      <td>...</td>\n",
       "    </tr>\n",
       "    <tr>\n",
       "      <th>162</th>\n",
       "      <td>k__Viruses|p__Viruses_unclassified|c__Viruses_...</td>\n",
       "      <td>0.01893</td>\n",
       "      <td>0.00000</td>\n",
       "      <td>0.00000</td>\n",
       "      <td>0.00000</td>\n",
       "      <td>0.00000</td>\n",
       "      <td>0.00000</td>\n",
       "      <td>0.00000</td>\n",
       "      <td>0.00000</td>\n",
       "      <td>0.00000</td>\n",
       "      <td>0.00000</td>\n",
       "      <td>0.09181</td>\n",
       "      <td>0.00000</td>\n",
       "      <td>0.00000</td>\n",
       "      <td>0.00000</td>\n",
       "      <td>0.00000</td>\n",
       "      <td>0.01505</td>\n",
       "      <td>0.03526</td>\n",
       "    </tr>\n",
       "    <tr>\n",
       "      <th>163</th>\n",
       "      <td>k__Viruses|p__Viruses_unclassified|c__Viruses_...</td>\n",
       "      <td>0.01893</td>\n",
       "      <td>0.00000</td>\n",
       "      <td>0.00000</td>\n",
       "      <td>0.00000</td>\n",
       "      <td>0.00000</td>\n",
       "      <td>0.00000</td>\n",
       "      <td>0.00000</td>\n",
       "      <td>0.00000</td>\n",
       "      <td>0.00000</td>\n",
       "      <td>0.00000</td>\n",
       "      <td>0.09181</td>\n",
       "      <td>0.00000</td>\n",
       "      <td>0.00000</td>\n",
       "      <td>0.00000</td>\n",
       "      <td>0.00000</td>\n",
       "      <td>0.01505</td>\n",
       "      <td>0.03526</td>\n",
       "    </tr>\n",
       "    <tr>\n",
       "      <th>164</th>\n",
       "      <td>k__Viruses|p__Viruses_unclassified|c__Viruses_...</td>\n",
       "      <td>0.00000</td>\n",
       "      <td>0.00000</td>\n",
       "      <td>0.00000</td>\n",
       "      <td>0.00000</td>\n",
       "      <td>0.00000</td>\n",
       "      <td>0.00000</td>\n",
       "      <td>0.00000</td>\n",
       "      <td>0.00000</td>\n",
       "      <td>0.00000</td>\n",
       "      <td>0.00000</td>\n",
       "      <td>0.00000</td>\n",
       "      <td>0.00000</td>\n",
       "      <td>0.05514</td>\n",
       "      <td>0.00000</td>\n",
       "      <td>0.00000</td>\n",
       "      <td>0.00000</td>\n",
       "      <td>0.00000</td>\n",
       "    </tr>\n",
       "    <tr>\n",
       "      <th>165</th>\n",
       "      <td>k__Viruses|p__Viruses_unclassified|c__Viruses_...</td>\n",
       "      <td>0.00000</td>\n",
       "      <td>0.00000</td>\n",
       "      <td>0.00000</td>\n",
       "      <td>0.00000</td>\n",
       "      <td>0.00000</td>\n",
       "      <td>0.00000</td>\n",
       "      <td>0.00000</td>\n",
       "      <td>0.00000</td>\n",
       "      <td>0.00000</td>\n",
       "      <td>0.00000</td>\n",
       "      <td>0.00000</td>\n",
       "      <td>0.00000</td>\n",
       "      <td>0.05514</td>\n",
       "      <td>0.00000</td>\n",
       "      <td>0.00000</td>\n",
       "      <td>0.00000</td>\n",
       "      <td>0.00000</td>\n",
       "    </tr>\n",
       "    <tr>\n",
       "      <th>166</th>\n",
       "      <td>k__Viruses|p__Viruses_unclassified|c__Viruses_...</td>\n",
       "      <td>0.00000</td>\n",
       "      <td>0.00000</td>\n",
       "      <td>0.00000</td>\n",
       "      <td>0.00000</td>\n",
       "      <td>0.00000</td>\n",
       "      <td>0.00000</td>\n",
       "      <td>0.00000</td>\n",
       "      <td>0.00000</td>\n",
       "      <td>0.00000</td>\n",
       "      <td>0.00000</td>\n",
       "      <td>0.00000</td>\n",
       "      <td>0.00000</td>\n",
       "      <td>0.05514</td>\n",
       "      <td>0.00000</td>\n",
       "      <td>0.00000</td>\n",
       "      <td>0.00000</td>\n",
       "      <td>0.00000</td>\n",
       "    </tr>\n",
       "  </tbody>\n",
       "</table>\n",
       "<p>167 rows × 18 columns</p>\n",
       "</div>"
      ],
      "text/plain": [
       "                                            clade_name     Start  \\\n",
       "0                                          k__Bacteria  99.42336   \n",
       "1                        k__Bacteria|p__Actinobacteria   1.03638   \n",
       "2      k__Bacteria|p__Actinobacteria|c__Actinobacteria   0.97904   \n",
       "3    k__Bacteria|p__Actinobacteria|c__Actinobacteri...   0.97904   \n",
       "4    k__Bacteria|p__Actinobacteria|c__Actinobacteri...   0.97904   \n",
       "..                                                 ...       ...   \n",
       "162  k__Viruses|p__Viruses_unclassified|c__Viruses_...   0.01893   \n",
       "163  k__Viruses|p__Viruses_unclassified|c__Viruses_...   0.01893   \n",
       "164  k__Viruses|p__Viruses_unclassified|c__Viruses_...   0.00000   \n",
       "165  k__Viruses|p__Viruses_unclassified|c__Viruses_...   0.00000   \n",
       "166  k__Viruses|p__Viruses_unclassified|c__Viruses_...   0.00000   \n",
       "\n",
       "     RCJ_plus_DSS  RCJ_plus_DSS  RCJ_plus_DSS       RCJ       RCJ       RCJ  \\\n",
       "0        99.86185      99.69510      98.89250  99.51907  98.77448  99.68009   \n",
       "1         2.28472       0.37964       0.67212   2.84361   0.97788   1.68661   \n",
       "2         2.25615       0.37378       0.63840   2.84052   0.93733   1.66360   \n",
       "3         2.25615       0.37378       0.63840   2.84052   0.93733   1.66360   \n",
       "4         2.25615       0.37378       0.63840   2.84052   0.93733   1.66360   \n",
       "..            ...           ...           ...       ...       ...       ...   \n",
       "162       0.00000       0.00000       0.00000   0.00000   0.00000   0.00000   \n",
       "163       0.00000       0.00000       0.00000   0.00000   0.00000   0.00000   \n",
       "164       0.00000       0.00000       0.00000   0.00000   0.00000   0.00000   \n",
       "165       0.00000       0.00000       0.00000   0.00000   0.00000   0.00000   \n",
       "166       0.00000       0.00000       0.00000   0.00000   0.00000   0.00000   \n",
       "\n",
       "     RCJ_plus_DSS       RCJ       DSS   Control       DSS       DSS       DSS  \\\n",
       "0        97.03959  99.59588  98.36012  99.28293  84.83710  94.66055  99.94366   \n",
       "1         1.14194   2.31184   3.97985   0.47631   3.86653   1.32168   0.58373   \n",
       "2         1.10603   2.29096   3.91038   0.38745   3.84735   1.24578   0.54448   \n",
       "3         1.10603   2.29096   3.91038   0.38745   3.84735   1.24578   0.54448   \n",
       "4         1.10603   2.29096   3.91038   0.38745   3.84735   1.24578   0.54448   \n",
       "..            ...       ...       ...       ...       ...       ...       ...   \n",
       "162       0.00000   0.00000   0.00000   0.09181   0.00000   0.00000   0.00000   \n",
       "163       0.00000   0.00000   0.00000   0.09181   0.00000   0.00000   0.00000   \n",
       "164       0.00000   0.00000   0.00000   0.00000   0.00000   0.05514   0.00000   \n",
       "165       0.00000   0.00000   0.00000   0.00000   0.00000   0.05514   0.00000   \n",
       "166       0.00000   0.00000   0.00000   0.00000   0.00000   0.05514   0.00000   \n",
       "\n",
       "      Control   Control   Control  \n",
       "0    95.76869  95.71830  98.31652  \n",
       "1     0.58906   1.21246   2.15037  \n",
       "2     0.57670   1.18812   2.11034  \n",
       "3     0.57670   1.18812   2.11034  \n",
       "4     0.57670   1.18812   2.11034  \n",
       "..        ...       ...       ...  \n",
       "162   0.00000   0.01505   0.03526  \n",
       "163   0.00000   0.01505   0.03526  \n",
       "164   0.00000   0.00000   0.00000  \n",
       "165   0.00000   0.00000   0.00000  \n",
       "166   0.00000   0.00000   0.00000  \n",
       "\n",
       "[167 rows x 18 columns]"
      ]
     },
     "execution_count": 53,
     "metadata": {},
     "output_type": "execute_result"
    }
   ],
   "source": [
    "metaphlan"
   ]
  },
  {
   "cell_type": "code",
   "execution_count": 17,
   "metadata": {},
   "outputs": [],
   "source": [
    "simpson_div={col:skbio.diversity.alpha.shannon(species[col]) for col in species.columns if not col.startswith(species.columns[0])}"
   ]
  },
  {
   "cell_type": "code",
   "execution_count": 18,
   "metadata": {},
   "outputs": [],
   "source": [
    "grouped_divs={i:[] for i in Group_Names}\n",
    "for sample in simpson_div:\n",
    "    if sample in group_map:\n",
    "        grouped_divs[group_map[sample]].append(simpson_div[sample])"
   ]
  },
  {
   "cell_type": "code",
   "execution_count": 19,
   "metadata": {},
   "outputs": [
    {
     "data": {
      "text/plain": [
       "<AxesSubplot:>"
      ]
     },
     "execution_count": 19,
     "metadata": {},
     "output_type": "execute_result"
    },
    {
     "data": {
      "image/png": "[encoded data removed]",
      "text/plain": [
       "<Figure size 432x288 with 1 Axes>"
      ]
     },
     "metadata": {
      "needs_background": "light"
     },
     "output_type": "display_data"
    }
   ],
   "source": [
    "pd.DataFrame(grouped_divs).boxplot()"
   ]
  },
  {
   "cell_type": "code",
   "execution_count": 30,
   "metadata": {},
   "outputs": [],
   "source": [
    "arg=Path_abund[Path_abund[\"Sample_ID\"].str.contains(\"ARGININE-SYN4-PWY: L-ornithine de novo  biosynthesis\")]\n",
    "his=Path_abund[Path_abund[\"Sample_ID\"].str.contains(\"PWY-5030: L-histidine degradation III\")]"
   ]
  },
  {
   "cell_type": "code",
   "execution_count": 26,
   "metadata": {},
   "outputs": [],
   "source": [
    "if not os.path.exists('Sig_Plots_Pathways_Arginine/'):\n",
    "    os.mkdir('Sig_Plots_Pathways_Arginine/')\n",
    "for pathway in arg[\"Sample_ID\"]:\n",
    "    fig = go.Figure()\n",
    "    temp_df={\"Name\":[],\"Group\":[],\"Abundance\":[],\"Pooled\":[]}\n",
    "    for column in arg.columns[1:-1]:\n",
    "        temp_df[\"Name\"].append(column)\n",
    "        temp_df[\"Group\"].append(group_map[column])\n",
    "        temp_df[\"Abundance\"].append(arg.loc[arg[\"Sample_ID\"]==pathway,column].item())\n",
    "        temp_df[\"Pooled\"].append(True if \"D_\" in column else False)\n",
    "    temp_df=pd.DataFrame(temp_df)\n",
    "    \n",
    "    for index,group in enumerate([\"Control\",\"DSS\",\"RCJ\",\"RCJ_plus_DSS\"]):\n",
    "        fig.add_trace(go.Box(\n",
    "            y=temp_df[temp_df[\"Group\"]==group][\"Abundance\"],\n",
    "            name=group,\n",
    "            boxpoints='all',\n",
    "            jitter=0,\n",
    "            marker_color=pallete[index],\n",
    "            line_color=pallete[index],\n",
    "            whiskerwidth=0.2,\n",
    "            marker_size=10,\n",
    "            line_width=1,\n",
    "        pointpos = 0)\n",
    "        )\n",
    "    fig.add_trace(\n",
    "        go.Scatter(\n",
    "        mode='markers',\n",
    "        x=temp_df[temp_df[\"Pooled\"]==True][\"Group\"],\n",
    "        y=temp_df[(temp_df[\"Pooled\"]==True)][\"Abundance\"],\n",
    "        name=\"Pooled\",\n",
    "        marker=dict(\n",
    "            color='#7f7f7f',\n",
    "            opacity=0.7,\n",
    "            size=12,\n",
    "            line=dict(\n",
    "                color='black',\n",
    "                width=1\n",
    "            )),\n",
    "        marker_symbol=\"cross\"))\n",
    "\n",
    "\n",
    "    fig.update_layout(\n",
    "        title=f'{pathway}',\n",
    "        title_font_size=12,\n",
    "        title_x=0.5,\n",
    "        title_xanchor='center',\n",
    "\n",
    "        yaxis=dict(\n",
    "            autorange=True,\n",
    "            showgrid=True,\n",
    "            zeroline=True,\n",
    "            title={\"text\":\"Pathway Abundance\",\n",
    "                  'font':{\"size\":15}},\n",
    "            gridcolor='rgb(255, 255, 255)',\n",
    "            gridwidth=1,\n",
    "            zerolinecolor='rgb(255, 255, 255)',\n",
    "            zerolinewidth=2,\n",
    "        ),\n",
    "        xaxis=dict(\n",
    "            title={\"font\":{\"size\":15},\n",
    "                  \"text\":\"Treatment Group\"},\n",
    "\n",
    "        ))\n",
    "#     if len(Sig_Results.loc[pathway].shape)>1:\n",
    "# #         text_stat=f\"Association:{Sig_Results.loc[pathway]['metadata'].iloc[0]}<br>P_value:{Sig_Results.loc[pathway]['pval'].iloc[0]:.1e}<br>Coefficient:{Sig_Results.loc[pathway]['coef'].iloc[0]:.1e}\"\n",
    "# #     else:\n",
    "# #         text_stat=f\"Association:{Sig_Results.loc[pathway]['metadata']}<br>P_value:{Sig_Results.loc[pathway]['pval']:.1e}<br>Coefficient:{Sig_Results.loc[pathway]['coef']:.1e}\"\n",
    "#     fig.add_annotation(text=text_stat, \n",
    "#                     align='left',\n",
    "#                     showarrow=False,\n",
    "#                     xref='paper',\n",
    "#                     yref='paper',\n",
    "#                     x=0,\n",
    "#                     y=1,\n",
    "#                     bordercolor='black',\n",
    "#                     borderwidth=1)\n",
    "\n",
    "    \n",
    "    fig.write_image(f\"Sig_Plots_Pathways_Arginine/{pathway}.svg\")"
   ]
  },
  {
   "cell_type": "code",
   "execution_count": 31,
   "metadata": {},
   "outputs": [],
   "source": [
    "if not os.path.exists('Sig_Plots_Pathways_Histidine/'):\n",
    "    os.mkdir('Sig_Plots_Pathways_Histidine/')\n",
    "for pathway in his[\"Sample_ID\"]:\n",
    "    fig = go.Figure()\n",
    "    temp_df={\"Name\":[],\"Group\":[],\"Abundance\":[],\"Pooled\":[]}\n",
    "    for column in his.columns[1:-1]:\n",
    "        temp_df[\"Name\"].append(column)\n",
    "        temp_df[\"Group\"].append(group_map[column])\n",
    "        temp_df[\"Abundance\"].append(his.loc[his[\"Sample_ID\"]==pathway,column].item())\n",
    "        temp_df[\"Pooled\"].append(True if \"D_\" in column else False)\n",
    "    temp_df=pd.DataFrame(temp_df)\n",
    "    \n",
    "    for index,group in enumerate([\"Control\",\"DSS\",\"RCJ\",\"RCJ_plus_DSS\"]):\n",
    "        fig.add_trace(go.Box(\n",
    "            y=temp_df[temp_df[\"Group\"]==group][\"Abundance\"],\n",
    "            name=group,\n",
    "            boxpoints='all',\n",
    "            jitter=0,\n",
    "            marker_color=pallete[index],\n",
    "            line_color=pallete[index],\n",
    "            whiskerwidth=0.2,\n",
    "            marker_size=10,\n",
    "            line_width=1,\n",
    "        pointpos = 0)\n",
    "        )\n",
    "    fig.add_trace(\n",
    "        go.Scatter(\n",
    "        mode='markers',\n",
    "        x=temp_df[temp_df[\"Pooled\"]==True][\"Group\"],\n",
    "        y=temp_df[(temp_df[\"Pooled\"]==True)][\"Abundance\"],\n",
    "        name=\"Pooled\",\n",
    "        marker=dict(\n",
    "            color='#7f7f7f',\n",
    "            opacity=0.7,\n",
    "            size=12,\n",
    "            line=dict(\n",
    "                color='black',\n",
    "                width=1\n",
    "            )),\n",
    "        marker_symbol=\"cross\"))\n",
    "\n",
    "\n",
    "    fig.update_layout(\n",
    "        title=f'{pathway}',\n",
    "        title_font_size=12,\n",
    "        title_x=0.5,\n",
    "        title_xanchor='center',\n",
    "\n",
    "        yaxis=dict(\n",
    "            autorange=True,\n",
    "            showgrid=True,\n",
    "            zeroline=True,\n",
    "            title={\"text\":\"Pathway Abundance\",\n",
    "                  'font':{\"size\":15}},\n",
    "            gridcolor='rgb(255, 255, 255)',\n",
    "            gridwidth=1,\n",
    "            zerolinecolor='rgb(255, 255, 255)',\n",
    "            zerolinewidth=2,\n",
    "        ),\n",
    "        xaxis=dict(\n",
    "            title={\"font\":{\"size\":15},\n",
    "                  \"text\":\"Treatment Group\"},\n",
    "\n",
    "        ))\n",
    "#     if len(Sig_Results.loc[pathway].shape)>1:\n",
    "# #         text_stat=f\"Association:{Sig_Results.loc[pathway]['metadata'].iloc[0]}<br>P_value:{Sig_Results.loc[pathway]['pval'].iloc[0]:.1e}<br>Coefficient:{Sig_Results.loc[pathway]['coef'].iloc[0]:.1e}\"\n",
    "# #     else:\n",
    "# #         text_stat=f\"Association:{Sig_Results.loc[pathway]['metadata']}<br>P_value:{Sig_Results.loc[pathway]['pval']:.1e}<br>Coefficient:{Sig_Results.loc[pathway]['coef']:.1e}\"\n",
    "#     fig.add_annotation(text=text_stat, \n",
    "#                     align='left',\n",
    "#                     showarrow=False,\n",
    "#                     xref='paper',\n",
    "#                     yref='paper',\n",
    "#                     x=0,\n",
    "#                     y=1,\n",
    "#                     bordercolor='black',\n",
    "#                     borderwidth=1)\n",
    "\n",
    "    \n",
    "    fig.write_image(f\"Sig_Plots_Pathways_Histidine/{pathway}.svg\")"
   ]
  },
  {
   "cell_type": "code",
   "execution_count": null,
   "metadata": {},
   "outputs": [],
   "source": [
    "# plt.figure(figsize=(6.5, 6.5), dpi=80)\n",
    "# if not os.path.exists('Sig_Plots_Pathways_Unstratified/'):\n",
    "#     os.mkdir('Sig_Plots_Pathways_Unstratified/')\n",
    "# for i in range(Path_Abund_Unstratified_Filtered.shape[0]):\n",
    "#     x=[1,1,1,3,3,5,5,5,7,7,7]\n",
    "#     x1=list(np.linspace(0.5,1.5,100))\n",
    "#     x2=list(np.linspace(2.5,3.5,100))\n",
    "#     x3=list(np.linspace(4.5,5.5,100))\n",
    "#     x4=list(np.linspace(6.5,7.5,100))\n",
    "#     x5=[1,3,3,5,7]\n",
    "#     y=list(Path_Abund_Unstratified_Filtered.iloc[i,[1,2,3,4,5,11,12,13,14,15,16]])\n",
    "#     y1=[statistics.median(y[0:3])]*len(x1)\n",
    "#     y2=[statistics.median(y[3:5])]*len(x1)\n",
    "#     y3=[statistics.median(y[5:8])]*len(x1)\n",
    "#     y4=[statistics.median(y[8:11])]*len(x1)\n",
    "#     y5=Path_Abund_Unstratified_Filtered.iloc[i,[6,7,8,9,10]]\n",
    "#     ax1=plt.plot(x1,y1,x2,y2,x3,y3,x4,y4,color='k',linewidth=1,linestyle=\"--\",label=\"Median\")\n",
    "#     ax2=plt.scatter(x,y,s=40,cmap='summer',label=\"Individual\")\n",
    "#     ax3=plt.scatter(x5,y5,s=40,cmap='r',marker=',',label=\"Pooled\")\n",
    "#     plt.legend([ax1,ax2,ax3],[\"Median\",\"Individual\",\"Pooled\"],loc='upper right')\n",
    "#     plt.suptitle(\"\\n\".join(Path_Abund_Unstratified_Filtered.loc[i,\"Sample_ID\"].split(\":\")),fontsize=12)\n",
    "#     plt.xticks([1,3,5,7],['Control','DSS','RCE','RCE+DSS'])\n",
    "#     top_DSS=plt.ylim()[1]-0.02*plt.ylim()[1]\n",
    "#     if len(Sig_Results.loc[Path_Abund_Unstratified_Filtered.loc[i,\"Sample_ID\"]].shape)==1:     \n",
    "#         plt.text(0.3,top_DSS,Sig_Results.loc[Path_Abund_Unstratified_Filtered.loc[i,\"Sample_ID\"],\"metadata\"]+\": \" + str(Sig_Results.loc[Path_Abund_Unstratified_Filtered.loc[i,\"Sample_ID\"],\"value\"])+\"\\n\\nCoeff: \"+ str(Sig_Results.loc[Path_Abund_Unstratified_Filtered.loc[i,\"Sample_ID\"],\"coef\"])[0:5]+\"\\n\\nP_value: \"+str(format(Sig_Results.loc[Path_Abund_Unstratified_Filtered.loc[i,\"Sample_ID\"],\"pval\"],'f'))+\"\\n\\nQ_value: \"+str(format(Sig_Results.loc[Path_Abund_Unstratified_Filtered.loc[i,\"Sample_ID\"],\"qval\"],'f')),fontsize=10,verticalalignment=\"top\")\n",
    "#     else:\n",
    "#         plt.text(0.3,top_DSS,Sig_Results.loc[Path_Abund_Unstratified_Filtered.loc[i,\"Sample_ID\"],\"metadata\"].iloc[0]+\": \" + str(Sig_Results.loc[Path_Abund_Unstratified_Filtered.loc[i,\"Sample_ID\"],\"value\"].iloc[0])+\"\\n\\nCoeff: \"+ str(Sig_Results.loc[Path_Abund_Unstratified_Filtered.loc[i,\"Sample_ID\"],\"coef\"].iloc[0])[0:5]+\"\\n\\nP_value: \"+str(format(Sig_Results.loc[Path_Abund_Unstratified_Filtered.loc[i,\"Sample_ID\"],\"pval\"].iloc[0],'f'))+\"\\n\\nQ_value: \"+str(format(Sig_Results.loc[Path_Abund_Unstratified_Filtered.loc[i,\"Sample_ID\"],\"qval\"].iloc[0],'f')),fontsize=10,verticalalignment=\"top\")\n",
    "#     plt.xlabel(\"Treatment Group\",fontsize=20)\n",
    "#     plt.ylabel(\"Path Abundances\",fontsize=20)\n",
    "#     plt.tight_layout()\n",
    "#     plt.savefig(\"Sig_Plots_Pathways_Unstratified/\"+Path_Abund_Unstratified_Filtered.loc[i,\"Sample_ID\"][0:15].replace(': ','')+'.png',dpi=300)\n",
    "#     plt.cla()\n",
    "    "
   ]
  },
  {
   "cell_type": "code",
   "execution_count": null,
   "metadata": {},
   "outputs": [],
   "source": [
    "Path_Abund_Unstratified_Filtered.set_index(\"Sample_ID\",inplace=True)"
   ]
  },
  {
   "cell_type": "code",
   "execution_count": null,
   "metadata": {},
   "outputs": [],
   "source": [
    "Samples=[i.replace(\"RCE\",\"RCJ\")for i in Samples]"
   ]
  },
  {
   "cell_type": "code",
   "execution_count": null,
   "metadata": {},
   "outputs": [],
   "source": [
    "Path_Abund_Unstratified_Filtered.columns=Samples"
   ]
  },
  {
   "cell_type": "code",
   "execution_count": null,
   "metadata": {},
   "outputs": [],
   "source": [
    "import seaborn\n",
    "import matplotlib.patches as mpatches\n",
    "\n",
    "Samples=list(Path_Abund_Unstratified_Filtered.columns)\n",
    "palette = seaborn.color_palette(\"Paired\")\n",
    "\n",
    "Group_Names=[\"Control\",\"RCJ\",\"DSS\",\"RCJ_plus_DSS\"]\n",
    "Group_List=[]\n",
    "for i in Samples:\n",
    "    for j in Group_Names:\n",
    "        if j in i and 'plus' not in i:\n",
    "            Group_List.append(j)\n",
    "            break\n",
    "        elif \"plus\" in i:\n",
    "            Group_List.append(\"RCJ_plus_DSS\")\n",
    "            break\n",
    "\n",
    "Color_dict={}\n",
    "for i in range(len(Group_List)):\n",
    "    Color_dict[Samples[i]]=palette[Group_Names.index(Group_List[i])]\n",
    "Col_ser=pd.Series(Color_dict)\n",
    "seaborn.set(font_scale=1.8)\n",
    "ax=seaborn.clustermap(Path_Abund_Unstratified_Filtered.drop(columns=[\"Start\"]),standard_scale=0,figsize=(25,12),row_cluster=False, metric=\"correlation\",dendrogram_ratio=(.1, .2),cbar_pos=(0, .25, .02, .31),col_colors=Col_ser)\n",
    "\n",
    "Patches=[]\n",
    "for t in Group_Names:\n",
    "    Patches.append(mpatches.Patch(color=palette[Group_Names.index(t)], label=t))\n",
    "\n",
    "plt.legend(handles=Patches,loc='upper left',bbox_to_anchor=(-1, 1.8, 0.2, 0.5),fontsize='x-small')\n",
    "ax.savefig(\"Sig_Plots_Pathways_Unstratified/Sig_Plots_Pathways_Unstratified.jpg\")"
   ]
  },
  {
   "cell_type": "code",
   "execution_count": null,
   "metadata": {},
   "outputs": [],
   "source": []
  },
  {
   "cell_type": "code",
   "execution_count": null,
   "metadata": {},
   "outputs": [],
   "source": [
    "Path_Abund_Unstratified_Filtered"
   ]
  },
  {
   "cell_type": "code",
   "execution_count": null,
   "metadata": {},
   "outputs": [],
   "source": [
    "Path_Abund_Unstratified_Filtered.reset_index(inplace=True)"
   ]
  },
  {
   "cell_type": "code",
   "execution_count": null,
   "metadata": {},
   "outputs": [],
   "source": [
    "Heatmap_Dict={\"Pathway\":[],\"DSS_only\":[],\"RCE_only\":[],\"RCEwDSS_only\":[]}\n",
    "DF=pd.DataFrame(Heatmap_Dict)\n",
    "Counter=0\n",
    "for i in Path_Abund_Unstratified_Filtered[\"Sample_ID\"]:\n",
    "    DF.loc[Counter]=[i,0,0,0]\n",
    "    Temp=Sig_Results.loc[i,['metadata','coef','qval']]\n",
    "    if len(Temp.shape)==1:\n",
    "        DF.loc[Counter,Temp['metadata']]=-numpy.log(Temp['qval'])*numpy.sign(Temp['coef'])\n",
    "    else:\n",
    "        for k in range(Temp.shape[0]):\n",
    "            DF.loc[Counter,Temp['metadata'][k]]=-numpy.log(Temp['qval'][k])*numpy.sign(Temp['coef'][k])\n",
    "    Counter+=1\n",
    "        \n",
    "    \n",
    "    "
   ]
  },
  {
   "cell_type": "code",
   "execution_count": null,
   "metadata": {},
   "outputs": [],
   "source": [
    "DF.set_index('Pathway',inplace=True)"
   ]
  },
  {
   "cell_type": "code",
   "execution_count": null,
   "metadata": {},
   "outputs": [],
   "source": [
    "T=seaborn.color_palette(\"coolwarm\", as_cmap=True)\n"
   ]
  },
  {
   "cell_type": "code",
   "execution_count": null,
   "metadata": {},
   "outputs": [],
   "source": [
    "seaborn.set(rc = {'figure.figsize':(25,12)})\n",
    "\n",
    "ax=seaborn.heatmap(DF,cmap=T,linewidths=0.1, linecolor='white',square=True)\n",
    "ax=ax.get_figure()    \n",
    "\n",
    "\n",
    "ax.savefig('Sig_Plots_Pathways_Unstratified/Correlated_Pathways_Unstratified.jpg')\n",
    "\n",
    "    \n"
   ]
  },
  {
   "cell_type": "code",
   "execution_count": null,
   "metadata": {},
   "outputs": [],
   "source": []
  },
  {
   "cell_type": "code",
   "execution_count": null,
   "metadata": {},
   "outputs": [],
   "source": [
    "Path_Abund_Stratified_Filtered=Path_Abund_Filtered[Path_Abund_Filtered['Sample_ID'].str.contains('|',regex=False)]\n",
    "Path_Abund_Stratified_Filtered=Path_Abund_Stratified_Filtered.reset_index(drop=True)\n"
   ]
  },
  {
   "cell_type": "code",
   "execution_count": null,
   "metadata": {},
   "outputs": [],
   "source": [
    "plt.figure(figsize=(6.5, 6.5), dpi=80)\n",
    "if not os.path.exists('Sig_Plots_Pathways_Stratified/'):\n",
    "    os.mkdir('Sig_Plots_Pathways_Stratified/')\n",
    "for i in range(Path_Abund_Stratified_Filtered.shape[0]):\n",
    "    x=[1,1,1,3,3,5,5,5,7,7,7]\n",
    "    x1=list(np.linspace(0.5,1.5,100))\n",
    "    x2=list(np.linspace(2.5,3.5,100))\n",
    "    x3=list(np.linspace(4.5,5.5,100))\n",
    "    x4=list(np.linspace(6.5,7.5,100))\n",
    "    x5=[1,3,3,5,7]\n",
    "    y=list(Path_Abund_Stratified_Filtered.iloc[i,[1,2,3,4,5,11,12,13,14,15,16]])\n",
    "    y1=[statistics.median(y[0:3])]*len(x1)\n",
    "    y2=[statistics.median(y[3:5])]*len(x1)\n",
    "    y3=[statistics.median(y[5:8])]*len(x1)\n",
    "    y4=[statistics.median(y[8:11])]*len(x1)\n",
    "    y5=Path_Abund_Stratified_Filtered.iloc[i,[6,7,8,9,10]]\n",
    "    ax1=plt.plot(x1,y1,x2,y2,x3,y3,x4,y4,color='k',linewidth=1,linestyle=\"--\",label=\"Median\")\n",
    "    ax2=plt.scatter(x,y,s=40,cmap='summer',label=\"Individual\")\n",
    "    ax3=plt.scatter(x5,y5,s=40,cmap='r',marker=',',label=\"Pooled\")\n",
    "    plt.legend([ax1,ax2,ax3],[\"Median\",\"Individual\",\"Pooled\"],loc='upper right',framealpha=0.5,edgecolor=\"black\")\n",
    "    plt.suptitle(Path_Abund_Stratified_Filtered.loc[i,\"Sample_ID\"],fontsize=7)\n",
    "    plt.suptitle(\"\\n\".join(Path_Abund_Stratified_Filtered.loc[i,\"Sample_ID\"].split(\":\")),fontsize=12)\n",
    "    plt.xticks([1,3,5,7],['Control','DSS','RCE','RCE+DSS'])\n",
    "    top_DSS=plt.ylim()[1]-0.02*plt.ylim()[1]\n",
    "\n",
    "    if len(Sig_Results.loc[Path_Abund_Stratified_Filtered.loc[i,\"Sample_ID\"]].shape)==1:     \n",
    "        plt.text(0.3,top_DSS,Sig_Results.loc[Path_Abund_Stratified_Filtered.loc[i,\"Sample_ID\"],\"metadata\"]+\": \" + str(Sig_Results.loc[Path_Abund_Stratified_Filtered.loc[i,\"Sample_ID\"],\"value\"])+\"\\n\\nCoeff: \"+ str(Sig_Results.loc[Path_Abund_Stratified_Filtered.loc[i,\"Sample_ID\"],\"coef\"])[0:5]+\"\\n\\nP_value: \"+str(format(Sig_Results.loc[Path_Abund_Stratified_Filtered.loc[i,\"Sample_ID\"],\"pval\"],'f'))+\"\\n\\nQ_value: \"+str(format(Sig_Results.loc[Path_Abund_Stratified_Filtered.loc[i,\"Sample_ID\"],\"qval\"],'f')),fontsize=10,verticalalignment=\"top\")\n",
    "    else:\n",
    "        plt.text(0.3,top_DSS,Sig_Results.loc[Path_Abund_Stratified_Filtered.loc[i,\"Sample_ID\"],\"metadata\"].iloc[0]+\": \" + str(Sig_Results.loc[Path_Abund_Stratified_Filtered.loc[i,\"Sample_ID\"],\"value\"].iloc[0])+\"\\n\\nCoeff: \"+ str(Sig_Results.loc[Path_Abund_Stratified_Filtered.loc[i,\"Sample_ID\"],\"coef\"].iloc[0])[0:5]+\"\\n\\nP_value: \"+str(format(Sig_Results.loc[Path_Abund_Stratified_Filtered.loc[i,\"Sample_ID\"],\"pval\"].iloc[0],'f'))+\"\\n\\nQ_value: \"+str(format(Sig_Results.loc[Path_Abund_Stratified_Filtered.loc[i,\"Sample_ID\"],\"qval\"].iloc[0],'f')),fontsize=10,verticalalignment=\"top\")\n",
    "\n",
    "    \n",
    "    \n",
    "    plt.xlabel(\"Treatment Group\")\n",
    "    plt.ylabel(\"Path Abundances\")\n",
    "    plt.tight_layout()\n",
    "\n",
    "    plt.savefig(\"Sig_Plots_Pathways_Stratified/\"+Path_Abund_Stratified_Filtered.loc[i,\"Sample_ID\"][0:6],dpi=300)\n",
    "    plt.cla()"
   ]
  },
  {
   "cell_type": "markdown",
   "metadata": {},
   "source": [
    "## Significant Reactions "
   ]
  },
  {
   "cell_type": "code",
   "execution_count": null,
   "metadata": {},
   "outputs": [],
   "source": [
    "Rxn_abund=pd.read_csv(\"./rxn-cpm.txt\",delimiter='\\t')\n",
    "Mapping_dict={}\n",
    "for i in range(Rxn_abund.shape[0]):\n",
    "    Mapping_dict['X'+str(i)]=Rxn_abund.iloc[i,0]\n",
    "    Rxn_abund.iloc[i,0]='X'+str(i)\n",
    "  \n",
    "Rxn_abund.set_index(['Sample_ID'],inplace=True)\n",
    "Rxn_abund.to_csv(\"Rxn_abundance_Temp.tsv\")"
   ]
  },
  {
   "cell_type": "code",
   "execution_count": null,
   "metadata": {},
   "outputs": [],
   "source": [
    "Sig_Results=pd.read_csv(\"./Rxns_MaAslin/significant_results.tsv\",delimiter=\"\\t\")\n",
    "Filter_By_pval=(Sig_Results['pval']<0.05)&(Sig_Results['qval']<0.1)\n",
    "Sig_Results= Sig_Results.loc[Filter_By_pval]\n"
   ]
  },
  {
   "cell_type": "code",
   "execution_count": null,
   "metadata": {},
   "outputs": [],
   "source": [
    "Sex_Correlated=list(Sig_Results[Sig_Results['metadata']=='Sex']['feature'])\n",
    "Sig_Results=Sig_Results[~Sig_Results['feature'].isin(Sex_Correlated)]\n",
    "Sig_Results[\"feature\"]=Sig_Results[\"feature\"].apply(lambda x:Mapping_dict[x])"
   ]
  },
  {
   "cell_type": "code",
   "execution_count": null,
   "metadata": {},
   "outputs": [],
   "source": [
    "Rxn_abund.reset_index(inplace=True)"
   ]
  },
  {
   "cell_type": "code",
   "execution_count": null,
   "metadata": {},
   "outputs": [],
   "source": [
    "for i in range(Rxn_abund.shape[0]):\n",
    "       Rxn_abund.loc[i,\"Sample_ID\"]=Mapping_dict[Rxn_abund.loc[i,\"Sample_ID\"]]\n"
   ]
  },
  {
   "cell_type": "code",
   "execution_count": null,
   "metadata": {},
   "outputs": [],
   "source": [
    "Rxn_Abund_Filtered=Rxn_abund[Rxn_abund[\"Sample_ID\"].isin(Sig_Results[\"feature\"])]          \n",
    "Rxn_Abund_Filtered=Rxn_Abund_Filtered.reset_index(drop=True)"
   ]
  },
  {
   "cell_type": "code",
   "execution_count": null,
   "metadata": {},
   "outputs": [],
   "source": [
    "Rxn_Abund_Unstratified_Filtered=Rxn_Abund_Filtered[~Rxn_Abund_Filtered['Sample_ID'].str.contains('|',regex=False)]\n",
    "Rxn_Abund_Unstratified_Filtered=Rxn_Abund_Unstratified_Filtered.reset_index(drop=True)"
   ]
  },
  {
   "cell_type": "code",
   "execution_count": null,
   "metadata": {},
   "outputs": [],
   "source": [
    "Sig_Results.set_index(\"feature\",inplace=True)"
   ]
  },
  {
   "cell_type": "code",
   "execution_count": null,
   "metadata": {},
   "outputs": [],
   "source": [
    "Sig_Results.to_csv(\"Significant_Reactions_Stats.csv\")"
   ]
  },
  {
   "cell_type": "code",
   "execution_count": null,
   "metadata": {},
   "outputs": [],
   "source": [
    "plt.figure(figsize=(6, 6), dpi=80)\n",
    "if not os.path.exists('Sig_Plots_Rxns_Unstratified/'):\n",
    "    os.mkdir('Sig_Plots_Rxns_Unstratified/')\n",
    "for i in range(Rxn_Abund_Unstratified_Filtered.shape[0]):\n",
    "    x=[1,1,1,3,3,5,5,5,7,7,7]\n",
    "    x1=list(np.linspace(0.5,1.5,100))\n",
    "    x2=list(np.linspace(2.5,3.5,100))\n",
    "    x3=list(np.linspace(4.5,5.5,100))\n",
    "    x4=list(np.linspace(6.5,7.5,100))\n",
    "    x5=[1,3,3,5,7]\n",
    "    y=list(Rxn_Abund_Unstratified_Filtered.iloc[i,[1,2,3,4,5,11,12,13,14,15,16]])\n",
    "    y1=[statistics.median(y[0:3])]*len(x1)\n",
    "    y2=[statistics.median(y[3:5])]*len(x1)\n",
    "    y3=[statistics.median(y[5:8])]*len(x1)\n",
    "    y4=[statistics.median(y[8:11])]*len(x1)\n",
    "    y5=Rxn_Abund_Unstratified_Filtered.iloc[i,[6,7,8,9,10]]\n",
    "    plt.plot(x1,y1,x2,y2,x3,y3,x4,y4,color='k',linewidth=1,linestyle=\"--\")\n",
    "    plt.scatter(x,y,s=25,cmap='summer')\n",
    "    plt.scatter(x5,y5,s=30,cmap='r',marker=',')\n",
    "    plt.suptitle(Rxn_Abund_Unstratified_Filtered.loc[i,\"Sample_ID\"],fontsize=7)\n",
    "    plt.xticks([1,3,5,7],['Control','DSS','RCE','RCE+DSS'])\n",
    "    top_DSS=plt.ylim()[1]-1\n",
    "    if len(Sig_Results.loc[Rxn_Abund_Unstratified_Filtered.loc[i,\"Sample_ID\"]].shape)==1:     \n",
    "        plt.text(6,top_DSS,Sig_Results.loc[Rxn_Abund_Unstratified_Filtered.loc[i,\"Sample_ID\"],\"metadata\"]+\": \" + str(Sig_Results.loc[Rxn_Abund_Unstratified_Filtered.loc[i,\"Sample_ID\"],\"value\"])+\"\\n\\nCoeff: \"+ str(Sig_Results.loc[Rxn_Abund_Unstratified_Filtered.loc[i,\"Sample_ID\"],\"coef\"])[0:5]+\"\\n\\nP_value: \"+str(format(Sig_Results.loc[Rxn_Abund_Unstratified_Filtered.loc[i,\"Sample_ID\"],\"pval\"],'f'))+\"\\n\\nQ_value: \"+str(format(Sig_Results.loc[Rxn_Abund_Unstratified_Filtered.loc[i,\"Sample_ID\"],\"qval\"],'f')),fontsize=9,verticalalignment=\"top\")\n",
    "    else:\n",
    "        plt.text(6,top_DSS,Sig_Results.loc[Rxn_Abund_Unstratified_Filtered.loc[i,\"Sample_ID\"],\"metadata\"].iloc[0]+\": \" + str(Sig_Results.loc[Rxn_Abund_Unstratified_Filtered.loc[i,\"Sample_ID\"],\"value\"].iloc[0])+\"\\n\\nCoeff: \"+ str(Sig_Results.loc[Rxn_Abund_Unstratified_Filtered.loc[i,\"Sample_ID\"],\"coef\"].iloc[0])[0:5]+\"\\n\\nP_value: \"+str(format(Sig_Results.loc[Rxn_Abund_Unstratified_Filtered.loc[i,\"Sample_ID\"],\"pval\"].iloc[0],'f'))+\"\\n\\nQ_value: \"+str(format(Sig_Results.loc[Rxn_Abund_Unstratified_Filtered.loc[i,\"Sample_ID\"],\"qval\"].iloc[0],'f')),fontsize=9,verticalalignment=\"top\")\n",
    "    plt.xlabel(\"Treatment Group\")\n",
    "    plt.ylabel(\"Path Abundances\")\n",
    "    plt.savefig(\"Sig_Plots_Rxns_Unstratified/\"+Rxn_Abund_Unstratified_Filtered.loc[i,\"Sample_ID\"][0:20].replace(': ','')+'.png',dpi=300)\n",
    "    plt.cla()"
   ]
  },
  {
   "cell_type": "code",
   "execution_count": null,
   "metadata": {},
   "outputs": [],
   "source": [
    "Heatmap_Dict={\"Rxn\":[],\"DSS_only\":[],\"RCE_only\":[],\"RCEwDSS_only\":[]}\n",
    "DF=pd.DataFrame(Heatmap_Dict)\n",
    "Counter=0\n",
    "for i in Rxn_Abund_Unstratified_Filtered[\"Sample_ID\"]:\n",
    "    DF.loc[Counter]=[i,0,0,0]\n",
    "    Temp=Sig_Results.loc[i,['metadata','coef','qval']]\n",
    "    if len(Temp.shape)==1:\n",
    "        DF.loc[Counter,Temp['metadata']]=-np.log(Temp['qval'])*np.sign(Temp['coef'])\n",
    "    else:\n",
    "        for k in range(Temp.shape[0]):\n",
    "            DF.loc[Counter,Temp['metadata'][k]]=-np.log(Temp['qval'][k])*np.sign(Temp['coef'][k])\n",
    "    Counter+=1\n",
    "DF.set_index(\"Rxn\",inplace=True)"
   ]
  },
  {
   "cell_type": "code",
   "execution_count": null,
   "metadata": {},
   "outputs": [],
   "source": [
    "seaborn.set(rc = {'figure.figsize':(25,12)})\n",
    "\n",
    "\n",
    "T=seaborn.color_palette(\"coolwarm\", as_cmap=True)\n",
    "\n",
    "for i in range(math.floor(DF.shape[0]/20)):\n",
    "    if (i+1)*20<DF.shape[0]:\n",
    "        ax=seaborn.heatmap(DF.iloc[20*i:20*(i+1)],cmap=T,linewidths=1, linecolor='white',square=True)\n",
    "\n",
    "    else:\n",
    "        ax=seaborn.heatmap(DF.iloc[20*i:],cmap=T,linewidths=1, linecolor='white',square=True)\n",
    "\n",
    "    ax=ax.get_figure()    \n",
    "    ax.savefig('Sig_Plots_Rxns_Unstratified/Rxn_Heatmap'+str(i))\n",
    "    plt.clf()\n",
    "    "
   ]
  },
  {
   "cell_type": "code",
   "execution_count": null,
   "metadata": {},
   "outputs": [],
   "source": [
    "Sig_Results.reset_index(inplace=True)"
   ]
  },
  {
   "cell_type": "code",
   "execution_count": null,
   "metadata": {},
   "outputs": [],
   "source": [
    "Sig_Results[Sig_Results['feature'].str.contains('|',regex=False)]"
   ]
  },
  {
   "cell_type": "code",
   "execution_count": null,
   "metadata": {},
   "outputs": [],
   "source": [
    "Rxn_Abund_Filtered=Rxn_abund[Rxn_abund[\"Sample_ID\"].isin(Sig_Results[\"feature\"])]"
   ]
  },
  {
   "cell_type": "code",
   "execution_count": null,
   "metadata": {},
   "outputs": [],
   "source": [
    "Rxn_Abund_Stratified_Filtered=Rxn_Abund_Filtered[Rxn_Abund_Filtered['Sample_ID'].str.contains('|',regex=False)]\n",
    "Rxn_Abund_Stratified_Filtered=Rxn_Abund_Stratified_Filtered.reset_index(drop=True)\n"
   ]
  },
  {
   "cell_type": "code",
   "execution_count": null,
   "metadata": {},
   "outputs": [],
   "source": [
    "Sig_Results.set_index(\"feature\",inplace=True)"
   ]
  },
  {
   "cell_type": "markdown",
   "metadata": {},
   "source": [
    "### DO NOT RUN THE FOLLOWING UNLESS YOU HAVE TIME AND SPACE FOR THOUSANDS OF PLOTS"
   ]
  },
  {
   "cell_type": "code",
   "execution_count": null,
   "metadata": {},
   "outputs": [],
   "source": [
    "plt.figure(figsize=(6, 6), dpi=80)\n",
    "if not os.path.exists('Sig_Plots_Rxns_Stratified/'):\n",
    "    os.mkdir('Sig_Plots_Rxns_Stratified/')\n",
    "for i in range(Rxn_Abund_Stratified_Filtered.shape[0]):\n",
    "    x=[1,1,1,3,3,5,5,5,7,7,7]\n",
    "    x1=list(np.linspace(0.5,1.5,100))\n",
    "    x2=list(np.linspace(2.5,3.5,100))\n",
    "    x3=list(np.linspace(4.5,5.5,100))\n",
    "    x4=list(np.linspace(6.5,7.5,100))\n",
    "    x5=[1,3,3,5,7]\n",
    "    y=list(Rxn_Abund_Stratified_Filtered.iloc[i,[1,2,3,4,5,11,12,13,14,15,16]])\n",
    "    y1=[statistics.median(y[0:3])]*len(x1)\n",
    "    y2=[statistics.median(y[3:5])]*len(x1)\n",
    "    y3=[statistics.median(y[5:8])]*len(x1)\n",
    "    y4=[statistics.median(y[8:11])]*len(x1)\n",
    "    y5=Rxn_Abund_Stratified_Filtered.iloc[i,[6,7,8,9,10]]\n",
    "    plt.plot(x1,y1,x2,y2,x3,y3,x4,y4,color='k',linewidth=1,linestyle=\"--\")\n",
    "    plt.scatter(x,y,s=25,cmap='summer')\n",
    "    plt.scatter(x5,y5,s=30,cmap='r',marker=',')\n",
    "    plt.suptitle(Rxn_Abund_Stratified_Filtered.loc[i,\"Sample_ID\"],fontsize=7)\n",
    "    plt.xticks([1,3,5,7],['Control','DSS','RCE','RCE+DSS'])\n",
    "    top_DSS=plt.ylim()[1]-1\n",
    "    if len(Sig_Results.loc[Rxn_Abund_Stratified_Filtered.loc[i,\"Sample_ID\"]].shape)==1:     \n",
    "        plt.text(6,top_DSS,Sig_Results.loc[Rxn_Abund_Stratified_Filtered.loc[i,\"Sample_ID\"],\"metadata\"]+\": \" + str(Sig_Results.loc[Rxn_Abund_Stratified_Filtered.loc[i,\"Sample_ID\"],\"value\"])+\"\\n\\nCoeff: \"+ str(Sig_Results.loc[Rxn_Abund_Stratified_Filtered.loc[i,\"Sample_ID\"],\"coef\"])[0:5]+\"\\n\\nP_value: \"+str(format(Sig_Results.loc[Rxn_Abund_Stratified_Filtered.loc[i,\"Sample_ID\"],\"pval\"],'f'))+\"\\n\\nQ_value: \"+str(format(Sig_Results.loc[Rxn_Abund_Stratified_Filtered.loc[i,\"Sample_ID\"],\"qval\"],'f')),fontsize=9,verticalalignment=\"top\")\n",
    "    else:\n",
    "        plt.text(6,top_DSS,Sig_Results.loc[Rxn_Abund_Stratified_Filtered.loc[i,\"Sample_ID\"],\"metadata\"].iloc[0]+\": \" + str(Sig_Results.loc[Rxn_Abund_Stratified_Filtered.loc[i,\"Sample_ID\"],\"value\"].iloc[0])+\"\\n\\nCoeff: \"+ str(Sig_Results.loc[Rxn_Abund_Stratified_Filtered.loc[i,\"Sample_ID\"],\"coef\"].iloc[0])[0:5]+\"\\n\\nP_value: \"+str(format(Sig_Results.loc[Rxn_Abund_Stratified_Filtered.loc[i,\"Sample_ID\"],\"pval\"].iloc[0],'f'))+\"\\n\\nQ_value: \"+str(format(Sig_Results.loc[Rxn_Abund_Stratified_Filtered.loc[i,\"Sample_ID\"],\"qval\"].iloc[0],'f')),fontsize=9,verticalalignment=\"top\")\n",
    "    plt.xlabel(\"Treatment Group\")\n",
    "    plt.ylabel(\"Path Abundances\")\n",
    "    plt.savefig(\"Sig_Plots_Rxns_Stratified/\"+Rxn_Abund_Stratified_Filtered.loc[i,\"Sample_ID\"][0:6]+'.png',dpi=300)\n",
    "    plt.cla()"
   ]
  },
  {
   "cell_type": "markdown",
   "metadata": {},
   "source": [
    "## Some Further Analysis\n",
    "\n",
    "Tables Needed:\n",
    "\n",
    "- Path_Abund_Stratified_Filtered\n",
    "- Rxn_Abund_Unstratified_Filtered\n",
    "- Path_Abund_Unstratified_Filtered\n",
    "\n",
    "**Question 1:**\n",
    "\n",
    "-\tSeveral reactions that look apparently higher in DSS+RCJ but low in DSS and controlonly are alpha-L-focusidase: \n",
    "        - ALPHA-L-FOCUSIDEASE \n",
    "        - RXN-19378\n",
    "        - RXN-19379\n",
    "        - The figures all look the same, so they are probably from the same gene\n",
    "        - Can you check if this gene/reaction is significantly higher in DSS+RCJ vs. DSS? It might not since one sample in DSS+RCJ is at the same level as DSS but two others are about 2-fold higher.\n"
   ]
  },
  {
   "cell_type": "code",
   "execution_count": null,
   "metadata": {},
   "outputs": [],
   "source": [
    "from scipy.stats import ttest_ind\n"
   ]
  },
  {
   "cell_type": "code",
   "execution_count": null,
   "metadata": {},
   "outputs": [],
   "source": [
    "Q1_List=[\"ALPHA\",\"RXN-19378\",\"RXN-19379\"]\n",
    "Q1_DF=Rxn_Abund_Unstratified_Filtered[Rxn_Abund_Unstratified_Filtered[\"Sample_ID\"].str.contains(\"Something_Werid\")]\n",
    "for i in range(len(Q1_List)):\n",
    "    Q1_DF=Q1_DF.append(Rxn_Abund_Unstratified_Filtered[Rxn_Abund_Unstratified_Filtered[\"Sample_ID\"].str.contains(Q1_List[i])])\n",
    "    \n",
    "Q1_DF=Q1_DF.iloc[:,[4,5,-4,-3,-2]]"
   ]
  },
  {
   "cell_type": "code",
   "execution_count": null,
   "metadata": {},
   "outputs": [],
   "source": [
    "Desired_Species=[\"d__Bacteria|p__Firmicutes|c__Clostridia|o__Eubacteriales|f__Lachnospiraceae|g__Roseburia|s__Roseburia intestinalis\",\n",
    "                 \"d__Bacteria|p__Firmicutes|c__Clostridia|o__Eubacteriales|f__Lachnospiraceae|g__Roseburia|s__Roseburia hominis\",\n",
    "                \"d__Bacteria|p__Firmicutes|c__Clostridia|o__Eubacteriales|f__Oscillospiraceae|g__Faecalibacterium|s__Faecalibacterium prausnitzii\",\n",
    "                \"d__Bacteria|p__Verrucomicrobia|c__Verrucomicrobiae|o__Verrucomicrobiales|f__Akkermansiaceae|g__Akkermansia|s__Akkermansia muciniphila\",\n",
    "                \"k__Bacteria|p__Firmicutes|c__Bacilli|o__Lactobacillales|f__Lactobacillaceae|g__Lactobacillus|s__Lactobacillus_johnsonii\",\n",
    "                \"k__Bacteria|p__Actinobacteria|c__Actinobacteria|o__Bifidobacteriales|f__Bifidobacteriaceae|g__Bifidobacterium|s__Bifidobacterium_pseudolongum\",\n",
    "                \"k__Bacteria|p__Firmicutes|c__Clostridia|o__Clostridiales|f__Oscillospiraceae|g__Oscillibacter|s__Oscillibacter_sp_1_3\",\n",
    "                \"k__Bacteria|p__Firmicutes|c__Clostridia|o__Clostridiales|f__Lachnospiraceae|g__Dorea|s__Dorea_sp_5_2\",\n",
    "                \"k__Bacteria|p__Firmicutes|c__Clostridia|o__Clostridiales|f__Lachnospiraceae|g__Lachnospiraceae_unclassified|s__Lachnospiraceae_bacterium_10_1\",\n",
    "                 \"k__Bacteria|p__Firmicutes|c__Clostridia|o__Clostridiales|f__Lachnospiraceae|g__Acetatifactor|s__Acetatifactor_muris\"\n",
    "                ]"
   ]
  },
  {
   "cell_type": "code",
   "execution_count": null,
   "metadata": {},
   "outputs": [],
   "source": [
    "Metaphlan=pd.read_table(\"Merge_Metaphlan_Clean.tsv\")\n",
    "Kraken_TSS=pd.read_table(\"Species_TSS.csv\",delimiter=\",\")\n",
    "Kraken_CSS=pd.read_table(\"Species_Normalized.txt\",delimiter=\"\\t\")"
   ]
  },
  {
   "cell_type": "code",
   "execution_count": null,
   "metadata": {},
   "outputs": [],
   "source": [
    "Metaphlan=Metaphlan.reindex(sorted(Metaphlan.columns), axis=1).set_index(\"clade_name\").reset_index()\n",
    "Metaphlan.drop(\"NCBI_tax_id\",axis=1,inplace=True)"
   ]
  },
  {
   "cell_type": "code",
   "execution_count": null,
   "metadata": {},
   "outputs": [],
   "source": [
    "Met_Cols=[\"clade_name\"]\n",
    "[Met_Cols.append(colname.strip(\"_metaphlan_bugs_list\")) for colname in Metaphlan.columns if \"_metaphlan_bugs_list\" in colname]"
   ]
  },
  {
   "cell_type": "code",
   "execution_count": null,
   "metadata": {},
   "outputs": [],
   "source": [
    "Dict={}\n",
    "for i in range(len(Metaphlan.columns)):\n",
    "    Dict[Metaphlan.columns[i]]=Met_Cols[i]\n",
    "\n",
    "Dict[\"Start_metaphlan_bugs_list\"]=\"Start\"\n",
    "Dict[\"clade_name\"]=\"Taxon\"\n",
    "Dict[\"DSS_treatedp_metaphlan_bugs_list\"]=\"DSS_treatedp\"\n",
    "Dict[\"DSS_treatedp_metaphlan_bugs_list\"]=\"DSS_treatedp\"\n",
    "Dict['D_Control_metaphlan_bugs_list']=\"D_Control\"\n",
    "\n",
    "Metaphlan.rename(Dict,inplace=True,axis=1)\n",
    "Kraken_TSS.rename({\"Taxonomy\":\"Taxon\"},inplace=True,axis=1)"
   ]
  },
  {
   "cell_type": "code",
   "execution_count": null,
   "metadata": {},
   "outputs": [],
   "source": [
    "Final_Table=pd.DataFrame(columns = Metaphlan.columns)"
   ]
  },
  {
   "cell_type": "code",
   "execution_count": null,
   "metadata": {},
   "outputs": [],
   "source": [
    "for Bac in Desired_Species:\n",
    "    if Bac in list(Metaphlan[\"Taxon\"]):\n",
    "        Final_Table=Final_Table.append(Metaphlan[Metaphlan[\"Taxon\"]==Bac])\n",
    "    else:\n",
    "        Final_Table=Final_Table.append(Kraken_TSS[Kraken_TSS[\"Taxon\"]==Bac])\n",
    "        "
   ]
  },
  {
   "cell_type": "code",
   "execution_count": null,
   "metadata": {},
   "outputs": [],
   "source": [
    "Bac_Names=list([name[-1].strip(\"s__\") for name in Final_Table[\"Taxon\"].str.split(\"|\")])"
   ]
  },
  {
   "cell_type": "code",
   "execution_count": null,
   "metadata": {},
   "outputs": [],
   "source": [
    "fig,axs=plt.subplots(int(Final_Table.shape[0]/2),2,figsize=(4.5, 13),sharex=True,constrained_layout=False)\n",
    "for i in range(Final_Table.shape[0]):\n",
    "    x=[1,1,1,3,3,5,5,5,7,7,7]\n",
    "    x1=list(np.linspace(0.5,1.5,100))\n",
    "    x2=list(np.linspace(2.5,3.5,100))\n",
    "    x3=list(np.linspace(4.5,5.5,100))\n",
    "    x4=list(np.linspace(6.5,7.5,100))\n",
    "    x5=[1,3,3,5,7]\n",
    "    y=list(Final_Table.iloc[i,[1,2,3,4,5,11,12,13,14,15,16]])\n",
    "    y1=[statistics.median(y[0:3])]*len(x1)\n",
    "    y2=[statistics.median(y[3:5])]*len(x1)\n",
    "    y3=[statistics.median(y[5:8])]*len(x1)\n",
    "    y4=[statistics.median(y[8:11])]*len(x1)\n",
    "    y5=Final_Table.iloc[i,[6,7,8,9,10]]\n",
    "    axs[math.floor(i/2),i%2].plot(x1,y1,x2,y2,x3,y3,x4,y4,color='k',linewidth=1,linestyle=\"--\")\n",
    "    axs[math.floor(i/2),i%2].scatter(x,y,s=50,cmap='summer')\n",
    "#     axs[math.floor(i/2),i%2].scatter(x5,y5,s=70,cmap='r',marker=',')\n",
    "\n",
    "    axs[math.floor(i/2),i%2].set_xticks([1,3,5,7],['Control','DSS','RCJ','RCJ+DSS'],fontsize=8.5)\n",
    "    axs[math.floor(i/2),i%2].set_yticks(axs[math.floor(i/2),i%2].get_yticks(),fontsize=50)    \n",
    "    axs[math.floor(i/2),i%2].set_title(Bac_Names[i],fontsize=10.5)\n",
    "fig.text(0.5, 0, 'Treatment Group', ha='center',fontsize=15)\n",
    "fig.text(0, 0.5, 'Relative Abundance %', va='center', rotation='vertical',fontsize=15)\n",
    "fig.tight_layout(pad=0.2)\n",
    "fig.subplots_adjust(bottom=0.05)\n",
    "fig.savefig(\"Taxa_of_Interest.png\",dpi=600,bbox_inches=\"tight\")"
   ]
  },
  {
   "cell_type": "code",
   "execution_count": null,
   "metadata": {},
   "outputs": [],
   "source": [
    "Desired_Items=[\"AMINOGLYCOSIDE-N3-ACETYLTRANSFERASE-RXN\",\n",
    "               \"PWY-5910: superpathway of geranylgeranyldiphosphate biosynthesis I (via mevalonate)\",\n",
    "               \"TAURINE-AMINOTRANSFERASE-RXN\",\n",
    "               \"RXN-20702\",\n",
    "               \"GLUDEG-I-PWY: GABA shunt|g__Lactobacillus.s__Lactobacillus_reuteri\",\n",
    "               \"LACTOSECAT-PWY: lactose and galactose degradation I|g__Lactobacillus.s__Lactobacillus_johnsonii\"]\n",
    "Item_Name=[\"AMINOGLYCOSIDE-N3-ACETYLTRANSFERASE\".lower(),\n",
    "           \"superpathway of geranylgeranyldiphosphate biosynthesis\",\n",
    "           \"TAURINE-AMINOTRANSFERASE\".lower(),\n",
    "           \"isethionate sulfite-lyase\",\n",
    "          \"GABA shunt: Lactobacillus_reuteri\",\n",
    "          \"lactose and galactose degradation I: Lactobacillus_johnsonii\"\n",
    "          ]               "
   ]
  },
  {
   "cell_type": "code",
   "execution_count": null,
   "metadata": {},
   "outputs": [],
   "source": [
    "Path_abund=pd.read_csv(\"Merged_Pathabundance_Table_CPM_meta.tsv\",delimiter='\\t')\n",
    "Rxn_abund=pd.read_csv(\"./rxn-cpm.txt\",delimiter='\\t')"
   ]
  },
  {
   "cell_type": "code",
   "execution_count": null,
   "metadata": {},
   "outputs": [],
   "source": [
    "Final_Table=pd.DataFrame(columns = Path_abund.columns)"
   ]
  },
  {
   "cell_type": "code",
   "execution_count": null,
   "metadata": {},
   "outputs": [],
   "source": [
    "for item in Desired_Items:\n",
    "    if item in list(Path_abund[\"Sample_ID\"]):\n",
    "        Final_Table=Final_Table.append(Path_abund[Path_abund[\"Sample_ID\"]==item])\n",
    "    else:\n",
    "        Final_Table=Final_Table.append(Rxn_abund[Rxn_abund[\"Sample_ID\"]==item])\n",
    "        "
   ]
  },
  {
   "cell_type": "code",
   "execution_count": null,
   "metadata": {},
   "outputs": [],
   "source": [
    "Final_Table.reset_index(inplace=True,drop=True)"
   ]
  },
  {
   "cell_type": "code",
   "execution_count": null,
   "metadata": {},
   "outputs": [],
   "source": [
    "fig,axs=plt.subplots(int(Final_Table.shape[0]/2),2,figsize=(6, 12),sharex=True,constrained_layout=False)\n",
    "for i in range(Final_Table.shape[0]):\n",
    "    x=[1,1,1,3,3,5,5,5,7,7,7]\n",
    "    x1=list(np.linspace(0.5,1.5,100))\n",
    "    x2=list(np.linspace(2.5,3.5,100))\n",
    "    x3=list(np.linspace(4.5,5.5,100))\n",
    "    x4=list(np.linspace(6.5,7.5,100))\n",
    "    x5=[1,3,3,5,7]\n",
    "    y=list(Final_Table.iloc[i,[1,2,3,4,5,11,12,13,14,15,16]])\n",
    "    y1=[statistics.median(y[0:3])]*len(x1)\n",
    "    y2=[statistics.median(y[3:5])]*len(x1)\n",
    "    y3=[statistics.median(y[5:8])]*len(x1)\n",
    "    y4=[statistics.median(y[8:11])]*len(x1)\n",
    "    y5=Final_Table.iloc[i,[6,7,8,9,10]]\n",
    "    axs[math.floor(i/2),i%2].plot(x1,y1,x2,y2,x3,y3,x4,y4,color='k',linewidth=1,linestyle=\"--\")\n",
    "    axs[math.floor(i/2),i%2].scatter(x,y,s=50,cmap='summer')\n",
    "#     axs[math.floor(i/2),i%2].scatter(x5,y5,s=70,cmap='r',marker=',')\n",
    "\n",
    "    axs[math.floor(i/2),i%2].set_xticks([1,3,5,7],['Control','DSS','RCJ','RCJ+DSS'],fontsize=8.5)\n",
    "    axs[math.floor(i/2),i%2].set_yticks(axs[math.floor(i/2),i%2].get_yticks(),fontsize=50)    \n",
    "    axs[math.floor(i/2),i%2].set_title(Item_Name[i],fontsize=9.5)\n",
    "fig.text(0.5, 0, 'Treatment Group', ha='center',fontsize=15)\n",
    "fig.text(0, 0.5, 'Relative Abundance %', va='center', rotation='vertical',fontsize=15)\n",
    "fig.tight_layout(pad=1)\n",
    "fig.savefig(\"Rxns_of_Interest2.png\",dpi=600,bbox_inches=\"tight\")"
   ]
  },
  {
   "cell_type": "code",
   "execution_count": null,
   "metadata": {},
   "outputs": [],
   "source": []
  }
 ],
 "metadata": {
  "kernelspec": {
   "display_name": "Python 3 (ipykernel)",
   "language": "python",
   "name": "python3"
  },
  "language_info": {
   "codemirror_mode": {
    "name": "ipython",
    "version": 3
   },
   "file_extension": ".py",
   "mimetype": "text/x-python",
   "name": "python",
   "nbconvert_exporter": "python",
   "pygments_lexer": "ipython3",
   "version": "3.9.7"
  }
 },
 "nbformat": 4,
 "nbformat_minor": 4
}
