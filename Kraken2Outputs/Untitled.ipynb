{
 "cells": [
  {
   "cell_type": "code",
   "execution_count": 5,
   "id": "collect-circuit",
   "metadata": {},
   "outputs": [
    {
     "name": "stderr",
     "output_type": "stream",
     "text": [
      "Warning message in install.packages(\"vegan\"):\n",
      "“installation of package ‘vegan’ had non-zero exit status”Updating HTML index of packages in '.Library'\n",
      "Making 'packages.html' ... done\n"
     ]
    }
   ],
   "source": [
    "install.packages('vegan')"
   ]
  },
  {
   "cell_type": "code",
   "execution_count": 6,
   "id": "regional-reservoir",
   "metadata": {},
   "outputs": [
    {
     "ename": "ERROR",
     "evalue": "Error in library(vegan): there is no package called ‘vegan’\n",
     "output_type": "error",
     "traceback": [
      "Error in library(vegan): there is no package called ‘vegan’\nTraceback:\n",
      "1. library(vegan)"
     ]
    }
   ],
   "source": [
    "library(vegan)"
   ]
  },
  {
   "cell_type": "code",
   "execution_count": null,
   "id": "coordinate-arrangement",
   "metadata": {},
   "outputs": [],
   "source": []
  }
 ],
 "metadata": {
  "kernelspec": {
   "display_name": "R",
   "language": "R",
   "name": "ir"
  },
  "language_info": {
   "codemirror_mode": "r",
   "file_extension": ".r",
   "mimetype": "text/x-r-source",
   "name": "R",
   "pygments_lexer": "r",
   "version": "3.6.1"
  }
 },
 "nbformat": 4,
 "nbformat_minor": 5
}
