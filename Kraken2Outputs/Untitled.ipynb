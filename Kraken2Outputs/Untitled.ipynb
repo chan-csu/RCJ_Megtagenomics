{
 "cells": [
  {
   "cell_type": "code",
   "execution_count": 160,
   "metadata": {},
   "outputs": [],
   "source": [
    "import pandas as pd\n",
    "import os"
   ]
  },
  {
   "cell_type": "code",
   "execution_count": 161,
   "metadata": {},
   "outputs": [],
   "source": [
    "A=list([file.split(\".\")[0] for file in os.listdir('./') if \".txt\" in file ])\n",
    "A.remove('')\n",
    "A.sort()"
   ]
  },
  {
   "cell_type": "code",
   "execution_count": 162,
   "metadata": {},
   "outputs": [],
   "source": [
    "Base_Table=pd.read_table(A[0]+\".txt\",delimiter='\\t',header=None)\n",
    "Final_table={}\n",
    "Final_table['Taxonomy']=list(Base_Table[0])\n",
    "for Sample in A:\n",
    "    Final_table[Sample]=[]"
   ]
  },
  {
   "cell_type": "code",
   "execution_count": 163,
   "metadata": {},
   "outputs": [],
   "source": [
    "for Sample in A:\n",
    "    Temp_Table=pd.read_table(Sample+\".txt\",delimiter='\\t',header=None).set_index(0)\n",
    "    for taxon in Final_table['Taxonomy']:\n",
    "        Final_table[Sample].append(Temp_Table.loc[taxon,1])\n",
    "        "
   ]
  },
  {
   "cell_type": "code",
   "execution_count": 164,
   "metadata": {},
   "outputs": [],
   "source": [
    "FT=pd.DataFrame(Final_table)"
   ]
  },
  {
   "cell_type": "code",
   "execution_count": 165,
   "metadata": {},
   "outputs": [],
   "source": [
    "FT.set_index(\"Taxonomy\",inplace=True)"
   ]
  },
  {
   "cell_type": "code",
   "execution_count": 166,
   "metadata": {},
   "outputs": [],
   "source": [
    "FT=FT[FT.sum(axis=1)>1000]"
   ]
  },
  {
   "cell_type": "code",
   "execution_count": 167,
   "metadata": {},
   "outputs": [],
   "source": [
    "FT.to_csv('Clean_Table_Not_Normalized.csv')"
   ]
  },
  {
   "cell_type": "code",
   "execution_count": 168,
   "metadata": {},
   "outputs": [],
   "source": [
    "FT.reset_index(inplace=True)"
   ]
  },
  {
   "cell_type": "code",
   "execution_count": 169,
   "metadata": {},
   "outputs": [],
   "source": [
    "Rank=FT.groupby(list(map(len,FT['Taxonomy'].str.split('|'))))"
   ]
  },
  {
   "cell_type": "code",
   "execution_count": 170,
   "metadata": {},
   "outputs": [],
   "source": [
    "Domain=Rank.get_group(1).set_index('Taxonomy')"
   ]
  },
  {
   "cell_type": "code",
   "execution_count": 171,
   "metadata": {},
   "outputs": [],
   "source": [
    "Phylum=Rank.get_group(2).set_index(\"Taxonomy\")"
   ]
  },
  {
   "cell_type": "code",
   "execution_count": 172,
   "metadata": {},
   "outputs": [],
   "source": [
    "Class=Rank.get_group(3).set_index(\"Taxonomy\")"
   ]
  },
  {
   "cell_type": "code",
   "execution_count": 173,
   "metadata": {},
   "outputs": [],
   "source": [
    "Order=Rank.get_group(4).set_index(\"Taxonomy\")"
   ]
  },
  {
   "cell_type": "code",
   "execution_count": 174,
   "metadata": {},
   "outputs": [],
   "source": [
    "Family=Rank.get_group(5).set_index(\"Taxonomy\")"
   ]
  },
  {
   "cell_type": "code",
   "execution_count": 175,
   "metadata": {},
   "outputs": [],
   "source": [
    "Group=Rank.get_group(6).set_index(\"Taxonomy\")"
   ]
  },
  {
   "cell_type": "code",
   "execution_count": 176,
   "metadata": {},
   "outputs": [],
   "source": [
    "Species=Rank.get_group(7).set_index(\"Taxonomy\")"
   ]
  },
  {
   "cell_type": "code",
   "execution_count": 177,
   "metadata": {},
   "outputs": [],
   "source": [
    "Inds=[\"Control_328\",\"Control_330\",\"Control_327\",\n",
    "      \"DSS_334\",\"DSS_339\",\"RCE_322\",\"RCE_318\",\"RCE_319\"\n",
    "      ,\"RCE_plus_DSS_305\",\"RCE_plus_DSS_313\",\"RCE_plus_DSS_301\"]"
   ]
  },
  {
   "cell_type": "code",
   "execution_count": 178,
   "metadata": {},
   "outputs": [],
   "source": [
    "Phylum_Inds=Phylum.loc[:,Inds]\n",
    "Class_Inds=Class.loc[:,Inds]\n",
    "Order_Inds=Order.loc[:,Inds]\n",
    "Family_Inds=Family.loc[:,Inds]\n",
    "Group_Inds=Group.loc[:,Inds]\n",
    "Species_Inds=Species.loc[:,Inds]"
   ]
  },
  {
   "cell_type": "code",
   "execution_count": 179,
   "metadata": {},
   "outputs": [],
   "source": [
    "To_Write=[Phylum,Class,Order,Family,Group,Species,Phylum_Inds,Class_Inds,Order_Inds,Family_Inds,Group_Inds,Species_Inds]"
   ]
  },
  {
   "cell_type": "code",
   "execution_count": 180,
   "metadata": {},
   "outputs": [],
   "source": [
    "Names=\"Phylum,Class,Order,Family,Group,Species,Phylum_Inds,Class_Inds,Order_Inds,Family_Inds,Group_Inds,Species_Inds\".split(\",\")"
   ]
  },
  {
   "cell_type": "code",
   "execution_count": 181,
   "metadata": {},
   "outputs": [],
   "source": [
    "for index,file in enumerate(To_Write):\n",
    "    file.to_csv(\"Cleaned_Tables/\"+Names[index]+'.csv')"
   ]
  },
  {
   "cell_type": "code",
   "execution_count": null,
   "metadata": {},
   "outputs": [],
   "source": []
  }
 ],
 "metadata": {
  "kernelspec": {
   "display_name": "Python 3.8.5 64-bit ('anaconda3': virtualenv)",
   "language": "python",
   "name": "python385jvsc74a57bd06240d66e354a59fbc556f1af935607572ff59ed4440b19d8c7af68da4947b349"
  },
  "language_info": {
   "codemirror_mode": {
    "name": "ipython",
    "version": 3
   },
   "file_extension": ".py",
   "mimetype": "text/x-python",
   "name": "python",
   "nbconvert_exporter": "python",
   "pygments_lexer": "ipython3",
   "version": "3.8.5"
  }
 },
 "nbformat": 4,
 "nbformat_minor": 4
}
