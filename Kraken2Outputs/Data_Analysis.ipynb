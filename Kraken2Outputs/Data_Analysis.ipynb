{
 "cells": [
  {
   "cell_type": "code",
   "execution_count": 35,
   "metadata": {},
   "outputs": [],
   "source": [
    "import pandas as pd\n",
    "import os"
   ]
  },
  {
   "cell_type": "code",
   "execution_count": 36,
   "metadata": {},
   "outputs": [],
   "source": [
    "A=list([file.split(\".\")[0] for file in os.listdir('./') if \".txt\" in file ])\n",
    "A.remove('')\n",
    "A.sort()"
   ]
  },
  {
   "cell_type": "code",
   "execution_count": 37,
   "metadata": {},
   "outputs": [],
   "source": [
    "Base_Table=pd.read_table(A[0]+\".txt\",delimiter='\\t',header=None)\n",
    "Final_table={}\n",
    "Final_table['Taxonomy']=list(Base_Table[0])\n",
    "for Sample in A:\n",
    "    Final_table[Sample]=[]"
   ]
  },
  {
   "cell_type": "code",
   "execution_count": 38,
   "metadata": {},
   "outputs": [],
   "source": [
    "for Sample in A:\n",
    "    Temp_Table=pd.read_table(Sample+\".txt\",delimiter='\\t',header=None).set_index(0)\n",
    "    for taxon in Final_table['Taxonomy']:\n",
    "        Final_table[Sample].append(Temp_Table.loc[taxon,1])\n",
    "        "
   ]
  },
  {
   "cell_type": "code",
   "execution_count": 39,
   "metadata": {},
   "outputs": [],
   "source": [
    "FT=pd.DataFrame(Final_table)"
   ]
  },
  {
   "cell_type": "code",
   "execution_count": 40,
   "metadata": {},
   "outputs": [],
   "source": [
    "FT.set_index(\"Taxonomy\",inplace=True)"
   ]
  },
  {
   "cell_type": "code",
   "execution_count": 41,
   "metadata": {},
   "outputs": [],
   "source": [
    "FT=FT[FT.sum(axis=1)>10000]"
   ]
  },
  {
   "cell_type": "code",
   "execution_count": 42,
   "metadata": {},
   "outputs": [],
   "source": [
    "FT.to_csv('Clean_Table_Not_Normalized.csv')"
   ]
  },
  {
   "cell_type": "code",
   "execution_count": 43,
   "metadata": {},
   "outputs": [],
   "source": [
    "FT.reset_index(inplace=True)"
   ]
  },
  {
   "cell_type": "code",
   "execution_count": 44,
   "metadata": {},
   "outputs": [],
   "source": [
    "Rank=FT.groupby(list(map(len,FT['Taxonomy'].str.split('|'))))"
   ]
  },
  {
   "cell_type": "code",
   "execution_count": 45,
   "metadata": {},
   "outputs": [],
   "source": [
    "Domain=Rank.get_group(1).set_index('Taxonomy')"
   ]
  },
  {
   "cell_type": "code",
   "execution_count": 46,
   "metadata": {},
   "outputs": [],
   "source": [
    "Phylum=Rank.get_group(2).set_index(\"Taxonomy\")"
   ]
  },
  {
   "cell_type": "code",
   "execution_count": 47,
   "metadata": {},
   "outputs": [],
   "source": [
    "Class=Rank.get_group(3).set_index(\"Taxonomy\")"
   ]
  },
  {
   "cell_type": "code",
   "execution_count": 48,
   "metadata": {},
   "outputs": [],
   "source": [
    "Order=Rank.get_group(4).set_index(\"Taxonomy\")"
   ]
  },
  {
   "cell_type": "code",
   "execution_count": 49,
   "metadata": {},
   "outputs": [],
   "source": [
    "Family=Rank.get_group(5).set_index(\"Taxonomy\")"
   ]
  },
  {
   "cell_type": "code",
   "execution_count": 50,
   "metadata": {},
   "outputs": [],
   "source": [
    "Group=Rank.get_group(6).set_index(\"Taxonomy\")"
   ]
  },
  {
   "cell_type": "code",
   "execution_count": 51,
   "metadata": {},
   "outputs": [],
   "source": [
    "Species=Rank.get_group(7).set_index(\"Taxonomy\")"
   ]
  },
  {
   "cell_type": "code",
   "execution_count": 52,
   "metadata": {},
   "outputs": [],
   "source": [
    "Inds=[\"Control_328\",\"Control_330\",\"Control_327\",\n",
    "      \"DSS_334\",\"DSS_339\",\"RCE_322\",\"RCE_318\",\"RCE_319\"\n",
    "      ,\"RCE_plus_DSS_305\",\"RCE_plus_DSS_313\",\"RCE_plus_DSS_301\"]"
   ]
  },
  {
   "cell_type": "code",
   "execution_count": 53,
   "metadata": {},
   "outputs": [],
   "source": [
    "Phylum_Inds=Phylum.loc[:,Inds]\n",
    "Class_Inds=Class.loc[:,Inds]\n",
    "Order_Inds=Order.loc[:,Inds]\n",
    "Family_Inds=Family.loc[:,Inds]\n",
    "Group_Inds=Group.loc[:,Inds]\n",
    "Species_Inds=Species.loc[:,Inds]"
   ]
  },
  {
   "cell_type": "code",
   "execution_count": 54,
   "metadata": {},
   "outputs": [],
   "source": [
    "To_Write=[Phylum,Class,Order,Family,Group,Species,Phylum_Inds,Class_Inds,Order_Inds,Family_Inds,Group_Inds,Species_Inds]"
   ]
  },
  {
   "cell_type": "code",
   "execution_count": 55,
   "metadata": {},
   "outputs": [],
   "source": [
    "Names=\"Phylum,Class,Order,Family,Group,Species,Phylum_Inds,Class_Inds,Order_Inds,Family_Inds,Group_Inds,Species_Inds\".split(\",\")"
   ]
  },
  {
   "cell_type": "code",
   "execution_count": 56,
   "metadata": {},
   "outputs": [],
   "source": [
    "for index,file in enumerate(To_Write):\n",
    "    file.to_csv(\"Cleaned_Tables/\"+Names[index]+'.csv')"
   ]
  },
  {
   "cell_type": "code",
   "execution_count": 57,
   "metadata": {},
   "outputs": [],
   "source": [
    "Species_TSS=Species.copy()\n",
    "Group_TSS=Group.copy()\n",
    "Family_TSS=Family.copy()\n",
    "Phylum_TSS=Phylum.copy()\n"
   ]
  },
  {
   "cell_type": "code",
   "execution_count": 58,
   "metadata": {},
   "outputs": [],
   "source": [
    "for i in range(Species_TSS.shape[1]):\n",
    "    Species_TSS.iloc[:,i]=Species_TSS.iloc[:,i]/Species_TSS.iloc[:,i].sum()*100\n",
    "for i in range(Group_TSS.shape[1]):\n",
    "    Group_TSS.iloc[:,i]=Group_TSS.iloc[:,i]/Group_TSS.iloc[:,i].sum()*100\n",
    "for i in range(Family_TSS.shape[1]):\n",
    "    Family_TSS.iloc[:,i]=Family_TSS.iloc[:,i]/Family_TSS.iloc[:,i].sum()*100\n",
    "for i in range(Phylum_TSS.shape[1]):\n",
    "    Phylum_TSS.iloc[:,i]=Phylum_TSS.iloc[:,i]/Phylum_TSS.iloc[:,i].sum()*100"
   ]
  },
  {
   "cell_type": "code",
   "execution_count": 59,
   "metadata": {},
   "outputs": [],
   "source": [
    "Species_TSS.to_csv(\"Species_TSS.csv\")\n",
    "Group_TSS.to_csv(\"Group_TSS.csv\")\n",
    "Family_TSS.to_csv(\"Family_TSS.csv\")\n",
    "Phylum_TSS.to_csv(\"Phylum_TSS.csv\")\n"
   ]
  },
  {
   "cell_type": "code",
   "execution_count": 60,
   "metadata": {},
   "outputs": [
    {
     "data": {
      "text/plain": [
       "99.99999999999999"
      ]
     },
     "execution_count": 60,
     "metadata": {},
     "output_type": "execute_result"
    }
   ],
   "source": [
    "Group_TSS.iloc[:,2].sum()"
   ]
  },
  {
   "cell_type": "code",
   "execution_count": 61,
   "metadata": {},
   "outputs": [
    {
     "data": {
      "text/plain": [
       "Taxonomy\n",
       "d__Bacteria|p__Bacteroidetes|c__Bacteroidia|o__Bacteroidales|f__Muribaculaceae|g__Duncaniella                  0.171380\n",
       "d__Bacteria|p__Bacteroidetes|c__Bacteroidia|o__Bacteroidales|f__Muribaculaceae|g__Muribaculum                  0.236730\n",
       "d__Bacteria|p__Bacteroidetes|c__Bacteroidia|o__Bacteroidales|f__Muribaculaceae|g__Sodaliphilus                 0.007929\n",
       "d__Bacteria|p__Bacteroidetes|c__Bacteroidia|o__Bacteroidales|f__Bacteroidaceae|g__Bacteroides                  0.097661\n",
       "d__Bacteria|p__Bacteroidetes|c__Bacteroidia|o__Bacteroidales|f__Rikenellaceae|g__Alistipes                     0.031550\n",
       "                                                                                                                 ...   \n",
       "d__Bacteria|p__Fusobacteria|c__Fusobacteriia|o__Fusobacteriales|f__Fusobacteriaceae|g__Fusobacterium           0.000619\n",
       "d__Bacteria|p__Fusobacteria|c__Fusobacteriia|o__Fusobacteriales|f__Leptotrichiaceae|g__Leptotrichia            0.000228\n",
       "d__Eukaryota|k__Metazoa|p__Chordata|c__Dipnotetrapodomorpha|c__Mammalia|o__Primates                            0.083810\n",
       "d__Archaea|p__Euryarchaeota|c__Methanomicrobia|o__Methanosarcinales|f__Methanosarcinaceae|g__Methanosarcina    0.000143\n",
       "d__Viruses|k__Pararnavirae|p__Artverviricota|c__Revtraviricetes|o__Ortervirales|f__Retroviridae                0.000072\n",
       "Name: Start, Length: 283, dtype: float64"
      ]
     },
     "execution_count": 61,
     "metadata": {},
     "output_type": "execute_result"
    }
   ],
   "source": [
    "Group_TSS.iloc[:,i]/Group_TSS.iloc[:,i].sum()"
   ]
  },
  {
   "cell_type": "code",
   "execution_count": null,
   "metadata": {},
   "outputs": [],
   "source": []
  }
 ],
 "metadata": {
  "kernelspec": {
   "display_name": "Python 3",
   "language": "python",
   "name": "python3"
  },
  "language_info": {
   "codemirror_mode": {
    "name": "ipython",
    "version": 3
   },
   "file_extension": ".py",
   "mimetype": "text/x-python",
   "name": "python",
   "nbconvert_exporter": "python",
   "pygments_lexer": "ipython3",
   "version": "3.8.8"
  }
 },
 "nbformat": 4,
 "nbformat_minor": 4
}
