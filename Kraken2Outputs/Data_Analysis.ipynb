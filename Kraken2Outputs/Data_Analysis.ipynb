{
 "cells": [
  {
   "cell_type": "code",
   "execution_count": 1,
   "metadata": {},
   "outputs": [],
   "source": [
    "import pandas as pd\n",
    "import os"
   ]
  },
  {
   "cell_type": "code",
   "execution_count": 2,
   "metadata": {},
   "outputs": [],
   "source": [
    "A=list([file.split(\".\")[0] for file in os.listdir('./') if \".txt\" in file ])\n",
    "A.remove('')\n",
    "A.sort()"
   ]
  },
  {
   "cell_type": "code",
   "execution_count": 3,
   "metadata": {},
   "outputs": [],
   "source": [
    "Base_Table=pd.read_table(A[0]+\".txt\",delimiter='\\t',header=None)\n",
    "Final_table={}\n",
    "Final_table['Taxonomy']=list(Base_Table[0])\n",
    "for Sample in A:\n",
    "    Final_table[Sample]=[]"
   ]
  },
  {
   "cell_type": "code",
   "execution_count": 4,
   "metadata": {},
   "outputs": [],
   "source": [
    "for Sample in A:\n",
    "    Temp_Table=pd.read_table(Sample+\".txt\",delimiter='\\t',header=None).set_index(0)\n",
    "    for taxon in Final_table['Taxonomy']:\n",
    "        Final_table[Sample].append(Temp_Table.loc[taxon,1])\n",
    "        "
   ]
  },
  {
   "cell_type": "code",
   "execution_count": 5,
   "metadata": {},
   "outputs": [],
   "source": [
    "FT=pd.DataFrame(Final_table)"
   ]
  },
  {
   "cell_type": "code",
   "execution_count": 6,
   "metadata": {},
   "outputs": [],
   "source": [
    "FT.set_index(\"Taxonomy\",inplace=True)"
   ]
  },
  {
   "cell_type": "code",
   "execution_count": 7,
   "metadata": {},
   "outputs": [],
   "source": [
    "FT=FT[FT.sum(axis=1)>1000]"
   ]
  },
  {
   "cell_type": "code",
   "execution_count": 8,
   "metadata": {},
   "outputs": [],
   "source": [
    "FT.to_csv('Clean_Table_Not_Normalized.csv')"
   ]
  },
  {
   "cell_type": "code",
   "execution_count": 9,
   "metadata": {},
   "outputs": [],
   "source": [
    "FT.reset_index(inplace=True)"
   ]
  },
  {
   "cell_type": "code",
   "execution_count": 10,
   "metadata": {},
   "outputs": [],
   "source": [
    "Rank=FT.groupby(list(map(len,FT['Taxonomy'].str.split('|'))))"
   ]
  },
  {
   "cell_type": "code",
   "execution_count": 11,
   "metadata": {},
   "outputs": [],
   "source": [
    "Domain=Rank.get_group(1).set_index('Taxonomy')"
   ]
  },
  {
   "cell_type": "code",
   "execution_count": 12,
   "metadata": {},
   "outputs": [],
   "source": [
    "Phylum=Rank.get_group(2).set_index(\"Taxonomy\")"
   ]
  },
  {
   "cell_type": "code",
   "execution_count": 13,
   "metadata": {},
   "outputs": [],
   "source": [
    "Class=Rank.get_group(3).set_index(\"Taxonomy\")"
   ]
  },
  {
   "cell_type": "code",
   "execution_count": 14,
   "metadata": {},
   "outputs": [],
   "source": [
    "Order=Rank.get_group(4).set_index(\"Taxonomy\")"
   ]
  },
  {
   "cell_type": "code",
   "execution_count": 15,
   "metadata": {},
   "outputs": [],
   "source": [
    "Family=Rank.get_group(5).set_index(\"Taxonomy\")"
   ]
  },
  {
   "cell_type": "code",
   "execution_count": 16,
   "metadata": {},
   "outputs": [],
   "source": [
    "Group=Rank.get_group(6).set_index(\"Taxonomy\")"
   ]
  },
  {
   "cell_type": "code",
   "execution_count": 17,
   "metadata": {},
   "outputs": [],
   "source": [
    "Species=Rank.get_group(7).set_index(\"Taxonomy\")"
   ]
  },
  {
   "cell_type": "code",
   "execution_count": 18,
   "metadata": {},
   "outputs": [],
   "source": [
    "Inds=[\"Control_328\",\"Control_330\",\"Control_327\",\n",
    "      \"DSS_334\",\"DSS_339\",\"RCE_322\",\"RCE_318\",\"RCE_319\"\n",
    "      ,\"RCE_plus_DSS_305\",\"RCE_plus_DSS_313\",\"RCE_plus_DSS_301\"]"
   ]
  },
  {
   "cell_type": "code",
   "execution_count": 19,
   "metadata": {},
   "outputs": [],
   "source": [
    "Phylum_Inds=Phylum.loc[:,Inds]\n",
    "Class_Inds=Class.loc[:,Inds]\n",
    "Order_Inds=Order.loc[:,Inds]\n",
    "Family_Inds=Family.loc[:,Inds]\n",
    "Group_Inds=Group.loc[:,Inds]\n",
    "Species_Inds=Species.loc[:,Inds]"
   ]
  },
  {
   "cell_type": "code",
   "execution_count": 20,
   "metadata": {},
   "outputs": [],
   "source": [
    "To_Write=[Phylum,Class,Order,Family,Group,Species,Phylum_Inds,Class_Inds,Order_Inds,Family_Inds,Group_Inds,Species_Inds]"
   ]
  },
  {
   "cell_type": "code",
   "execution_count": 21,
   "metadata": {},
   "outputs": [],
   "source": [
    "Names=\"Phylum,Class,Order,Family,Group,Species,Phylum_Inds,Class_Inds,Order_Inds,Family_Inds,Group_Inds,Species_Inds\".split(\",\")"
   ]
  },
  {
   "cell_type": "code",
   "execution_count": 22,
   "metadata": {},
   "outputs": [],
   "source": [
    "for index,file in enumerate(To_Write):\n",
    "    file.to_csv(\"Cleaned_Tables/\"+Names[index]+'.csv')"
   ]
  },
  {
   "cell_type": "code",
   "execution_count": 30,
   "metadata": {},
   "outputs": [],
   "source": [
    "Species_TSS=Species.copy()\n",
    "Group_TSS=Group.copy()\n",
    "Family_TSS=Family.copy()\n",
    "Phylum_TSS=Phylum.copy()\n"
   ]
  },
  {
   "cell_type": "code",
   "execution_count": 28,
   "metadata": {},
   "outputs": [],
   "source": [
    "for i in range(Species_TSS.shape[1]):\n",
    "    Species_TSS.iloc[:,i]=Species_TSS.iloc[:,i]/Species_TSS.iloc[:,i].sum()*100\n",
    "for i in range(Group_TSS.shape[1]):\n",
    "    Group_TSS.iloc[:,i]=Group_TSS.iloc[:,i]/Group_TSS.iloc[:,i].sum()*100\n",
    "for i in range(Family_TSS.shape[1]):\n",
    "    Family_TSS.iloc[:,i]=Family_TSS.iloc[:,i]/Family_TSS.iloc[:,i].sum()*100\n",
    "for i in range(Phylum_TSS.shape[1]):\n",
    "    Phylum_TSS.iloc[:,i]=Phylum_TSS.iloc[:,i]/Phylum_TSS.iloc[:,i].sum()*100"
   ]
  },
  {
   "cell_type": "code",
   "execution_count": 29,
   "metadata": {},
   "outputs": [],
   "source": [
    "Species_TSS.to_csv(\"Species_TSS.csv\")\n",
    "Group_TSS.to_csv(\"Group_TSS.csv\")\n",
    "Family_TSS.to_csv(\"Family_TSS.csv\")\n",
    "Phylum_TSS.to_csv(\"Phylum_TSS.csv\")\n"
   ]
  },
  {
   "cell_type": "code",
   "execution_count": 33,
   "metadata": {},
   "outputs": [
    {
     "data": {
      "text/plain": [
       "5409563"
      ]
     },
     "execution_count": 33,
     "metadata": {},
     "output_type": "execute_result"
    }
   ],
   "source": [
    "Group_TSS.iloc[:,2].sum()"
   ]
  },
  {
   "cell_type": "code",
   "execution_count": 34,
   "metadata": {},
   "outputs": [
    {
     "data": {
      "text/plain": [
       "Taxonomy\n",
       "d__Bacteria|p__Bacteroidetes|c__Bacteroidia|o__Bacteroidales|f__Muribaculaceae|g__Duncaniella               0.164779\n",
       "d__Bacteria|p__Bacteroidetes|c__Bacteroidia|o__Bacteroidales|f__Muribaculaceae|g__Muribaculum               0.227612\n",
       "d__Bacteria|p__Bacteroidetes|c__Bacteroidia|o__Bacteroidales|f__Muribaculaceae|g__Sodaliphilus              0.007624\n",
       "d__Bacteria|p__Bacteroidetes|c__Bacteroidia|o__Bacteroidales|f__Bacteroidaceae|g__Bacteroides               0.093899\n",
       "d__Bacteria|p__Bacteroidetes|c__Bacteroidia|o__Bacteroidales|f__Rikenellaceae|g__Alistipes                  0.030335\n",
       "                                                                                                              ...   \n",
       "d__Viruses|p__Uroviricota|c__Caudoviricetes|o__Caudovirales|f__Herelleviridae|s__Bacillus phage Eldridge    0.000004\n",
       "d__Viruses|k__Pararnavirae|p__Artverviricota|c__Revtraviricetes|o__Ortervirales|f__Retroviridae             0.000069\n",
       "d__Viruses|k__Bamfordvirae|p__Nucleocytoviricota|c__Megaviricetes|o__Imitervirales|f__Mimiviridae           0.000053\n",
       "d__Viruses|k__Bamfordvirae|p__Nucleocytoviricota|c__Megaviricetes|o__Algavirales|f__Phycodnaviridae         0.000045\n",
       "d__Viruses|k__Bamfordvirae|p__Nucleocytoviricota|c__Pokkesviricetes|o__Chitovirales|f__Poxviridae           0.000029\n",
       "Name: Start, Length: 1370, dtype: float64"
      ]
     },
     "execution_count": 34,
     "metadata": {},
     "output_type": "execute_result"
    }
   ],
   "source": [
    "Group_TSS.iloc[:,i]/Group_TSS.iloc[:,i].sum()"
   ]
  },
  {
   "cell_type": "code",
   "execution_count": null,
   "metadata": {},
   "outputs": [],
   "source": []
  }
 ],
 "metadata": {
  "kernelspec": {
   "display_name": "Python 3",
   "language": "python",
   "name": "python3"
  },
  "language_info": {
   "codemirror_mode": {
    "name": "ipython",
    "version": 3
   },
   "file_extension": ".py",
   "mimetype": "text/x-python",
   "name": "python",
   "nbconvert_exporter": "python",
   "pygments_lexer": "ipython3",
   "version": "3.8.8"
  }
 },
 "nbformat": 4,
 "nbformat_minor": 4
}
